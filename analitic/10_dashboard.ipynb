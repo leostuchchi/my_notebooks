{
  "cells": [
    {
      "cell_type": "markdown",
      "metadata": {
        "id": "HnvGq8SYQ03O"
      },
      "source": [
        "Кейс: a/b-тест для мобильного приложения.\n",
        "\n",
        "Имеется мобильное приложение для магазина по продаже продуктов питания. Выдвинута гипотеза о том, что смена шрифтов улучшит качество обслуживания по количеству клиентов, совершающих каждое событие. Для проверки этой гипотезы принято решение провести A/B-тест.   \n",
        "\n",
        "Договорились принять решение по результатам A/B-теста.\n",
        "Пользователей разбили на 2 группы: 247 -- контрольная группа со старыми шрифтами; 248 -- экспериментальная с новыми шрифтами.\n",
        "\n",
        "Описание данных\n",
        "\n",
        "|Признак|Комментарий|\n",
        "|--:|:--|\n",
        "|`EventName`|название события|\n",
        "|`DeviceIDHash`|уникальный идентификатор пользователя|\n",
        "|`EventTimestamp`|время события|\n",
        "|`ExpId`|номер группы|\n",
        "\n",
        "Инструкция по выполнению проекта\n",
        "\n",
        "Шаг 1. Загрузите данные\n",
        "- Знакомство с данными;\n",
        "- Корректность a/b-теста.\n",
        "\n",
        "Шаг 2. Подготовьте данные\n",
        "- Корректировка заголовков;\n",
        "- Типы данных;\n",
        "- Аномалии пропуски.\n",
        "\n",
        "Шаг 3. EDA\n",
        "- Cколько всего событий?\n",
        "- Сколько всего пользователей в логе?\n",
        "- Сколько в среднем событий приходится на пользователя?\n",
        "- Период теста: максимальная и минимальная даты; гистограмма по дате и количеству событий.\n",
        "\n",
        "Шаг 4. Анализ воронки событий\n",
        "- Распределение событий: какие события и в каком количестве.\n",
        "- Сколько пользователей совершали каждое из этих событий?\n",
        "- Постройте воронку событий: какая доля пользователей проходит на следующий шаг воронки. На каком шаге теряете больше всего пользователей?\n",
        "Какая доля пользователей доходит от первого события до оплаты?\n",
        "\n",
        "Шаг 5. Анализ результатов эксперимента\n",
        "- Сколько пользователей в каждой группе?\n",
        "- Посчитайте долю пользователей, совершивших каждое из событий.\n",
        "- Проверьте гипотезу о наличие значимых отличий по результатам теста.\n",
        "\n",
        "С помощью Yandex DataLens создайте дашборд, отвечащий на следующие вопросы:\n",
        "- сколько уникальных клиентов в группах 247 и 248;\n",
        "- сколько уникальных клиентов совершили события по каждой группе;\n",
        "- по каждой группе построить распределение количества событий по времени.\n",
        "\n",
        "Ссылку на дашборд прикрепите к настоящей тетради."
      ]
    },
    {
      "cell_type": "code",
      "execution_count": 120,
      "metadata": {},
      "outputs": [],
      "source": [
        "import pandas as pd\n",
        "import numpy as np\n",
        "import matplotlib.pyplot as plt\n",
        "import seaborn as sns\n",
        "import datetime as dt\n",
        "from glob import glob"
      ]
    },
    {
      "cell_type": "code",
      "execution_count": 121,
      "metadata": {},
      "outputs": [
        {
          "data": {
            "text/html": [
              "<div>\n",
              "<style scoped>\n",
              "    .dataframe tbody tr th:only-of-type {\n",
              "        vertical-align: middle;\n",
              "    }\n",
              "\n",
              "    .dataframe tbody tr th {\n",
              "        vertical-align: top;\n",
              "    }\n",
              "\n",
              "    .dataframe thead th {\n",
              "        text-align: right;\n",
              "    }\n",
              "</style>\n",
              "<table border=\"1\" class=\"dataframe\">\n",
              "  <thead>\n",
              "    <tr style=\"text-align: right;\">\n",
              "      <th></th>\n",
              "      <th>EventName</th>\n",
              "      <th>DeviceIDHash</th>\n",
              "      <th>EventTimestamp</th>\n",
              "      <th>ExpId</th>\n",
              "    </tr>\n",
              "  </thead>\n",
              "  <tbody>\n",
              "    <tr>\n",
              "      <th>0</th>\n",
              "      <td>MainScreenAppear</td>\n",
              "      <td>4575588528974610257</td>\n",
              "      <td>1564029816</td>\n",
              "      <td>246</td>\n",
              "    </tr>\n",
              "    <tr>\n",
              "      <th>1</th>\n",
              "      <td>MainScreenAppear</td>\n",
              "      <td>7416695313311560658</td>\n",
              "      <td>1564053102</td>\n",
              "      <td>246</td>\n",
              "    </tr>\n",
              "    <tr>\n",
              "      <th>2</th>\n",
              "      <td>PaymentScreenSuccessful</td>\n",
              "      <td>3518123091307005509</td>\n",
              "      <td>1564054127</td>\n",
              "      <td>248</td>\n",
              "    </tr>\n",
              "    <tr>\n",
              "      <th>3</th>\n",
              "      <td>CartScreenAppear</td>\n",
              "      <td>3518123091307005509</td>\n",
              "      <td>1564054127</td>\n",
              "      <td>248</td>\n",
              "    </tr>\n",
              "    <tr>\n",
              "      <th>4</th>\n",
              "      <td>PaymentScreenSuccessful</td>\n",
              "      <td>6217807653094995999</td>\n",
              "      <td>1564055322</td>\n",
              "      <td>248</td>\n",
              "    </tr>\n",
              "    <tr>\n",
              "      <th>...</th>\n",
              "      <td>...</td>\n",
              "      <td>...</td>\n",
              "      <td>...</td>\n",
              "      <td>...</td>\n",
              "    </tr>\n",
              "    <tr>\n",
              "      <th>244121</th>\n",
              "      <td>MainScreenAppear</td>\n",
              "      <td>4599628364049201812</td>\n",
              "      <td>1565212345</td>\n",
              "      <td>247</td>\n",
              "    </tr>\n",
              "    <tr>\n",
              "      <th>244122</th>\n",
              "      <td>MainScreenAppear</td>\n",
              "      <td>5849806612437486590</td>\n",
              "      <td>1565212439</td>\n",
              "      <td>246</td>\n",
              "    </tr>\n",
              "    <tr>\n",
              "      <th>244123</th>\n",
              "      <td>MainScreenAppear</td>\n",
              "      <td>5746969938801999050</td>\n",
              "      <td>1565212483</td>\n",
              "      <td>246</td>\n",
              "    </tr>\n",
              "    <tr>\n",
              "      <th>244124</th>\n",
              "      <td>MainScreenAppear</td>\n",
              "      <td>5746969938801999050</td>\n",
              "      <td>1565212498</td>\n",
              "      <td>246</td>\n",
              "    </tr>\n",
              "    <tr>\n",
              "      <th>244125</th>\n",
              "      <td>OffersScreenAppear</td>\n",
              "      <td>5746969938801999050</td>\n",
              "      <td>1565212517</td>\n",
              "      <td>246</td>\n",
              "    </tr>\n",
              "  </tbody>\n",
              "</table>\n",
              "<p>244126 rows × 4 columns</p>\n",
              "</div>"
            ],
            "text/plain": [
              "                      EventName         DeviceIDHash  EventTimestamp  ExpId\n",
              "0              MainScreenAppear  4575588528974610257      1564029816    246\n",
              "1              MainScreenAppear  7416695313311560658      1564053102    246\n",
              "2       PaymentScreenSuccessful  3518123091307005509      1564054127    248\n",
              "3              CartScreenAppear  3518123091307005509      1564054127    248\n",
              "4       PaymentScreenSuccessful  6217807653094995999      1564055322    248\n",
              "...                         ...                  ...             ...    ...\n",
              "244121         MainScreenAppear  4599628364049201812      1565212345    247\n",
              "244122         MainScreenAppear  5849806612437486590      1565212439    246\n",
              "244123         MainScreenAppear  5746969938801999050      1565212483    246\n",
              "244124         MainScreenAppear  5746969938801999050      1565212498    246\n",
              "244125       OffersScreenAppear  5746969938801999050      1565212517    246\n",
              "\n",
              "[244126 rows x 4 columns]"
            ]
          },
          "execution_count": 121,
          "metadata": {},
          "output_type": "execute_result"
        }
      ],
      "source": [
        "# загрузка данных\n",
        "df = pd.read_csv('ab_testing.csv',\n",
        "                 sep='\\t')\n",
        "df"
      ]
    },
    {
      "cell_type": "code",
      "execution_count": 122,
      "metadata": {},
      "outputs": [
        {
          "name": "stdout",
          "output_type": "stream",
          "text": [
            "<class 'pandas.core.frame.DataFrame'>\n",
            "RangeIndex: 244126 entries, 0 to 244125\n",
            "Data columns (total 4 columns):\n",
            " #   Column          Non-Null Count   Dtype \n",
            "---  ------          --------------   ----- \n",
            " 0   EventName       244126 non-null  object\n",
            " 1   DeviceIDHash    244126 non-null  int64 \n",
            " 2   EventTimestamp  244126 non-null  int64 \n",
            " 3   ExpId           244126 non-null  int64 \n",
            "dtypes: int64(3), object(1)\n",
            "memory usage: 7.5+ MB\n"
          ]
        }
      ],
      "source": [
        "# информация о наборе данных\n",
        "df.info()"
      ]
    },
    {
      "cell_type": "code",
      "execution_count": 123,
      "metadata": {},
      "outputs": [
        {
          "data": {
            "text/plain": [
              "ExpId\n",
              "246    2489\n",
              "247    2520\n",
              "248    2542\n",
              "Name: DeviceIDHash, dtype: int64"
            ]
          },
          "execution_count": 123,
          "metadata": {},
          "output_type": "execute_result"
        }
      ],
      "source": [
        "df.groupby('ExpId').DeviceIDHash.nunique()"
      ]
    },
    {
      "cell_type": "code",
      "execution_count": 124,
      "metadata": {},
      "outputs": [
        {
          "data": {
            "text/html": [
              "<div>\n",
              "<style scoped>\n",
              "    .dataframe tbody tr th:only-of-type {\n",
              "        vertical-align: middle;\n",
              "    }\n",
              "\n",
              "    .dataframe tbody tr th {\n",
              "        vertical-align: top;\n",
              "    }\n",
              "\n",
              "    .dataframe thead th {\n",
              "        text-align: right;\n",
              "    }\n",
              "</style>\n",
              "<table border=\"1\" class=\"dataframe\">\n",
              "  <thead>\n",
              "    <tr style=\"text-align: right;\">\n",
              "      <th></th>\n",
              "      <th>id</th>\n",
              "      <th>gr</th>\n",
              "    </tr>\n",
              "  </thead>\n",
              "  <tbody>\n",
              "    <tr>\n",
              "      <th>0</th>\n",
              "      <td>1</td>\n",
              "      <td>a</td>\n",
              "    </tr>\n",
              "    <tr>\n",
              "      <th>1</th>\n",
              "      <td>2</td>\n",
              "      <td>a</td>\n",
              "    </tr>\n",
              "    <tr>\n",
              "      <th>6</th>\n",
              "      <td>5</td>\n",
              "      <td>b</td>\n",
              "    </tr>\n",
              "    <tr>\n",
              "      <th>7</th>\n",
              "      <td>6</td>\n",
              "      <td>b</td>\n",
              "    </tr>\n",
              "  </tbody>\n",
              "</table>\n",
              "</div>"
            ],
            "text/plain": [
              "   id gr\n",
              "0   1  a\n",
              "1   2  a\n",
              "6   5  b\n",
              "7   6  b"
            ]
          },
          "execution_count": 124,
          "metadata": {},
          "output_type": "execute_result"
        }
      ],
      "source": [
        "# проверим корректность проведенного теста\n",
        "# - объемы выборок по группам примерно совпадают -- количество уникальных субъектов по каждой группе, участвующих в эксперименте/тесте\n",
        "df.groupby('ExpId').DeviceIDHash.nunique()\n",
        "\n",
        "# - одни и те же клиенты не могут быть в разных группах\n",
        "set_user_id_246 = set(df[df.ExpId == 246].DeviceIDHash) # множество уникальных id группы 246\n",
        "set_user_id_248 = set(df[df.ExpId == 248].DeviceIDHash) # множество уникальных id группы 248\n",
        "\n",
        "# проверим наличие общих клиентов в группах\n",
        "set_user_id_246.intersection(set_user_id_248)\n",
        "\n",
        "# проведенный a/b-тест является корректным.\n",
        "\n",
        "# Пример удаления \"общих\" клиентов\n",
        "# игрушечный набор данных\n",
        "dct_to_df = {'id': [1, 2, 3, 3, 4, 4, 5, 6],\n",
        "             'gr': ['a', 'a', 'a', 'b', 'a', 'b', 'b', 'b']}\n",
        "df_temp  = pd.DataFrame(dct_to_df)\n",
        "df_temp\n",
        "\n",
        "# уникальные клиенты групп\n",
        "set_user_id_a = set(df_temp[df_temp.gr == 'a'].id) # множество уникальных id группы a\n",
        "set_user_id_b = set(df_temp[df_temp.gr == 'b'].id) # множество уникальных id группы b\n",
        "\n",
        "# общие клиенты\n",
        "lst_id_del = list(set_user_id_a.intersection(set_user_id_b))\n",
        "\n",
        "# 1 способ\n",
        "df_temp.loc[~df_temp.id.isin(lst_id_del)]\n",
        "\n",
        "# 2 способ\n",
        "index_del = df_temp.loc[df_temp.id.isin(lst_id_del)].index\n",
        "df_temp.drop(index=index_del, inplace=True)\n",
        "df_temp"
      ]
    },
    {
      "cell_type": "code",
      "execution_count": 125,
      "metadata": {},
      "outputs": [
        {
          "data": {
            "text/plain": [
              "Index(['EventName', 'DeviceIDHash', 'EventTimestamp', 'ExpId'], dtype='object')"
            ]
          },
          "execution_count": 125,
          "metadata": {},
          "output_type": "execute_result"
        }
      ],
      "source": [
        "df.columns"
      ]
    },
    {
      "cell_type": "code",
      "execution_count": 126,
      "metadata": {},
      "outputs": [
        {
          "data": {
            "text/plain": [
              "Index(['eventname', 'deviceidhash', 'eventtimestamp', 'expid'], dtype='object')"
            ]
          },
          "execution_count": 126,
          "metadata": {},
          "output_type": "execute_result"
        }
      ],
      "source": [
        "# приводим заголовки к нижнему регистру\n",
        "df.columns = df.columns.str.lower()\n",
        "df.columns"
      ]
    },
    {
      "cell_type": "code",
      "execution_count": 127,
      "metadata": {},
      "outputs": [],
      "source": [
        "# - исправим заголовки;\n",
        "\n",
        "df.columns = ['event_name', 'user_id', 'event_time', 'group_id']"
      ]
    },
    {
      "cell_type": "code",
      "execution_count": 128,
      "metadata": {},
      "outputs": [
        {
          "data": {
            "text/html": [
              "<div>\n",
              "<style scoped>\n",
              "    .dataframe tbody tr th:only-of-type {\n",
              "        vertical-align: middle;\n",
              "    }\n",
              "\n",
              "    .dataframe tbody tr th {\n",
              "        vertical-align: top;\n",
              "    }\n",
              "\n",
              "    .dataframe thead th {\n",
              "        text-align: right;\n",
              "    }\n",
              "</style>\n",
              "<table border=\"1\" class=\"dataframe\">\n",
              "  <thead>\n",
              "    <tr style=\"text-align: right;\">\n",
              "      <th></th>\n",
              "      <th>event_name</th>\n",
              "      <th>user_id</th>\n",
              "      <th>event_time</th>\n",
              "      <th>group_id</th>\n",
              "    </tr>\n",
              "  </thead>\n",
              "  <tbody>\n",
              "    <tr>\n",
              "      <th>0</th>\n",
              "      <td>MainScreenAppear</td>\n",
              "      <td>4575588528974610257</td>\n",
              "      <td>2019-07-25 04:43:36</td>\n",
              "      <td>246</td>\n",
              "    </tr>\n",
              "    <tr>\n",
              "      <th>1</th>\n",
              "      <td>MainScreenAppear</td>\n",
              "      <td>7416695313311560658</td>\n",
              "      <td>2019-07-25 11:11:42</td>\n",
              "      <td>246</td>\n",
              "    </tr>\n",
              "  </tbody>\n",
              "</table>\n",
              "</div>"
            ],
            "text/plain": [
              "         event_name              user_id          event_time  group_id\n",
              "0  MainScreenAppear  4575588528974610257 2019-07-25 04:43:36       246\n",
              "1  MainScreenAppear  7416695313311560658 2019-07-25 11:11:42       246"
            ]
          },
          "execution_count": 128,
          "metadata": {},
          "output_type": "execute_result"
        }
      ],
      "source": [
        "# корректировка типов данных\n",
        "# 1 способ\n",
        "df['event_time'] = pd.to_datetime(df['event_time'],\n",
        "                                  unit='s',\n",
        "                                  origin='unix')\n",
        "# 2 способ\n",
        "# df['event_time'] = df['event_time'].astype('datetime64[s]')\n",
        "df.head(2)"
      ]
    },
    {
      "cell_type": "code",
      "execution_count": 129,
      "metadata": {},
      "outputs": [],
      "source": [
        "# поиск дублей;\n",
        "df.duplicated().sum()\n",
        "lst_user_id_dupl = list(df.loc[df.duplicated()].user_id.unique())\n",
        "df.drop_duplicates(keep='last',\n",
        "                   inplace=True)"
      ]
    },
    {
      "cell_type": "code",
      "execution_count": 130,
      "metadata": {},
      "outputs": [],
      "source": [
        "# поиск аномальных значений\n",
        "# просмотр уникальных значений\n",
        "\n",
        "lst_col = ['event_name', 'group_id']\n",
        "\n",
        "def get_info_unique(lst:list):\n",
        "    for col in lst_col:\n",
        "        print(f'--- признак {col} ---')\n",
        "        display(df[col].value_counts(ascending=False))\n",
        "        print()\n",
        "\n",
        "# событие -- Tutorial -- не имеет отношения к событиям покупки и его можно удалить\n",
        "\n",
        "# найдем количество посещений на каждого клиента\n",
        "user_id_top_10 = df.groupby('user_id')\\\n",
        "                   .agg(count_visits = ('user_id', 'count'))\\\n",
        "                   .reset_index()\\\n",
        "                   .sort_values(by='count_visits',\n",
        "                                ascending=False)\\\n",
        "                   .head(10)\\\n",
        "                   .user_id\\\n",
        "                   .to_list()\n",
        "\n",
        "# проверим наличие клиентов из топ-10 по посещениям в списке с дублями\n",
        "\n",
        "def get_index(lst_user_id_dupl:list, user_id_top_10:list) -> list:\n",
        "    return [id for id in user_id_top_10 if id in lst_user_id_dupl]\n",
        "\n",
        "# клиенты из топ-10 с дублями\n",
        "get_index(lst_user_id_dupl, user_id_top_10)\n",
        "\n",
        "# удалим их\n",
        "index_del = df.loc[df.user_id.isin(get_index(lst_user_id_dupl, user_id_top_10))]\\\n",
        "              .index\n",
        "df.drop(index=index_del,\n",
        "        inplace=True)\n",
        "\n",
        "# событие -- Tutorial -- не имеет отношения к событиям покупки и его можно удалить\n",
        "df.drop(index=df[df.event_name == 'Tutorial'].index,\n",
        "        inplace=True)"
      ]
    },
    {
      "cell_type": "markdown",
      "metadata": {},
      "source": [
        "Шаг 3. EDA\n",
        "- Cколько всего событий?\n",
        "- Сколько всего пользователей в логе?\n",
        "- Сколько в среднем событий приходится на пользователя?\n",
        "- Период теста: максимальная и минимальная даты; гистограмма по дате и количеству событий."
      ]
    },
    {
      "cell_type": "code",
      "execution_count": 131,
      "metadata": {},
      "outputs": [
        {
          "name": "stdout",
          "output_type": "stream",
          "text": [
            "\n",
            "Всего 4 события -- MainScreenAppear, PaymentScreenSuccessful, CartScreenAppear, OffersScreenAppear.\n",
            "Всего пользователей 7540.\n",
            "В среднем на пользователя приходится 30 событий.\n"
          ]
        }
      ],
      "source": [
        "print(f\"\"\"\n",
        "Всего {df.event_name.nunique()} события -- {', '.join(df.event_name.unique())}.\n",
        "Всего пользователей {df.user_id.nunique()}.\n",
        "В среднем на пользователя приходится {int(df.shape[0] / df.user_id.nunique())} событий.\"\"\")"
      ]
    },
    {
      "cell_type": "code",
      "execution_count": 132,
      "metadata": {},
      "outputs": [
        {
          "data": {
            "text/html": [
              "<div>\n",
              "<style scoped>\n",
              "    .dataframe tbody tr th:only-of-type {\n",
              "        vertical-align: middle;\n",
              "    }\n",
              "\n",
              "    .dataframe tbody tr th {\n",
              "        vertical-align: top;\n",
              "    }\n",
              "\n",
              "    .dataframe thead th {\n",
              "        text-align: right;\n",
              "    }\n",
              "</style>\n",
              "<table border=\"1\" class=\"dataframe\">\n",
              "  <thead>\n",
              "    <tr style=\"text-align: right;\">\n",
              "      <th></th>\n",
              "      <th>event_name</th>\n",
              "      <th>user_id</th>\n",
              "      <th>event_time</th>\n",
              "      <th>group_id</th>\n",
              "      <th>event_date</th>\n",
              "    </tr>\n",
              "  </thead>\n",
              "  <tbody>\n",
              "    <tr>\n",
              "      <th>0</th>\n",
              "      <td>MainScreenAppear</td>\n",
              "      <td>4575588528974610257</td>\n",
              "      <td>2019-07-25 04:43:36</td>\n",
              "      <td>246</td>\n",
              "      <td>2019-07-25</td>\n",
              "    </tr>\n",
              "    <tr>\n",
              "      <th>1</th>\n",
              "      <td>MainScreenAppear</td>\n",
              "      <td>7416695313311560658</td>\n",
              "      <td>2019-07-25 11:11:42</td>\n",
              "      <td>246</td>\n",
              "      <td>2019-07-25</td>\n",
              "    </tr>\n",
              "  </tbody>\n",
              "</table>\n",
              "</div>"
            ],
            "text/plain": [
              "         event_name              user_id          event_time  group_id  \\\n",
              "0  MainScreenAppear  4575588528974610257 2019-07-25 04:43:36       246   \n",
              "1  MainScreenAppear  7416695313311560658 2019-07-25 11:11:42       246   \n",
              "\n",
              "   event_date  \n",
              "0  2019-07-25  \n",
              "1  2019-07-25  "
            ]
          },
          "execution_count": 132,
          "metadata": {},
          "output_type": "execute_result"
        }
      ],
      "source": [
        "# добавим признаки, связанные с датой\n",
        "df['event_date'] = df['event_time'].dt.date\n",
        "df.head(2)"
      ]
    },
    {
      "cell_type": "code",
      "execution_count": 133,
      "metadata": {},
      "outputs": [
        {
          "name": "stdout",
          "output_type": "stream",
          "text": [
            "Дата начала теста -- 2019-07-25\n",
            "Дата окончания теста -- 2019-08-07\n"
          ]
        }
      ],
      "source": [
        "print(f\"\"\"Дата начала теста -- {df['event_date'].min()}\n",
        "Дата окончания теста -- {df['event_date'].max()}\"\"\")"
      ]
    },
    {
      "cell_type": "code",
      "execution_count": 134,
      "metadata": {},
      "outputs": [
        {
          "name": "stderr",
          "output_type": "stream",
          "text": [
            "/tmp/ipykernel_7998/5233323.py:7: UserWarning:\n",
            "\n",
            "set_ticklabels() should only be used with a fixed number of ticks, i.e. after set_ticks() or using a FixedLocator.\n",
            "\n"
          ]
        },
        {
          "data": {
            "image/png": "[encoded data removed]",
            "text/plain": [
              "<Figure size 600x300 with 1 Axes>"
            ]
          },
          "metadata": {},
          "output_type": "display_data"
        }
      ],
      "source": [
        "# Гистограмма по дате и количеству событий\n",
        "plt.figure(figsize=(6,3))\n",
        "ax = sns.countplot(data=df, y='event_date');\n",
        "ax.set_title(\"Распределение количества событий по дате\");\n",
        "ax.set_ylabel(\"Дата проведения теста\");\n",
        "ax.set_xlabel(\"Количество событий\");\n",
        "ax.set_yticklabels(ax.get_yticklabels(), fontsize=8);\n",
        "ax.bar_label(ax.containers[0], fontsize=8);"
      ]
    },
    {
      "cell_type": "code",
      "execution_count": 135,
      "metadata": {},
      "outputs": [],
      "source": [
        "# Из гистограммы следует, что первую неделю тест фактически не проводился,\n",
        "# посколько клиенты по неизвестной причине не совершали никаких событий.\n",
        "# Вывод, результаты полученные в ходе следует считать некорректными.\n",
        "\n",
        "# Доделаем оставшиеся пункты проекта, предварительно удалив данные за первую неделю\n",
        "df = df.loc[~(df.event_date <= dt.date(2019, 7, 31))].copy()"
      ]
    },
    {
      "cell_type": "code",
      "execution_count": 136,
      "metadata": {},
      "outputs": [
        {
          "data": {
            "text/html": [
              "<div>\n",
              "<style scoped>\n",
              "    .dataframe tbody tr th:only-of-type {\n",
              "        vertical-align: middle;\n",
              "    }\n",
              "\n",
              "    .dataframe tbody tr th {\n",
              "        vertical-align: top;\n",
              "    }\n",
              "\n",
              "    .dataframe thead th {\n",
              "        text-align: right;\n",
              "    }\n",
              "</style>\n",
              "<table border=\"1\" class=\"dataframe\">\n",
              "  <thead>\n",
              "    <tr style=\"text-align: right;\">\n",
              "      <th></th>\n",
              "      <th>event_name</th>\n",
              "      <th>user_id</th>\n",
              "      <th>event_time</th>\n",
              "      <th>group_id</th>\n",
              "      <th>event_date</th>\n",
              "    </tr>\n",
              "  </thead>\n",
              "  <tbody>\n",
              "    <tr>\n",
              "      <th>2829</th>\n",
              "      <td>MainScreenAppear</td>\n",
              "      <td>3737462046622621720</td>\n",
              "      <td>2019-08-01 00:08:00</td>\n",
              "      <td>246</td>\n",
              "      <td>2019-08-01</td>\n",
              "    </tr>\n",
              "    <tr>\n",
              "      <th>26786</th>\n",
              "      <td>OffersScreenAppear</td>\n",
              "      <td>1832951734389458979</td>\n",
              "      <td>2019-08-01 15:37:30</td>\n",
              "      <td>246</td>\n",
              "      <td>2019-08-01</td>\n",
              "    </tr>\n",
              "    <tr>\n",
              "      <th>26785</th>\n",
              "      <td>MainScreenAppear</td>\n",
              "      <td>455812380260872971</td>\n",
              "      <td>2019-08-01 15:37:30</td>\n",
              "      <td>247</td>\n",
              "      <td>2019-08-01</td>\n",
              "    </tr>\n",
              "    <tr>\n",
              "      <th>26784</th>\n",
              "      <td>CartScreenAppear</td>\n",
              "      <td>1009745980451513098</td>\n",
              "      <td>2019-08-01 15:37:28</td>\n",
              "      <td>248</td>\n",
              "      <td>2019-08-01</td>\n",
              "    </tr>\n",
              "    <tr>\n",
              "      <th>26783</th>\n",
              "      <td>MainScreenAppear</td>\n",
              "      <td>2477577206728983149</td>\n",
              "      <td>2019-08-01 15:37:25</td>\n",
              "      <td>246</td>\n",
              "      <td>2019-08-01</td>\n",
              "    </tr>\n",
              "    <tr>\n",
              "      <th>...</th>\n",
              "      <td>...</td>\n",
              "      <td>...</td>\n",
              "      <td>...</td>\n",
              "      <td>...</td>\n",
              "      <td>...</td>\n",
              "    </tr>\n",
              "    <tr>\n",
              "      <th>223490</th>\n",
              "      <td>MainScreenAppear</td>\n",
              "      <td>1072623712787612806</td>\n",
              "      <td>2019-08-07 10:18:06</td>\n",
              "      <td>247</td>\n",
              "      <td>2019-08-07</td>\n",
              "    </tr>\n",
              "    <tr>\n",
              "      <th>223489</th>\n",
              "      <td>MainScreenAppear</td>\n",
              "      <td>5488760014591002030</td>\n",
              "      <td>2019-08-07 10:18:05</td>\n",
              "      <td>246</td>\n",
              "      <td>2019-08-07</td>\n",
              "    </tr>\n",
              "    <tr>\n",
              "      <th>223488</th>\n",
              "      <td>OffersScreenAppear</td>\n",
              "      <td>4612600107457375865</td>\n",
              "      <td>2019-08-07 10:18:04</td>\n",
              "      <td>248</td>\n",
              "      <td>2019-08-07</td>\n",
              "    </tr>\n",
              "    <tr>\n",
              "      <th>223500</th>\n",
              "      <td>PaymentScreenSuccessful</td>\n",
              "      <td>1072623712787612806</td>\n",
              "      <td>2019-08-07 10:18:15</td>\n",
              "      <td>247</td>\n",
              "      <td>2019-08-07</td>\n",
              "    </tr>\n",
              "    <tr>\n",
              "      <th>244125</th>\n",
              "      <td>OffersScreenAppear</td>\n",
              "      <td>5746969938801999050</td>\n",
              "      <td>2019-08-07 21:15:17</td>\n",
              "      <td>246</td>\n",
              "      <td>2019-08-07</td>\n",
              "    </tr>\n",
              "  </tbody>\n",
              "</table>\n",
              "<p>229510 rows × 5 columns</p>\n",
              "</div>"
            ],
            "text/plain": [
              "                     event_name              user_id          event_time  \\\n",
              "2829           MainScreenAppear  3737462046622621720 2019-08-01 00:08:00   \n",
              "26786        OffersScreenAppear  1832951734389458979 2019-08-01 15:37:30   \n",
              "26785          MainScreenAppear   455812380260872971 2019-08-01 15:37:30   \n",
              "26784          CartScreenAppear  1009745980451513098 2019-08-01 15:37:28   \n",
              "26783          MainScreenAppear  2477577206728983149 2019-08-01 15:37:25   \n",
              "...                         ...                  ...                 ...   \n",
              "223490         MainScreenAppear  1072623712787612806 2019-08-07 10:18:06   \n",
              "223489         MainScreenAppear  5488760014591002030 2019-08-07 10:18:05   \n",
              "223488       OffersScreenAppear  4612600107457375865 2019-08-07 10:18:04   \n",
              "223500  PaymentScreenSuccessful  1072623712787612806 2019-08-07 10:18:15   \n",
              "244125       OffersScreenAppear  5746969938801999050 2019-08-07 21:15:17   \n",
              "\n",
              "        group_id  event_date  \n",
              "2829         246  2019-08-01  \n",
              "26786        246  2019-08-01  \n",
              "26785        247  2019-08-01  \n",
              "26784        248  2019-08-01  \n",
              "26783        246  2019-08-01  \n",
              "...          ...         ...  \n",
              "223490       247  2019-08-07  \n",
              "223489       246  2019-08-07  \n",
              "223488       248  2019-08-07  \n",
              "223500       247  2019-08-07  \n",
              "244125       246  2019-08-07  \n",
              "\n",
              "[229510 rows x 5 columns]"
            ]
          },
          "execution_count": 136,
          "metadata": {},
          "output_type": "execute_result"
        }
      ],
      "source": [
        "# проверка выполненной фильтрации\n",
        "\n",
        "df.sort_values(by='event_date')"
      ]
    },
    {
      "cell_type": "markdown",
      "metadata": {},
      "source": [
        "# Шаг 4. Анализ воронки событий\n",
        "- Распределение событий: какие события и в каком количестве.\n",
        "- Сколько пользователей совершали каждое из этих событий?\n",
        "- Постройте воронку событий: какая доля пользователей проходит на следующий шаг воронки.\n",
        "- На каком шаге теряете больше всего пользователей? Какая доля пользователей доходит от первого события до оплаты?"
      ]
    },
    {
      "cell_type": "code",
      "execution_count": 137,
      "metadata": {},
      "outputs": [],
      "source": [
        "# Распределение событий: какие события и в каком количестве.\n",
        "# Сколько пользователей совершали каждое из этих событий?\n",
        "# исключим клиентов 247 группы\n",
        "\n",
        "df_funnel = df[df.group_id != 247].groupby('event_name')\\\n",
        "                                  .agg(event_count=('user_id', 'count'),\n",
        "                                       event_user_id_unique=('user_id', 'nunique'))\\\n",
        "                                  .reset_index()\\\n",
        "                                  .sort_values(by='event_count', ascending=False)"
      ]
    },
    {
      "cell_type": "code",
      "execution_count": 138,
      "metadata": {},
      "outputs": [
        {
          "data": {
            "text/plain": [
              "<Axes: xlabel='event_user_id_unique', ylabel='event_name'>"
            ]
          },
          "execution_count": 138,
          "metadata": {},
          "output_type": "execute_result"
        },
        {
          "data": {
            "image/png": "[encoded data removed]",
            "text/plain": [
              "<Figure size 640x480 with 1 Axes>"
            ]
          },
          "metadata": {},
          "output_type": "display_data"
        }
      ],
      "source": [
        "# визуализация воронки продаж\n",
        "\n",
        "sns.barplot(data=df_funnel,\n",
        "            y='event_name',\n",
        "            x='event_user_id_unique')"
      ]
    },
    {
      "cell_type": "code",
      "execution_count": 139,
      "metadata": {},
      "outputs": [
        {
          "data": {
            "application/vnd.plotly.v1+json": {
              "config": {
                "plotlyServerURL": "https://plot.ly"
              },
              "data": [
                {
                  "connector": {
                    "line": {
                      "color": "royalblue",
                      "dash": "dot",
                      "width": 3
                    }
                  },
                  "marker": {
                    "color": [
                      "deepskyblue",
                      "lightsalmon",
                      "tan",
                      "teal",
                      "silver"
                    ],
                    "line": {
                      "color": [
                        "wheat",
                        "wheat",
                        "blue",
                        "wheat",
                        "wheat"
                      ],
                      "width": [
                        4,
                        2,
                        2,
                        3,
                        1,
                        1
                      ]
                    }
                  },
                  "opacity": 0.65,
                  "textinfo": "value+percent previous+percent initial",
                  "textposition": "inside",
                  "type": "funnel",
                  "x": [
                    4938,
                    3068,
                    2491,
                    2376
                  ],
                  "y": [
                    "MainScreenAppear",
                    "OffersScreenAppear",
                    "CartScreenAppear",
                    "PaymentScreenSuccessful"
                  ]
                }
              ],
              "layout": {
                "template": {
                  "data": {
                    "bar": [
                      {
                        "error_x": {
                          "color": "#2a3f5f"
                        },
                        "error_y": {
                          "color": "#2a3f5f"
                        },
                        "marker": {
                          "line": {
                            "color": "#E5ECF6",
                            "width": 0.5
                          },
                          "pattern": {
                            "fillmode": "overlay",
                            "size": 10,
                            "solidity": 0.2
                          }
                        },
                        "type": "bar"
                      }
                    ],
                    "barpolar": [
                      {
                        "marker": {
                          "line": {
                            "color": "#E5ECF6",
                            "width": 0.5
                          },
                          "pattern": {
                            "fillmode": "overlay",
                            "size": 10,
                            "solidity": 0.2
                          }
                        },
                        "type": "barpolar"
                      }
                    ],
                    "carpet": [
                      {
                        "aaxis": {
                          "endlinecolor": "#2a3f5f",
                          "gridcolor": "white",
                          "linecolor": "white",
                          "minorgridcolor": "white",
                          "startlinecolor": "#2a3f5f"
                        },
                        "baxis": {
                          "endlinecolor": "#2a3f5f",
                          "gridcolor": "white",
                          "linecolor": "white",
                          "minorgridcolor": "white",
                          "startlinecolor": "#2a3f5f"
                        },
                        "type": "carpet"
                      }
                    ],
                    "choropleth": [
                      {
                        "colorbar": {
                          "outlinewidth": 0,
                          "ticks": ""
                        },
                        "type": "choropleth"
                      }
                    ],
                    "contour": [
                      {
                        "colorbar": {
                          "outlinewidth": 0,
                          "ticks": ""
                        },
                        "colorscale": [
                          [
                            0,
                            "#0d0887"
                          ],
                          [
                            0.1111111111111111,
                            "#46039f"
                          ],
                          [
                            0.2222222222222222,
                            "#7201a8"
                          ],
                          [
                            0.3333333333333333,
                            "#9c179e"
                          ],
                          [
                            0.4444444444444444,
                            "#bd3786"
                          ],
                          [
                            0.5555555555555556,
                            "#d8576b"
                          ],
                          [
                            0.6666666666666666,
                            "#ed7953"
                          ],
                          [
                            0.7777777777777778,
                            "#fb9f3a"
                          ],
                          [
                            0.8888888888888888,
                            "#fdca26"
                          ],
                          [
                            1,
                            "#f0f921"
                          ]
                        ],
                        "type": "contour"
                      }
                    ],
                    "contourcarpet": [
                      {
                        "colorbar": {
                          "outlinewidth": 0,
                          "ticks": ""
                        },
                        "type": "contourcarpet"
                      }
                    ],
                    "heatmap": [
                      {
                        "colorbar": {
                          "outlinewidth": 0,
                          "ticks": ""
                        },
                        "colorscale": [
                          [
                            0,
                            "#0d0887"
                          ],
                          [
                            0.1111111111111111,
                            "#46039f"
                          ],
                          [
                            0.2222222222222222,
                            "#7201a8"
                          ],
                          [
                            0.3333333333333333,
                            "#9c179e"
                          ],
                          [
                            0.4444444444444444,
                            "#bd3786"
                          ],
                          [
                            0.5555555555555556,
                            "#d8576b"
                          ],
                          [
                            0.6666666666666666,
                            "#ed7953"
                          ],
                          [
                            0.7777777777777778,
                            "#fb9f3a"
                          ],
                          [
                            0.8888888888888888,
                            "#fdca26"
                          ],
                          [
                            1,
                            "#f0f921"
                          ]
                        ],
                        "type": "heatmap"
                      }
                    ],
                    "heatmapgl": [
                      {
                        "colorbar": {
                          "outlinewidth": 0,
                          "ticks": ""
                        },
                        "colorscale": [
                          [
                            0,
                            "#0d0887"
                          ],
                          [
                            0.1111111111111111,
                            "#46039f"
                          ],
                          [
                            0.2222222222222222,
                            "#7201a8"
                          ],
                          [
                            0.3333333333333333,
                            "#9c179e"
                          ],
                          [
                            0.4444444444444444,
                            "#bd3786"
                          ],
                          [
                            0.5555555555555556,
                            "#d8576b"
                          ],
                          [
                            0.6666666666666666,
                            "#ed7953"
                          ],
                          [
                            0.7777777777777778,
                            "#fb9f3a"
                          ],
                          [
                            0.8888888888888888,
                            "#fdca26"
                          ],
                          [
                            1,
                            "#f0f921"
                          ]
                        ],
                        "type": "heatmapgl"
                      }
                    ],
                    "histogram": [
                      {
                        "marker": {
                          "pattern": {
                            "fillmode": "overlay",
                            "size": 10,
                            "solidity": 0.2
                          }
                        },
                        "type": "histogram"
                      }
                    ],
                    "histogram2d": [
                      {
                        "colorbar": {
                          "outlinewidth": 0,
                          "ticks": ""
                        },
                        "colorscale": [
                          [
                            0,
                            "#0d0887"
                          ],
                          [
                            0.1111111111111111,
                            "#46039f"
                          ],
                          [
                            0.2222222222222222,
                            "#7201a8"
                          ],
                          [
                            0.3333333333333333,
                            "#9c179e"
                          ],
                          [
                            0.4444444444444444,
                            "#bd3786"
                          ],
                          [
                            0.5555555555555556,
                            "#d8576b"
                          ],
                          [
                            0.6666666666666666,
                            "#ed7953"
                          ],
                          [
                            0.7777777777777778,
                            "#fb9f3a"
                          ],
                          [
                            0.8888888888888888,
                            "#fdca26"
                          ],
                          [
                            1,
                            "#f0f921"
                          ]
                        ],
                        "type": "histogram2d"
                      }
                    ],
                    "histogram2dcontour": [
                      {
                        "colorbar": {
                          "outlinewidth": 0,
                          "ticks": ""
                        },
                        "colorscale": [
                          [
                            0,
                            "#0d0887"
                          ],
                          [
                            0.1111111111111111,
                            "#46039f"
                          ],
                          [
                            0.2222222222222222,
                            "#7201a8"
                          ],
                          [
                            0.3333333333333333,
                            "#9c179e"
                          ],
                          [
                            0.4444444444444444,
                            "#bd3786"
                          ],
                          [
                            0.5555555555555556,
                            "#d8576b"
                          ],
                          [
                            0.6666666666666666,
                            "#ed7953"
                          ],
                          [
                            0.7777777777777778,
                            "#fb9f3a"
                          ],
                          [
                            0.8888888888888888,
                            "#fdca26"
                          ],
                          [
                            1,
                            "#f0f921"
                          ]
                        ],
                        "type": "histogram2dcontour"
                      }
                    ],
                    "mesh3d": [
                      {
                        "colorbar": {
                          "outlinewidth": 0,
                          "ticks": ""
                        },
                        "type": "mesh3d"
                      }
                    ],
                    "parcoords": [
                      {
                        "line": {
                          "colorbar": {
                            "outlinewidth": 0,
                            "ticks": ""
                          }
                        },
                        "type": "parcoords"
                      }
                    ],
                    "pie": [
                      {
                        "automargin": true,
                        "type": "pie"
                      }
                    ],
                    "scatter": [
                      {
                        "fillpattern": {
                          "fillmode": "overlay",
                          "size": 10,
                          "solidity": 0.2
                        },
                        "type": "scatter"
                      }
                    ],
                    "scatter3d": [
                      {
                        "line": {
                          "colorbar": {
                            "outlinewidth": 0,
                            "ticks": ""
                          }
                        },
                        "marker": {
                          "colorbar": {
                            "outlinewidth": 0,
                            "ticks": ""
                          }
                        },
                        "type": "scatter3d"
                      }
                    ],
                    "scattercarpet": [
                      {
                        "marker": {
                          "colorbar": {
                            "outlinewidth": 0,
                            "ticks": ""
                          }
                        },
                        "type": "scattercarpet"
                      }
                    ],
                    "scattergeo": [
                      {
                        "marker": {
                          "colorbar": {
                            "outlinewidth": 0,
                            "ticks": ""
                          }
                        },
                        "type": "scattergeo"
                      }
                    ],
                    "scattergl": [
                      {
                        "marker": {
                          "colorbar": {
                            "outlinewidth": 0,
                            "ticks": ""
                          }
                        },
                        "type": "scattergl"
                      }
                    ],
                    "scattermapbox": [
                      {
                        "marker": {
                          "colorbar": {
                            "outlinewidth": 0,
                            "ticks": ""
                          }
                        },
                        "type": "scattermapbox"
                      }
                    ],
                    "scatterpolar": [
                      {
                        "marker": {
                          "colorbar": {
                            "outlinewidth": 0,
                            "ticks": ""
                          }
                        },
                        "type": "scatterpolar"
                      }
                    ],
                    "scatterpolargl": [
                      {
                        "marker": {
                          "colorbar": {
                            "outlinewidth": 0,
                            "ticks": ""
                          }
                        },
                        "type": "scatterpolargl"
                      }
                    ],
                    "scatterternary": [
                      {
                        "marker": {
                          "colorbar": {
                            "outlinewidth": 0,
                            "ticks": ""
                          }
                        },
                        "type": "scatterternary"
                      }
                    ],
                    "surface": [
                      {
                        "colorbar": {
                          "outlinewidth": 0,
                          "ticks": ""
                        },
                        "colorscale": [
                          [
                            0,
                            "#0d0887"
                          ],
                          [
                            0.1111111111111111,
                            "#46039f"
                          ],
                          [
                            0.2222222222222222,
                            "#7201a8"
                          ],
                          [
                            0.3333333333333333,
                            "#9c179e"
                          ],
                          [
                            0.4444444444444444,
                            "#bd3786"
                          ],
                          [
                            0.5555555555555556,
                            "#d8576b"
                          ],
                          [
                            0.6666666666666666,
                            "#ed7953"
                          ],
                          [
                            0.7777777777777778,
                            "#fb9f3a"
                          ],
                          [
                            0.8888888888888888,
                            "#fdca26"
                          ],
                          [
                            1,
                            "#f0f921"
                          ]
                        ],
                        "type": "surface"
                      }
                    ],
                    "table": [
                      {
                        "cells": {
                          "fill": {
                            "color": "#EBF0F8"
                          },
                          "line": {
                            "color": "white"
                          }
                        },
                        "header": {
                          "fill": {
                            "color": "#C8D4E3"
                          },
                          "line": {
                            "color": "white"
                          }
                        },
                        "type": "table"
                      }
                    ]
                  },
                  "layout": {
                    "annotationdefaults": {
                      "arrowcolor": "#2a3f5f",
                      "arrowhead": 0,
                      "arrowwidth": 1
                    },
                    "autotypenumbers": "strict",
                    "coloraxis": {
                      "colorbar": {
                        "outlinewidth": 0,
                        "ticks": ""
                      }
                    },
                    "colorscale": {
                      "diverging": [
                        [
                          0,
                          "#8e0152"
                        ],
                        [
                          0.1,
                          "#c51b7d"
                        ],
                        [
                          0.2,
                          "#de77ae"
                        ],
                        [
                          0.3,
                          "#f1b6da"
                        ],
                        [
                          0.4,
                          "#fde0ef"
                        ],
                        [
                          0.5,
                          "#f7f7f7"
                        ],
                        [
                          0.6,
                          "#e6f5d0"
                        ],
                        [
                          0.7,
                          "#b8e186"
                        ],
                        [
                          0.8,
                          "#7fbc41"
                        ],
                        [
                          0.9,
                          "#4d9221"
                        ],
                        [
                          1,
                          "#276419"
                        ]
                      ],
                      "sequential": [
                        [
                          0,
                          "#0d0887"
                        ],
                        [
                          0.1111111111111111,
                          "#46039f"
                        ],
                        [
                          0.2222222222222222,
                          "#7201a8"
                        ],
                        [
                          0.3333333333333333,
                          "#9c179e"
                        ],
                        [
                          0.4444444444444444,
                          "#bd3786"
                        ],
                        [
                          0.5555555555555556,
                          "#d8576b"
                        ],
                        [
                          0.6666666666666666,
                          "#ed7953"
                        ],
                        [
                          0.7777777777777778,
                          "#fb9f3a"
                        ],
                        [
                          0.8888888888888888,
                          "#fdca26"
                        ],
                        [
                          1,
                          "#f0f921"
                        ]
                      ],
                      "sequentialminus": [
                        [
                          0,
                          "#0d0887"
                        ],
                        [
                          0.1111111111111111,
                          "#46039f"
                        ],
                        [
                          0.2222222222222222,
                          "#7201a8"
                        ],
                        [
                          0.3333333333333333,
                          "#9c179e"
                        ],
                        [
                          0.4444444444444444,
                          "#bd3786"
                        ],
                        [
                          0.5555555555555556,
                          "#d8576b"
                        ],
                        [
                          0.6666666666666666,
                          "#ed7953"
                        ],
                        [
                          0.7777777777777778,
                          "#fb9f3a"
                        ],
                        [
                          0.8888888888888888,
                          "#fdca26"
                        ],
                        [
                          1,
                          "#f0f921"
                        ]
                      ]
                    },
                    "colorway": [
                      "#636efa",
                      "#EF553B",
                      "#00cc96",
                      "#ab63fa",
                      "#FFA15A",
                      "#19d3f3",
                      "#FF6692",
                      "#B6E880",
                      "#FF97FF",
                      "#FECB52"
                    ],
                    "font": {
                      "color": "#2a3f5f"
                    },
                    "geo": {
                      "bgcolor": "white",
                      "lakecolor": "white",
                      "landcolor": "#E5ECF6",
                      "showlakes": true,
                      "showland": true,
                      "subunitcolor": "white"
                    },
                    "hoverlabel": {
                      "align": "left"
                    },
                    "hovermode": "closest",
                    "mapbox": {
                      "style": "light"
                    },
                    "paper_bgcolor": "white",
                    "plot_bgcolor": "#E5ECF6",
                    "polar": {
                      "angularaxis": {
                        "gridcolor": "white",
                        "linecolor": "white",
                        "ticks": ""
                      },
                      "bgcolor": "#E5ECF6",
                      "radialaxis": {
                        "gridcolor": "white",
                        "linecolor": "white",
                        "ticks": ""
                      }
                    },
                    "scene": {
                      "xaxis": {
                        "backgroundcolor": "#E5ECF6",
                        "gridcolor": "white",
                        "gridwidth": 2,
                        "linecolor": "white",
                        "showbackground": true,
                        "ticks": "",
                        "zerolinecolor": "white"
                      },
                      "yaxis": {
                        "backgroundcolor": "#E5ECF6",
                        "gridcolor": "white",
                        "gridwidth": 2,
                        "linecolor": "white",
                        "showbackground": true,
                        "ticks": "",
                        "zerolinecolor": "white"
                      },
                      "zaxis": {
                        "backgroundcolor": "#E5ECF6",
                        "gridcolor": "white",
                        "gridwidth": 2,
                        "linecolor": "white",
                        "showbackground": true,
                        "ticks": "",
                        "zerolinecolor": "white"
                      }
                    },
                    "shapedefaults": {
                      "line": {
                        "color": "#2a3f5f"
                      }
                    },
                    "ternary": {
                      "aaxis": {
                        "gridcolor": "white",
                        "linecolor": "white",
                        "ticks": ""
                      },
                      "baxis": {
                        "gridcolor": "white",
                        "linecolor": "white",
                        "ticks": ""
                      },
                      "bgcolor": "#E5ECF6",
                      "caxis": {
                        "gridcolor": "white",
                        "linecolor": "white",
                        "ticks": ""
                      }
                    },
                    "title": {
                      "x": 0.05
                    },
                    "xaxis": {
                      "automargin": true,
                      "gridcolor": "white",
                      "linecolor": "white",
                      "ticks": "",
                      "title": {
                        "standoff": 15
                      },
                      "zerolinecolor": "white",
                      "zerolinewidth": 2
                    },
                    "yaxis": {
                      "automargin": true,
                      "gridcolor": "white",
                      "linecolor": "white",
                      "ticks": "",
                      "title": {
                        "standoff": 15
                      },
                      "zerolinecolor": "white",
                      "zerolinewidth": 2
                    }
                  }
                }
              }
            }
          },
          "metadata": {},
          "output_type": "display_data"
        }
      ],
      "source": [
        "from plotly import graph_objects as go\n",
        "\n",
        "fig = go.Figure(go.Funnel(\n",
        "    y = df_funnel['event_name'],\n",
        "    x = df_funnel['event_user_id_unique'],\n",
        "    textposition = \"inside\",\n",
        "    textinfo = \"value+percent previous+percent initial\",\n",
        "    opacity = 0.65, marker = {\"color\": [\"deepskyblue\", \"lightsalmon\", \"tan\", \"teal\", \"silver\"],\n",
        "    \"line\": {\"width\": [4, 2, 2, 3, 1, 1], \"color\": [\"wheat\", \"wheat\", \"blue\", \"wheat\", \"wheat\"]}},\n",
        "    connector = {\"line\": {\"color\": \"royalblue\", \"dash\": \"dot\", \"width\": 3}})\n",
        "    )\n",
        "\n",
        "fig.show()"
      ]
    },
    {
      "cell_type": "markdown",
      "metadata": {},
      "source": [
        "# Шаг 5. Анализ результатов эксперимента\n",
        "\n",
        "- Сколько пользователей в каждой группе?\n",
        "- Посчитайте долю пользователей, совершивших каждое из событий.\n",
        "- Проверьте гипотезу о наличие значимых отличий по результатам теста."
      ]
    },
    {
      "cell_type": "code",
      "execution_count": 140,
      "metadata": {},
      "outputs": [
        {
          "data": {
            "text/plain": [
              "2480"
            ]
          },
          "execution_count": 140,
          "metadata": {},
          "output_type": "execute_result"
        }
      ],
      "source": [
        "# df_count_users\n",
        "df_count_users = df[df.group_id != 247].groupby('group_id')\\\n",
        "                                       .user_id.nunique()\n",
        "df_count_users.loc[246]"
      ]
    },
    {
      "cell_type": "code",
      "execution_count": 141,
      "metadata": {},
      "outputs": [
        {
          "data": {
            "text/plain": [
              "0.9866935483870968"
            ]
          },
          "execution_count": 141,
          "metadata": {},
          "output_type": "execute_result"
        }
      ],
      "source": [
        "2447 / \t2480"
      ]
    },
    {
      "cell_type": "code",
      "execution_count": 142,
      "metadata": {},
      "outputs": [
        {
          "data": {
            "text/html": [
              "<div>\n",
              "<style scoped>\n",
              "    .dataframe tbody tr th:only-of-type {\n",
              "        vertical-align: middle;\n",
              "    }\n",
              "\n",
              "    .dataframe tbody tr th {\n",
              "        vertical-align: top;\n",
              "    }\n",
              "\n",
              "    .dataframe thead th {\n",
              "        text-align: right;\n",
              "    }\n",
              "</style>\n",
              "<table border=\"1\" class=\"dataframe\">\n",
              "  <thead>\n",
              "    <tr style=\"text-align: right;\">\n",
              "      <th></th>\n",
              "      <th>event_name</th>\n",
              "      <th>group_246</th>\n",
              "      <th>group_248</th>\n",
              "      <th>part_users_246</th>\n",
              "      <th>part_users_248</th>\n",
              "    </tr>\n",
              "  </thead>\n",
              "  <tbody>\n",
              "    <tr>\n",
              "      <th>1</th>\n",
              "      <td>MainScreenAppear</td>\n",
              "      <td>2447</td>\n",
              "      <td>2491</td>\n",
              "      <td>0.99</td>\n",
              "      <td>0.98</td>\n",
              "    </tr>\n",
              "    <tr>\n",
              "      <th>2</th>\n",
              "      <td>OffersScreenAppear</td>\n",
              "      <td>1539</td>\n",
              "      <td>1529</td>\n",
              "      <td>0.62</td>\n",
              "      <td>0.60</td>\n",
              "    </tr>\n",
              "    <tr>\n",
              "      <th>0</th>\n",
              "      <td>CartScreenAppear</td>\n",
              "      <td>1263</td>\n",
              "      <td>1228</td>\n",
              "      <td>0.51</td>\n",
              "      <td>0.48</td>\n",
              "    </tr>\n",
              "    <tr>\n",
              "      <th>3</th>\n",
              "      <td>PaymentScreenSuccessful</td>\n",
              "      <td>1197</td>\n",
              "      <td>1179</td>\n",
              "      <td>0.48</td>\n",
              "      <td>0.47</td>\n",
              "    </tr>\n",
              "  </tbody>\n",
              "</table>\n",
              "</div>"
            ],
            "text/plain": [
              "                event_name  group_246  group_248  part_users_246  \\\n",
              "1         MainScreenAppear       2447       2491            0.99   \n",
              "2       OffersScreenAppear       1539       1529            0.62   \n",
              "0         CartScreenAppear       1263       1228            0.51   \n",
              "3  PaymentScreenSuccessful       1197       1179            0.48   \n",
              "\n",
              "   part_users_248  \n",
              "1            0.98  \n",
              "2            0.60  \n",
              "0            0.48  \n",
              "3            0.47  "
            ]
          },
          "execution_count": 142,
          "metadata": {},
          "output_type": "execute_result"
        }
      ],
      "source": [
        "df_pivot_event_group = df[df.group_id != 247].pivot_table(index='event_name',\n",
        "                                                          columns='group_id',\n",
        "                                                          values='user_id',\n",
        "                                                          aggfunc='nunique')\\\n",
        "                                             .reset_index()\\\n",
        "                                             .sort_values(by=246, ascending=False)\n",
        "df_pivot_event_group.columns = ['event_name', 'group_246', 'group_248']\n",
        "df_pivot_event_group\n",
        "\n",
        "# рассчитаем доли\n",
        "for group_name in df_count_users.index:\n",
        "    for col_name in ['group_246', 'group_248']:\n",
        "        if col_name.find(str(group_name))>-1:\n",
        "            df_pivot_event_group['part_users_'+str(group_name)] = np.round((df_pivot_event_group[col_name]\n",
        "                                                                   / df_count_users.loc[group_name]),2)\n",
        "df_pivot_event_group"
      ]
    },
    {
      "cell_type": "markdown",
      "metadata": {},
      "source": [
        "Для биномиальных распределений\n",
        "\n",
        "$$\n",
        "\\begin{multline*}\n",
        "z = \\dfrac{\\dfrac{m_1}{n_1}+ \\dfrac{1}{2n_1} - \\dfrac{m_2}{n_2} - \\dfrac{1}{2n_2}}{\\sqrt{\\dfrac{m_1+m_2}{n_1+n_2} \\dfrac{n_1+n_2 - m_1 - m_2}{n_1+n_2}\\left(\\dfrac{1}{n_1}+\\dfrac{1}{n_2}\\right)}} = \\\\\n",
        "= \\dfrac{\\dfrac{m_1}{n_1}- \\dfrac{m_2}{n_2} + \\dfrac{1}{2n_1} - \\dfrac{1}{2n_2}}{\\sqrt{\\dfrac{m_1+m_2}{n_1+n_2} \\left( 1-\\dfrac{m_1+m_2}{n_1+n_2}\\right)\\left(\\dfrac{1}{n_1}+\\dfrac{1}{n_2}\\right)}}\n",
        "\\end{multline*}\n",
        "$$*Курсив*"
      ]
    },
    {
      "cell_type": "code",
      "execution_count": 143,
      "metadata": {},
      "outputs": [
        {
          "data": {
            "text/plain": [
              "2480"
            ]
          },
          "execution_count": 143,
          "metadata": {},
          "output_type": "execute_result"
        }
      ],
      "source": [
        "df_count_users.loc[246]"
      ]
    },
    {
      "cell_type": "code",
      "execution_count": 144,
      "metadata": {},
      "outputs": [
        {
          "data": {
            "text/html": [
              "<div>\n",
              "<style scoped>\n",
              "    .dataframe tbody tr th:only-of-type {\n",
              "        vertical-align: middle;\n",
              "    }\n",
              "\n",
              "    .dataframe tbody tr th {\n",
              "        vertical-align: top;\n",
              "    }\n",
              "\n",
              "    .dataframe thead th {\n",
              "        text-align: right;\n",
              "    }\n",
              "</style>\n",
              "<table border=\"1\" class=\"dataframe\">\n",
              "  <thead>\n",
              "    <tr style=\"text-align: right;\">\n",
              "      <th></th>\n",
              "      <th>event_name</th>\n",
              "      <th>group_246</th>\n",
              "      <th>group_248</th>\n",
              "      <th>part_users_246</th>\n",
              "      <th>part_users_248</th>\n",
              "    </tr>\n",
              "    <tr>\n",
              "      <th>event_name</th>\n",
              "      <th></th>\n",
              "      <th></th>\n",
              "      <th></th>\n",
              "      <th></th>\n",
              "      <th></th>\n",
              "    </tr>\n",
              "  </thead>\n",
              "  <tbody>\n",
              "    <tr>\n",
              "      <th>MainScreenAppear</th>\n",
              "      <td>MainScreenAppear</td>\n",
              "      <td>2447</td>\n",
              "      <td>2491</td>\n",
              "      <td>0.99</td>\n",
              "      <td>0.98</td>\n",
              "    </tr>\n",
              "    <tr>\n",
              "      <th>OffersScreenAppear</th>\n",
              "      <td>OffersScreenAppear</td>\n",
              "      <td>1539</td>\n",
              "      <td>1529</td>\n",
              "      <td>0.62</td>\n",
              "      <td>0.60</td>\n",
              "    </tr>\n",
              "    <tr>\n",
              "      <th>CartScreenAppear</th>\n",
              "      <td>CartScreenAppear</td>\n",
              "      <td>1263</td>\n",
              "      <td>1228</td>\n",
              "      <td>0.51</td>\n",
              "      <td>0.48</td>\n",
              "    </tr>\n",
              "    <tr>\n",
              "      <th>PaymentScreenSuccessful</th>\n",
              "      <td>PaymentScreenSuccessful</td>\n",
              "      <td>1197</td>\n",
              "      <td>1179</td>\n",
              "      <td>0.48</td>\n",
              "      <td>0.47</td>\n",
              "    </tr>\n",
              "  </tbody>\n",
              "</table>\n",
              "</div>"
            ],
            "text/plain": [
              "                                      event_name  group_246  group_248  \\\n",
              "event_name                                                               \n",
              "MainScreenAppear                MainScreenAppear       2447       2491   \n",
              "OffersScreenAppear            OffersScreenAppear       1539       1529   \n",
              "CartScreenAppear                CartScreenAppear       1263       1228   \n",
              "PaymentScreenSuccessful  PaymentScreenSuccessful       1197       1179   \n",
              "\n",
              "                         part_users_246  part_users_248  \n",
              "event_name                                               \n",
              "MainScreenAppear                   0.99            0.98  \n",
              "OffersScreenAppear                 0.62            0.60  \n",
              "CartScreenAppear                   0.51            0.48  \n",
              "PaymentScreenSuccessful            0.48            0.47  "
            ]
          },
          "execution_count": 144,
          "metadata": {},
          "output_type": "execute_result"
        }
      ],
      "source": [
        "df_pivot_event_group.set_index(df_pivot_event_group.event_name,\n",
        "                               inplace=True)\n",
        "df_pivot_event_group"
      ]
    },
    {
      "cell_type": "code",
      "execution_count": 145,
      "metadata": {},
      "outputs": [
        {
          "data": {
            "text/plain": [
              "2447"
            ]
          },
          "execution_count": 145,
          "metadata": {},
          "output_type": "execute_result"
        }
      ],
      "source": [
        "df_pivot_event_group.loc['MainScreenAppear', 'group_246']"
      ]
    },
    {
      "cell_type": "code",
      "execution_count": 146,
      "metadata": {},
      "outputs": [],
      "source": [
        "#для биноминальных распределений -- распределения Бернулли\n",
        "\n",
        "def test_z_criterion(event_name, alpha):\n",
        "    import scipy.stats as st\n",
        "    import math\n",
        "\n",
        "    n1 = df_count_users.loc[246]\n",
        "    n2 = df_count_users.loc[248]\n",
        "\n",
        "    m1 = df_pivot_event_group.loc[event_name, 'group_246']\n",
        "    m2 = df_pivot_event_group.loc[event_name, 'group_248']\n",
        "\n",
        "    z_value = (m1/n1 - m2/n2) / math.sqrt(((m1+m2)/(n1+n2))*(1-((m1+m2)/(n1+n2)))*(1/n1+1/n2))\n",
        "    distr = st.norm(0, 1)\n",
        "    p_value = (1 - distr.cdf(abs(z_value))) * 2 #1-F(t)\n",
        "    print('Результаты проверки гипотезы H_0 по z-критерию:')\n",
        "    print('Уровень значимости alpha={:.2f}'.format(alpha))\n",
        "    print('P-value: {:.2f}'.format(p_value))\n",
        "    if p_value < alpha:\n",
        "        print(f\"\"\"Отвергаем нулевую гипотезу: разница в долях\n",
        "по событию <<{event_name}>> статистически значима.\"\"\")\n",
        "    else: print(f\"\"\"Не получилось отвергнуть нулевую гипотезу: разница в долях по\n",
        "событию <<{event_name}>> статистически незначима.\"\"\")\n",
        "    print('------------------------------------------------------------')"
      ]
    },
    {
      "cell_type": "code",
      "execution_count": 147,
      "metadata": {},
      "outputs": [
        {
          "name": "stdout",
          "output_type": "stream",
          "text": [
            "Результаты проверки гипотезы H_0 по z-критерию:\n",
            "Уровень значимости alpha=0.05\n",
            "P-value: 0.34\n",
            "Не получилось отвергнуть нулевую гипотезу: разница в долях по\n",
            "событию <<MainScreenAppear>> статистически незначима.\n",
            "------------------------------------------------------------\n",
            "Результаты проверки гипотезы H_0 по z-критерию:\n",
            "Уровень значимости alpha=0.05\n",
            "P-value: 0.22\n",
            "Не получилось отвергнуть нулевую гипотезу: разница в долях по\n",
            "событию <<OffersScreenAppear>> статистически незначима.\n",
            "------------------------------------------------------------\n",
            "Результаты проверки гипотезы H_0 по z-критерию:\n",
            "Уровень значимости alpha=0.05\n",
            "P-value: 0.08\n",
            "Не получилось отвергнуть нулевую гипотезу: разница в долях по\n",
            "событию <<CartScreenAppear>> статистически незначима.\n",
            "------------------------------------------------------------\n",
            "Результаты проверки гипотезы H_0 по z-критерию:\n",
            "Уровень значимости alpha=0.05\n",
            "P-value: 0.22\n",
            "Не получилось отвергнуть нулевую гипотезу: разница в долях по\n",
            "событию <<PaymentScreenSuccessful>> статистически незначима.\n",
            "------------------------------------------------------------\n"
          ]
        }
      ],
      "source": [
        "alpha = 0.05\n",
        "\n",
        "for col in df_pivot_event_group['event_name'].unique():\n",
        "    test_z_criterion(col, alpha)\n"
      ]
    },
    {
      "cell_type": "markdown",
      "metadata": {},
      "source": [
        "# С помощью Yandex DataLens создайте дашборд, отвечащий на следующие вопросы:\n",
        "- сколько уникальных клиентов в группах 247 и 248;\n",
        "- сколько уникальных клиентов совершили события по каждой группе;\n",
        "- по каждой группе построить распределение количества событий по времени.\n",
        "\n",
        "Ссылку на дашборд прикрепите к настоящей тетради."
      ]
    },
    {
      "cell_type": "code",
      "execution_count": 148,
      "metadata": {},
      "outputs": [
        {
          "data": {
            "text/plain": [
              "2510"
            ]
          },
          "execution_count": 148,
          "metadata": {},
          "output_type": "execute_result"
        }
      ],
      "source": [
        "# Сколько уникальных клиентов в группах 247 и 248\n",
        "unique_clients_247 = df[df['group_id'] == 247]['user_id'].nunique()\n",
        "unique_clients_248 = df[df['group_id'] == 248]['user_id'].nunique()\n",
        "unique_clients_247"
      ]
    },
    {
      "cell_type": "code",
      "execution_count": 149,
      "metadata": {},
      "outputs": [
        {
          "name": "stdout",
          "output_type": "stream",
          "text": [
            "Уникальные клиенты в группе 247: 2510\n",
            "Уникальные клиенты в группе 248: 2533\n"
          ]
        }
      ],
      "source": [
        "print(f\"Уникальные клиенты в группе 247: {unique_clients_247}\")\n",
        "print(f\"Уникальные клиенты в группе 248: {unique_clients_248}\")"
      ]
    },
    {
      "cell_type": "code",
      "execution_count": 150,
      "metadata": {},
      "outputs": [
        {
          "name": "stdout",
          "output_type": "stream",
          "text": [
            "Уникальные клиенты по группам:\n",
            "group_id\n",
            "246    2480\n",
            "247    2510\n",
            "248    2533\n",
            "Name: user_id, dtype: int64\n"
          ]
        }
      ],
      "source": [
        "# Сколько уникальных клиентов совершили события по каждой группе\n",
        "unique_clients_per_group = df.groupby('group_id')['user_id'].nunique()\n",
        "\n",
        "print(\"Уникальные клиенты по группам:\")\n",
        "print(unique_clients_per_group)"
      ]
    },
    {
      "cell_type": "code",
      "execution_count": 151,
      "metadata": {},
      "outputs": [
        {
          "data": {
            "image/png": "[encoded data removed]",
            "text/plain": [
              "<Figure size 1500x600 with 1 Axes>"
            ]
          },
          "metadata": {},
          "output_type": "display_data"
        }
      ],
      "source": [
        "# Построение распределения количества событий по времени\n",
        "plt.figure(figsize=(15, 6))\n",
        "\n",
        "# Группа 246\n",
        "sns.histplot(df[df['group_id'] == 246]['event_time'], bins=30, color='blue', label='Группа 246', kde=True)\n",
        "# Группа 247\n",
        "sns.histplot(df[df['group_id'] == 247]['event_time'], bins=30, color='green', label='Группа 247', kde=True)\n",
        "# Группа 248\n",
        "#sns.histplot(df[df['group_id'] == 248]['event_time'], bins=30, color='red', label='Группа 248', kde=True)\n",
        "\n",
        "plt.title('Распределение количества событий по времени')\n",
        "plt.xlabel('Время события')\n",
        "plt.ylabel('Количество событий')\n",
        "plt.legend()\n",
        "plt.show()"
      ]
    },
    {
      "cell_type": "markdown",
      "metadata": {},
      "source": [
        "С помощью Yandex DataLens создайте дашборд, отвечащий на следующие вопросы:\n",
        "- сколько уникальных клиентов в группах 247 и 248;\n",
        "- сколько уникальных клиентов совершили события по каждой группе;\n",
        "- по каждой группе построить распределение количества событий по времени.\n",
        "\n",
        "Ссылку на дашборд прикрепите к настоящей тетради."
      ]
    },
    {
      "cell_type": "markdown",
      "metadata": {},
      "source": [
        "https://datalens.yandex.cloud/1fdmsqru0nwoo"
      ]
    },
    {
      "cell_type": "markdown",
      "metadata": {},
      "source": [
        "https://datalens.yandex.cloud/1fdmsqru0nwoo"
      ]
    }
  ],
  "metadata": {
    "colab": {
      "provenance": []
    },
    "kernelspec": {
      "display_name": "Python 3",
      "name": "python3"
    },
    "language_info": {
      "codemirror_mode": {
        "name": "ipython",
        "version": 3
      },
      "file_extension": ".py",
      "mimetype": "text/x-python",
      "name": "python",
      "nbconvert_exporter": "python",
      "pygments_lexer": "ipython3",
      "version": "3.10.12"
    }
  },
  "nbformat": 4,
  "nbformat_minor": 0
}
