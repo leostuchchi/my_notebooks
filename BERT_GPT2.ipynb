{
 "cells": [
  {
   "cell_type": "markdown",
   "metadata": {
    "id": "VWtwSFtKyt7X"
   },
   "source": [
    "# 7.4 Практическая работа"
   ]
  },
  {
   "cell_type": "markdown",
   "metadata": {
    "id": "l2jDvSEXfuu8"
   },
   "source": [
    "Научиться применять предобученные эмбеддинги для решения NLP-задач с помощью BERT и GPT-2."
   ]
  },
  {
   "cell_type": "markdown",
   "metadata": {
    "id": "uHi9UabPfuu_"
   },
   "source": [
    "План ноутбука:.\n",
    "\n",
    "1. Вводные по задаче.\n",
    "\n",
    "2. Библиотеки.\n",
    "\n",
    "3. Блок функций.\n",
    "\n",
    "4. Загрузка и подготовка данных.\n",
    "\n",
    "5. Определение архитектуры нейросети.\n",
    "\n",
    "6. Модель BERT\n",
    "\n",
    "7. Модель GPT-2\n",
    "\n",
    "8. Результаты и выводы."
   ]
  },
  {
   "cell_type": "markdown",
   "metadata": {
    "id": "9s6UYw2zfuvC"
   },
   "source": [
    "## Вводные по задаче."
   ]
  },
  {
   "cell_type": "markdown",
   "metadata": {
    "id": "GbMKxPDyfuvE"
   },
   "source": [
    "Что нужно сделать\n",
    "\n",
    "Вы научитесь предсказывать наличие спама в сообщениях из электронной почты на основе содержащегося в них текста. Используя один из способов получения векторов, достигните минимального значения метрики F1-score — 0,8.\n",
    "\n",
    "Выполните задание с использованием PyTorch.\n",
    "\n",
    "Датасет: Emails for spam or ham classification (Trec 2006).\n",
    "\n",
    "Файл: email_text.csv."
   ]
  },
  {
   "cell_type": "markdown",
   "metadata": {
    "id": "6b1ignGDfuvF"
   },
   "source": [
    "    1 .Установите !pip install sentence_transformers.\n",
    "    \n",
    "    2. Загрузите файл email_text.csv из датасета Emails for spam or ham classification (Trec 2006), используйте для работы первую тысячу строк.\n",
    "    Проверьте на наличие null-значений и удалите их, если они есть.\n",
    "    \n",
    "    3. Проведите предобработку текста: преобразуйте текст в нижний регистр; преобразуйте сокращения; удалите лишние пробелы, знаки препинания, стоп-слова; лемматизируйте слова.\n",
    "    \n",
    "    4. Загрузите предобученную модель.\n",
    "    \n",
    "    5. Разделите полученные данные на тестовую и обучающую выборки в соотношении 80 на 20.\n",
    "    \n",
    "    6. Преобразуйте X_train, X_test, y_train, y_test в тензоры PyTorch.\n",
    "    \n",
    "    7. Создайте DataLoader для обучающего и тестового наборов данных, используя TensorDataset и DataLoader.\n",
    "    \n",
    "    8. Постройте архитектуру простой нейронной сети для решения задачи бинарной классификации.\n",
    "    \n",
    "    9. Оцените работу модели, построив графики Accuracy и Loss.\n",
    "    \n",
    "    10. Рассчитайте для тестовой выборки метрики Accuracy, F1-score.\n",
    "    \n",
    "    11. Сравните методы получения эмбеддингов. Какой результат лучше и почему?"
   ]
  },
  {
   "cell_type": "markdown",
   "metadata": {
    "id": "1ivuc9fMfuvH"
   },
   "source": [
    "Критерии оценки\n",
    "\n",
    "Принято: загружен датасет, выполнена предобработка текста, получены векторы, обучена модель, оценена работа модели, получены указанные метрики.\n",
    "\n",
    "На доработку: не выполнен один из критериев.\n",
    "\n",
    "Ожидаемые метрики для BERT:\n",
    "\n",
    "    F1-score — 0,85.\n",
    "    Accuracy — 0,75.\n",
    "\n",
    "Ожидаемые метрики для GPT-2:\n",
    "\n",
    "    F1-score — 0,84.\n",
    "    Accuracy — 0,73."
   ]
  },
  {
   "cell_type": "markdown",
   "metadata": {
    "id": "-58Mvq57fuvI"
   },
   "source": [
    "## Библиотеки."
   ]
  },
  {
   "cell_type": "code",
   "execution_count": 35,
   "metadata": {
    "executionInfo": {
     "elapsed": 377,
     "status": "ok",
     "timestamp": 1737306756367,
     "user": {
      "displayName": "Leonard Stuchilin",
      "userId": "12835425704178441738"
     },
     "user_tz": -120
    },
    "id": "jiVFbDWLfuvK"
   },
   "outputs": [],
   "source": [
    "#pip install sentence_transformers\n",
    "# !pip install nltk"
   ]
  },
  {
   "cell_type": "code",
   "execution_count": null,
   "metadata": {
    "executionInfo": {
     "elapsed": 8,
     "status": "ok",
     "timestamp": 1737306756717,
     "user": {
      "displayName": "Leonard Stuchilin",
      "userId": "12835425704178441738"
     },
     "user_tz": -120
    },
    "id": "wwXAaOhO33zZ"
   },
   "outputs": [],
   "source": [
    "import numpy as np\n",
    "import pandas as pd\n",
    "import matplotlib.pyplot as plt\n",
    "import re\n",
    "import random\n",
    "from tqdm import tqdm\n",
    "import pickle\n",
    "import nltk\n",
    "\n",
    "from nltk.corpus import stopwords\n",
    "from nltk.tokenize import word_tokenize\n",
    "from nltk.stem import WordNetLemmatizer\n",
    "from transformers import BertModel, BertTokenizer # предобученые модели\n",
    "from transformers import GPT2Tokenizer, GPT2LMHeadModel, GPT2Model # предобученые модели\n",
    "from sentence_transformers import SentenceTransformer\n",
    "\n",
    "import torch\n",
    "import torch.nn as nn\n",
    "import torch.optim as optim\n",
    "from torchsummary import summary\n",
    "from sklearn.model_selection import train_test_split\n",
    "from torch.utils.data import TensorDataset, DataLoader\n",
    "from sklearn.metrics import accuracy_score, f1_score\n",
    "from torch.optim.lr_scheduler import StepLR\n",
    "import gc # сборщик мусора\n",
    "\n",
    "# Загрузка необходимых ресурсов NLTK\n",
    "#nltk.download('punkt') изменилось название nltk.download('punkt_tab')\n",
    "#nltk.download('stopwords')\n",
    "#nltk.download('wordnet')\n",
    "#nltk.download('punkt_tab')"
   ]
  },
  {
   "cell_type": "code",
   "execution_count": 37,
   "metadata": {
    "colab": {
     "base_uri": "https://localhost:8080/"
    },
    "executionInfo": {
     "elapsed": 3943,
     "status": "ok",
     "timestamp": 1737306760654,
     "user": {
      "displayName": "Leonard Stuchilin",
      "userId": "12835425704178441738"
     },
     "user_tz": -120
    },
    "id": "UuF_B-IlgZK4",
    "outputId": "b914231d-1bd7-4db0-8875-b57f0c54567f"
   },
   "outputs": [],
   "source": [
    "#from google.colab import drive\n",
    "#drive.mount('/content/drive')"
   ]
  },
  {
   "cell_type": "code",
   "execution_count": 2,
   "metadata": {
    "colab": {
     "base_uri": "https://localhost:8080/"
    },
    "executionInfo": {
     "elapsed": 25,
     "status": "ok",
     "timestamp": 1737306760655,
     "user": {
      "displayName": "Leonard Stuchilin",
      "userId": "12835425704178441738"
     },
     "user_tz": -120
    },
    "id": "TEWz8DNzfuvQ",
    "outputId": "3d0d9fc4-d1fd-47e1-c0ab-474a2cd17d99"
   },
   "outputs": [
    {
     "name": "stderr",
     "output_type": "stream",
     "text": [
      "[nltk_data] Downloading package stopwords to\n",
      "[nltk_data]     /home/leostuchchi/nltk_data...\n",
      "[nltk_data]   Package stopwords is already up-to-date!\n",
      "[nltk_data] Downloading package wordnet to\n",
      "[nltk_data]     /home/leostuchchi/nltk_data...\n",
      "[nltk_data]   Package wordnet is already up-to-date!\n",
      "[nltk_data] Downloading package punkt_tab to\n",
      "[nltk_data]     /home/leostuchchi/nltk_data...\n",
      "[nltk_data]   Package punkt_tab is already up-to-date!\n"
     ]
    },
    {
     "data": {
      "text/plain": [
       "True"
      ]
     },
     "execution_count": 2,
     "metadata": {},
     "output_type": "execute_result"
    }
   ],
   "source": [
    "# Предобработка данных\n",
    "# Загрузка необходимых ресурсов NLTK\n",
    "#nltk.download('punkt') изменилось название nltk.download('punkt_tab')\n",
    "nltk.download('stopwords')\n",
    "nltk.download('wordnet')\n",
    "nltk.download('punkt_tab')"
   ]
  },
  {
   "cell_type": "code",
   "execution_count": 3,
   "metadata": {
    "executionInfo": {
     "elapsed": 19,
     "status": "ok",
     "timestamp": 1737306760656,
     "user": {
      "displayName": "Leonard Stuchilin",
      "userId": "12835425704178441738"
     },
     "user_tz": -120
    },
    "id": "def2Z2oofuvS"
   },
   "outputs": [],
   "source": [
    "device = torch.device(\"cuda\" if torch.cuda.is_available() else \"cpu\")"
   ]
  },
  {
   "cell_type": "code",
   "execution_count": 40,
   "metadata": {
    "colab": {
     "base_uri": "https://localhost:8080/"
    },
    "executionInfo": {
     "elapsed": 18,
     "status": "ok",
     "timestamp": 1737306760656,
     "user": {
      "displayName": "Leonard Stuchilin",
      "userId": "12835425704178441738"
     },
     "user_tz": -120
    },
    "id": "IKz-K1xTfuvT",
    "outputId": "5d63b37f-7f09-4772-8b57-32d9d62d6433"
   },
   "outputs": [
    {
     "name": "stdout",
     "output_type": "stream",
     "text": [
      "Resource punkt found.\n"
     ]
    }
   ],
   "source": [
    "import nltk.data\n",
    "\n",
    "try:\n",
    "    nltk.data.find('tokenizers/punkt')\n",
    "    print(\"Resource punkt found.\")\n",
    "except LookupError:\n",
    "    print(\"Resource punkt not found.\")"
   ]
  },
  {
   "cell_type": "markdown",
   "metadata": {
    "id": "XvRk7GIHfuvY"
   },
   "source": [
    "\n",
    "from_pretrained: Этот метод загружает предобученную модель и соответствующий токенизатор из репозитория Hugging Face.\n",
    "\n",
    "Токенизация: Текст преобразуется в формат, который может быть обработан моделью (тензоры).\n",
    "\n",
    "Выходные данные:\n",
    "    \n",
    "    Для BERT вы получаете выходные данные, содержащие представления входных данных.\n",
    "    \n",
    "    Для GPT-2 вы можете использовать метод generate для генерации текста.\n"
   ]
  },
  {
   "cell_type": "markdown",
   "metadata": {
    "id": "ag3TVtwTfuvY"
   },
   "source": [
    "## Блок функций."
   ]
  },
  {
   "cell_type": "code",
   "execution_count": 4,
   "metadata": {
    "executionInfo": {
     "elapsed": 78,
     "status": "ok",
     "timestamp": 1737306764196,
     "user": {
      "displayName": "Leonard Stuchilin",
      "userId": "12835425704178441738"
     },
     "user_tz": -120
    },
    "id": "LfFN-jlafuvb"
   },
   "outputs": [],
   "source": [
    "def text_cleaner(text):\n",
    "    # Преобразование текста в нижний регистр\n",
    "    text = text.lower()\n",
    "\n",
    "    # Удаление лишних пробелов\n",
    "    text = re.sub(r'\\s+', ' ', text)\n",
    "\n",
    "    # Преобразование сокращений\n",
    "    text = re.sub(r\"won't\", \"will not\", text)\n",
    "    text = re.sub(r\"can't\", \"cannot\", text)\n",
    "    text = re.sub(r\"n't\", \" not\", text)\n",
    "    text = re.sub(r\"'ve\", \" have\", text)\n",
    "    text = re.sub(r\"'ll\", \" will\", text)\n",
    "    text = re.sub(r\"'d\", \" would\", text)\n",
    "    text = re.sub(r\"'re\", \" are\", text)\n",
    "    text = re.sub(r\"'s\", \" is\", text)\n",
    "    text = re.sub(r\"'m\", \" am\", text)\n",
    "\n",
    "    # Удаление знаков препинания\n",
    "    text = re.sub(r'[^\\w\\s]', '', text)\n",
    "\n",
    "    # Удаление стоп-слов\n",
    "    stop_words = set(stopwords.words('english'))\n",
    "    tokens = word_tokenize(text)\n",
    "    filtered_text = [word for word in tokens if word.lower() not in stop_words]\n",
    "\n",
    "    # Лемматизация слов\n",
    "    lemmatizer = WordNetLemmatizer()\n",
    "    lemmatized_text = [lemmatizer.lemmatize(word) for word in filtered_text]\n",
    "\n",
    "    # Объединение лемматизированных слов обратно в текст\n",
    "    cleaned_text = ' '.join(lemmatized_text)\n",
    "\n",
    "    return cleaned_text\n",
    "\n",
    "\n",
    "\n",
    "\n",
    "# Функция для получения эмбеддингов из GPT-2\n",
    "def get_gpt2_embeddings(texts):\n",
    "    # Токенизация текстов\n",
    "    tokens = tokenizer_gpt(texts, padding=True, truncation=True, return_tensors='pt')\n",
    "    with torch.no_grad():\n",
    "        outputs = model_gpt(**tokens)\n",
    "    # Получение эмбеддингов (используем последний скрытый слой)\n",
    "    return outputs.last_hidden_state.mean(dim=1)  # Среднее по всем токенам\n",
    "\n",
    "\n",
    "def training(model, epochs, optimizer, criterion, train_loader, test_loader):\n",
    "    '''\n",
    "    input: model, epochs, optimizer, criterion, train_loader, test_loader\n",
    "    output: model, train_losses, test_losses, train_accuracies, test_accuracies\n",
    "    '''\n",
    "\n",
    "    # Пустые списки для хранения значений потерь и точности на обучающей и тестовой выборках\n",
    "    train_losses = []\n",
    "    train_accuracies = []\n",
    "    test_losses = []\n",
    "    test_accuracies = []\n",
    "\n",
    "    # Обучение модели\n",
    "    for epoch in range(epochs):\n",
    "        model.train()\n",
    "        running_loss = 0.0\n",
    "        correct_train = 0\n",
    "        total_train = 0\n",
    "        for inputs, labels in train_loader:\n",
    "            optimizer.zero_grad()\n",
    "            outputs = model(inputs)\n",
    "\n",
    "            # Убедитесь, что outputs имеет размерность [N]\n",
    "            outputs = outputs.view(-1)  # Меняем размерность на [N]\n",
    "\n",
    "            loss = criterion(outputs, labels.float())  # Вычисление потерь\n",
    "            loss.backward()\n",
    "            optimizer.step()\n",
    "            running_loss += loss.item()\n",
    "\n",
    "            # Вычисление точности на обучающей выборке\n",
    "            predicted_train = (outputs >= 0.5).float()  # бинаризация выходов\n",
    "            total_train += labels.size(0)\n",
    "            correct_train += (predicted_train == labels).sum().item()\n",
    "\n",
    "        # Сохранение значений потерь и точности на обучающей выборке\n",
    "        train_losses.append(running_loss / len(train_loader))\n",
    "        train_accuracies.append(correct_train / total_train)\n",
    "\n",
    "        # Оценка модели на тестовой выборке\n",
    "        model.eval()\n",
    "        test_loss = 0.0\n",
    "        correct_test = 0\n",
    "        total_test = 0\n",
    "        with torch.no_grad():\n",
    "            for inputs, labels in test_loader:\n",
    "                outputs = model(inputs)\n",
    "\n",
    "                # Убедитесь, что outputs имеет размерность [N]\n",
    "                outputs = outputs.view(-1)  # Меняем размерность на [N]\n",
    "\n",
    "                loss = criterion(outputs, labels.float())\n",
    "                test_loss += loss.item()\n",
    "\n",
    "                # Вычисление точности на тестовой выборке\n",
    "                predicted_test = (outputs >= 0.5).float()  # бинаризация выходов\n",
    "                total_test += labels.size(0)\n",
    "                correct_test += (predicted_test == labels).sum().item()\n",
    "\n",
    "        # Сохранение значений потерь и точности на тестовой выборке\n",
    "        test_losses.append(test_loss / len(test_loader))\n",
    "        test_accuracies.append(correct_test / total_test)\n",
    "\n",
    "        print(f\"Epoch {epoch+1}, Train Loss: {train_losses[-1]}, Train Accuracy: {train_accuracies[-1]}, Test Loss: {test_losses[-1]}, Test Accuracy: {test_accuracies[-1]}\")\n",
    "\n",
    "    return model, train_losses, test_losses, train_accuracies, test_accuracies\n",
    "\n",
    "\n",
    "\n",
    "def plots(train_losses, test_losses, train_accuracies, test_accuracies):\n",
    "    # Построение графиков\n",
    "    plt.figure(figsize=(10, 5))\n",
    "    plt.subplot(1, 2, 1)\n",
    "    plt.plot(range(1, 11), train_losses, label='Training Loss')\n",
    "    plt.plot(range(1, 11), test_losses, label='Test Loss')\n",
    "    plt.xlabel('Epochs')\n",
    "    plt.ylabel('Loss')\n",
    "    plt.title('Training and Test Losses')\n",
    "    plt.legend()\n",
    "\n",
    "    plt.subplot(1, 2, 2)\n",
    "    plt.plot(range(1, 11), train_accuracies, label='Training Accuracy')\n",
    "    plt.plot(range(1, 11), test_accuracies, label='Test Accuracy')\n",
    "    plt.xlabel('Epochs')\n",
    "    plt.ylabel('Accuracy')\n",
    "    plt.title('Training and Test Accuracies')\n",
    "    plt.legend()\n",
    "\n",
    "    plt.tight_layout()\n",
    "    plt.show()\n",
    "\n",
    "\n",
    "\n",
    "def metrix(model, test_loader):\n",
    "    # Оценка модели на тестовой выборке\n",
    "    model.eval()\n",
    "    y_pred_list = []\n",
    "    y_true_list = []\n",
    "\n",
    "    with torch.no_grad():\n",
    "        for inputs, labels in test_loader:\n",
    "            outputs = model(inputs).squeeze()\n",
    "            predicted_labels = (outputs > 0.5).long()\n",
    "\n",
    "            y_pred_list.extend(predicted_labels.cpu().numpy())\n",
    "            y_true_list.extend(labels.cpu().numpy())\n",
    "\n",
    "    # Расчет метрик для тестовой выборки\n",
    "    accuracy_test = accuracy_score(y_true_list, y_pred_list)\n",
    "    f1_score_test = f1_score(y_true_list, y_pred_list)\n",
    "\n",
    "    print(f'Test Accuracy: {accuracy_test:.4f}')\n",
    "    print(f'Test F1 Score: {f1_score_test:.4f}')\n"
   ]
  },
  {
   "cell_type": "markdown",
   "metadata": {
    "id": "2VVldn3ifuvc"
   },
   "source": [
    "## Загрузка и подготовка данных"
   ]
  },
  {
   "cell_type": "code",
   "execution_count": null,
   "metadata": {
    "executionInfo": {
     "elapsed": 77,
     "status": "ok",
     "timestamp": 1737306764197,
     "user": {
      "displayName": "Leonard Stuchilin",
      "userId": "12835425704178441738"
     },
     "user_tz": -120
    },
    "id": "90Xbtbxc3-M0"
   },
   "outputs": [],
   "source": [
    "# используйте для работы первую тысячу строк.\n",
    "#full_data_path = \"data/email_text.csv\"\n",
    "full_data_path = \"/content/drive/MyDrive/Scientist/Advanced/NLP/data/email_text.csv\"\n",
    "df = pd.read_csv(full_data_path, usecols=lambda column: column != 'id', nrows=1000)"
   ]
  },
  {
   "cell_type": "code",
   "execution_count": 6,
   "metadata": {
    "colab": {
     "base_uri": "https://localhost:8080/",
     "height": 206
    },
    "executionInfo": {
     "elapsed": 75,
     "status": "ok",
     "timestamp": 1737306764198,
     "user": {
      "displayName": "Leonard Stuchilin",
      "userId": "12835425704178441738"
     },
     "user_tz": -120
    },
    "id": "f8t2jouf4OSX",
    "outputId": "65cdb1e4-d18c-4a2f-deab-d0446b4289f6"
   },
   "outputs": [
    {
     "data": {
      "text/html": [
       "<div>\n",
       "<style scoped>\n",
       "    .dataframe tbody tr th:only-of-type {\n",
       "        vertical-align: middle;\n",
       "    }\n",
       "\n",
       "    .dataframe tbody tr th {\n",
       "        vertical-align: top;\n",
       "    }\n",
       "\n",
       "    .dataframe thead th {\n",
       "        text-align: right;\n",
       "    }\n",
       "</style>\n",
       "<table border=\"1\" class=\"dataframe\">\n",
       "  <thead>\n",
       "    <tr style=\"text-align: right;\">\n",
       "      <th></th>\n",
       "      <th>label</th>\n",
       "      <th>text</th>\n",
       "    </tr>\n",
       "  </thead>\n",
       "  <tbody>\n",
       "    <tr>\n",
       "      <th>0</th>\n",
       "      <td>0</td>\n",
       "      <td>the mailing list i queried about a few weeks a...</td>\n",
       "    </tr>\n",
       "    <tr>\n",
       "      <th>1</th>\n",
       "      <td>1</td>\n",
       "      <td>luxury watches buy your own rolex for only esc...</td>\n",
       "    </tr>\n",
       "    <tr>\n",
       "      <th>2</th>\n",
       "      <td>1</td>\n",
       "      <td>academic qualifications available from prestig...</td>\n",
       "    </tr>\n",
       "    <tr>\n",
       "      <th>3</th>\n",
       "      <td>0</td>\n",
       "      <td>greetings all this is to verify your subscript...</td>\n",
       "    </tr>\n",
       "    <tr>\n",
       "      <th>4</th>\n",
       "      <td>1</td>\n",
       "      <td>try chauncey may conferred the luscious not co...</td>\n",
       "    </tr>\n",
       "  </tbody>\n",
       "</table>\n",
       "</div>"
      ],
      "text/plain": [
       "   label                                               text\n",
       "0      0  the mailing list i queried about a few weeks a...\n",
       "1      1  luxury watches buy your own rolex for only esc...\n",
       "2      1  academic qualifications available from prestig...\n",
       "3      0  greetings all this is to verify your subscript...\n",
       "4      1  try chauncey may conferred the luscious not co..."
      ]
     },
     "execution_count": 6,
     "metadata": {},
     "output_type": "execute_result"
    }
   ],
   "source": [
    "df.head()"
   ]
  },
  {
   "cell_type": "code",
   "execution_count": 7,
   "metadata": {
    "colab": {
     "base_uri": "https://localhost:8080/"
    },
    "executionInfo": {
     "elapsed": 71,
     "status": "ok",
     "timestamp": 1737306764199,
     "user": {
      "displayName": "Leonard Stuchilin",
      "userId": "12835425704178441738"
     },
     "user_tz": -120
    },
    "id": "k9mOUNn_LTDJ",
    "outputId": "f4286ef1-a40d-40ef-8d2e-6a5fce0829ac"
   },
   "outputs": [
    {
     "data": {
      "text/plain": [
       "(1000, 2)"
      ]
     },
     "execution_count": 7,
     "metadata": {},
     "output_type": "execute_result"
    }
   ],
   "source": [
    "df.shape"
   ]
  },
  {
   "cell_type": "markdown",
   "metadata": {
    "id": "NVCRAl1dSglf"
   },
   "source": [
    "### Баланс классов"
   ]
  },
  {
   "cell_type": "code",
   "execution_count": 47,
   "metadata": {
    "colab": {
     "base_uri": "https://localhost:8080/",
     "height": 178
    },
    "executionInfo": {
     "elapsed": 61,
     "status": "ok",
     "timestamp": 1737306764200,
     "user": {
      "displayName": "Leonard Stuchilin",
      "userId": "12835425704178441738"
     },
     "user_tz": -120
    },
    "id": "VMIr_BVsfuvg",
    "outputId": "b5d54701-0c80-46ec-b73e-0e2ea230cc6a"
   },
   "outputs": [
    {
     "data": {
      "text/plain": [
       "label\n",
       "0    652\n",
       "1    348\n",
       "Name: count, dtype: int64"
      ]
     },
     "execution_count": 47,
     "metadata": {},
     "output_type": "execute_result"
    }
   ],
   "source": [
    "df['label'].value_counts()"
   ]
  },
  {
   "cell_type": "code",
   "execution_count": 8,
   "metadata": {
    "colab": {
     "base_uri": "https://localhost:8080/",
     "height": 147
    },
    "executionInfo": {
     "elapsed": 56,
     "status": "ok",
     "timestamp": 1737306764200,
     "user": {
      "displayName": "Leonard Stuchilin",
      "userId": "12835425704178441738"
     },
     "user_tz": -120
    },
    "id": "9n7FqrRpfuvh",
    "outputId": "33bccf25-39e3-4806-f65a-ef4cfa81f99f"
   },
   "outputs": [
    {
     "data": {
      "text/plain": [
       "label    0\n",
       "text     0\n",
       "dtype: int64"
      ]
     },
     "execution_count": 8,
     "metadata": {},
     "output_type": "execute_result"
    }
   ],
   "source": [
    "# Проверяем на наличие null-значений\n",
    "df.isnull().sum()"
   ]
  },
  {
   "cell_type": "code",
   "execution_count": 9,
   "metadata": {
    "colab": {
     "base_uri": "https://localhost:8080/"
    },
    "executionInfo": {
     "elapsed": 53,
     "status": "ok",
     "timestamp": 1737306764201,
     "user": {
      "displayName": "Leonard Stuchilin",
      "userId": "12835425704178441738"
     },
     "user_tz": -120
    },
    "id": "A3_QveSYfuvi",
    "outputId": "c7e1cfbc-c0b7-4c7c-b018-530963543dca"
   },
   "outputs": [
    {
     "name": "stdout",
     "output_type": "stream",
     "text": [
      "(1000, 2)\n"
     ]
    },
    {
     "data": {
      "text/plain": [
       "(1000, 2)"
      ]
     },
     "execution_count": 9,
     "metadata": {},
     "output_type": "execute_result"
    }
   ],
   "source": [
    "print(df.shape)\n",
    "#df.dropna(inplace=True)\n",
    "df.shape"
   ]
  },
  {
   "cell_type": "code",
   "execution_count": 10,
   "metadata": {
    "colab": {
     "base_uri": "https://localhost:8080/",
     "height": 206
    },
    "executionInfo": {
     "elapsed": 5997,
     "status": "ok",
     "timestamp": 1737306770154,
     "user": {
      "displayName": "Leonard Stuchilin",
      "userId": "12835425704178441738"
     },
     "user_tz": -120
    },
    "id": "np3DEtBxfuvj",
    "outputId": "93a6df36-485b-428b-b480-27e9e3303aad"
   },
   "outputs": [
    {
     "data": {
      "text/html": [
       "<div>\n",
       "<style scoped>\n",
       "    .dataframe tbody tr th:only-of-type {\n",
       "        vertical-align: middle;\n",
       "    }\n",
       "\n",
       "    .dataframe tbody tr th {\n",
       "        vertical-align: top;\n",
       "    }\n",
       "\n",
       "    .dataframe thead th {\n",
       "        text-align: right;\n",
       "    }\n",
       "</style>\n",
       "<table border=\"1\" class=\"dataframe\">\n",
       "  <thead>\n",
       "    <tr style=\"text-align: right;\">\n",
       "      <th></th>\n",
       "      <th>label</th>\n",
       "      <th>text</th>\n",
       "    </tr>\n",
       "  </thead>\n",
       "  <tbody>\n",
       "    <tr>\n",
       "      <th>0</th>\n",
       "      <td>0</td>\n",
       "      <td>mailing list queried week ago running also set...</td>\n",
       "    </tr>\n",
       "    <tr>\n",
       "      <th>1</th>\n",
       "      <td>1</td>\n",
       "      <td>luxury watch buy rolex escapenumber rolex cart...</td>\n",
       "    </tr>\n",
       "    <tr>\n",
       "      <th>2</th>\n",
       "      <td>1</td>\n",
       "      <td>academic qualification available prestigious n...</td>\n",
       "    </tr>\n",
       "    <tr>\n",
       "      <th>3</th>\n",
       "      <td>0</td>\n",
       "      <td>greeting verify subscription planescapenumber ...</td>\n",
       "    </tr>\n",
       "    <tr>\n",
       "      <th>4</th>\n",
       "      <td>1</td>\n",
       "      <td>try chauncey may conferred luscious continued ...</td>\n",
       "    </tr>\n",
       "  </tbody>\n",
       "</table>\n",
       "</div>"
      ],
      "text/plain": [
       "   label                                               text\n",
       "0      0  mailing list queried week ago running also set...\n",
       "1      1  luxury watch buy rolex escapenumber rolex cart...\n",
       "2      1  academic qualification available prestigious n...\n",
       "3      0  greeting verify subscription planescapenumber ...\n",
       "4      1  try chauncey may conferred luscious continued ..."
      ]
     },
     "execution_count": 10,
     "metadata": {},
     "output_type": "execute_result"
    }
   ],
   "source": [
    "# нормализация текста\n",
    "df['text'] = df['text'].map(lambda i : text_cleaner(i))\n",
    "df.head()"
   ]
  },
  {
   "cell_type": "code",
   "execution_count": 15,
   "metadata": {
    "executionInfo": {
     "elapsed": 34,
     "status": "ok",
     "timestamp": 1737306770156,
     "user": {
      "displayName": "Leonard Stuchilin",
      "userId": "12835425704178441738"
     },
     "user_tz": -120
    },
    "id": "pXrVrTQSfuvj"
   },
   "outputs": [],
   "source": [
    "# Извлечение текстовых данных и меток классов\n",
    "X = df['text'].tolist()  # Извлекаем текстовые данные в список строк\n",
    "y = df['label'].tolist()  # Извлекаем метки классов в список"
   ]
  },
  {
   "cell_type": "code",
   "execution_count": 16,
   "metadata": {
    "executionInfo": {
     "elapsed": 31,
     "status": "ok",
     "timestamp": 1737306770156,
     "user": {
      "displayName": "Leonard Stuchilin",
      "userId": "12835425704178441738"
     },
     "user_tz": -120
    },
    "id": "3qrCuCEbfuvk"
   },
   "outputs": [],
   "source": [
    "# Проверка на наличие пустых значений или неправильных типов данных (опционально)\n",
    "X = [text for text in X if isinstance(text, str) and len(text) > 0]\n",
    "y = [label for label in y if label in [0, 1]]  # Предполагается, что метки бинарные (0 или 1)"
   ]
  },
  {
   "cell_type": "code",
   "execution_count": 17,
   "metadata": {},
   "outputs": [
    {
     "name": "stdout",
     "output_type": "stream",
     "text": [
      "1000\n",
      "1000\n",
      "1000\n"
     ]
    }
   ],
   "source": [
    "# проверка данных\n",
    "print(len(df))\n",
    "print(len(X))\n",
    "print(len(y))"
   ]
  },
  {
   "cell_type": "markdown",
   "metadata": {},
   "source": [
    "## Определение архитектуры нейросети."
   ]
  },
  {
   "cell_type": "markdown",
   "metadata": {},
   "source": [
    "### Применим одну и ту-же архитектуру простой нейросети для чистоты эксперимента."
   ]
  },
  {
   "cell_type": "code",
   "execution_count": null,
   "metadata": {},
   "outputs": [],
   "source": [
    "# Определение архитектуры нейронной сети для бинарной классификации\n",
    "class SimpleNN(nn.Module):\n",
    "    def __init__(self, input_size, hidden_size):\n",
    "        super(SimpleNN, self).__init__()\n",
    "        self.fc1 = nn.Linear(input_size, hidden_size)\n",
    "        self.relu = nn.ReLU()\n",
    "        self.fc2 = nn.Linear(hidden_size, 1)  # Выходной слой с размером 1 для бинарной классификации\n",
    "        self.sigmoid = nn.Sigmoid()\n",
    "\n",
    "    def forward(self, x):\n",
    "        out = self.fc1(x)\n",
    "        out = self.relu(out)\n",
    "        out = self.fc2(out)\n",
    "        out = self.sigmoid(out)\n",
    "        return out"
   ]
  },
  {
   "cell_type": "markdown",
   "metadata": {},
   "source": [
    "\n",
    "SimpleNN — это полносвязная нейронная сеть (feedforward neural network), которая может быть использована для задач классификации. \n",
    "\n",
    "Входные данные:\n",
    "\n",
    "Входные данные для модели должны быть правильно подготовлены. Для BERT и GPT-2 вам нужно будет извлекать эмбеддинги или выходы из этих моделей и передавать их в SimpleNN.\n",
    "\n",
    "Обработка выходов:\n",
    "\n",
    "Выходы BERT и GPT-2 имеют разные форматы:\n",
    "\n",
    "BERT: Обычно выходы из [CLS] токена для задач классификации.\n",
    "\n",
    "GPT-2: Использовать последний токен или усреднить эмбеддинги по всем токенам."
   ]
  },
  {
   "cell_type": "markdown",
   "metadata": {
    "id": "OPP9l2eafuvl"
   },
   "source": [
    "## Модель BERT"
   ]
  },
  {
   "cell_type": "code",
   "execution_count": 53,
   "metadata": {
    "executionInfo": {
     "elapsed": 30,
     "status": "ok",
     "timestamp": 1737306770157,
     "user": {
      "displayName": "Leonard Stuchilin",
      "userId": "12835425704178441738"
     },
     "user_tz": -120
    },
    "id": "HSUR3V_4fuvm"
   },
   "outputs": [],
   "source": [
    "# разделение train, test\n",
    "X_train, X_test, y_train, y_test = train_test_split(X, y, test_size=0.2, random_state=42)"
   ]
  },
  {
   "cell_type": "code",
   "execution_count": 54,
   "metadata": {
    "colab": {
     "base_uri": "https://localhost:8080/"
    },
    "executionInfo": {
     "elapsed": 27,
     "status": "ok",
     "timestamp": 1737306770157,
     "user": {
      "displayName": "Leonard Stuchilin",
      "userId": "12835425704178441738"
     },
     "user_tz": -120
    },
    "id": "spbjhNHmfuvn",
    "outputId": "a356cdb1-e4e2-443a-feb3-e83119cd5708"
   },
   "outputs": [
    {
     "name": "stderr",
     "output_type": "stream",
     "text": [
      "No sentence-transformers model found with name bert-base-uncased. Creating a new one with mean pooling.\n"
     ]
    }
   ],
   "source": [
    "# Загрузка токенизатора и модели BERT\n",
    "tokenizer_bert = BertTokenizer.from_pretrained('bert-base-uncased')\n",
    "model_bert = BertModel.from_pretrained('bert-base-uncased')\n",
    "\n",
    "# Если использовать SentenceTransformer\n",
    "sentence_model_bert = SentenceTransformer('bert-base-uncased')"
   ]
  },
  {
   "cell_type": "markdown",
   "metadata": {
    "id": "_1Z-0iAkfuvn"
   },
   "source": [
    "### Преобразование с помощью sentence_model_bert = SentenceTransformer('bert-base-nli-mean-tokens')"
   ]
  },
  {
   "cell_type": "code",
   "execution_count": 55,
   "metadata": {
    "executionInfo": {
     "elapsed": 1311,
     "status": "ok",
     "timestamp": 1737306771447,
     "user": {
      "displayName": "Leonard Stuchilin",
      "userId": "12835425704178441738"
     },
     "user_tz": -120
    },
    "id": "clAaguyLfuvo"
   },
   "outputs": [],
   "source": [
    "# модель не найдена!\n",
    "# No sentence-transformers model found with name bert-base-uncased. Creating a new one with mean pooling.\n",
    "# !! изменил название модели\n",
    "sentence_model_bert = SentenceTransformer('bert-base-nli-mean-tokens')"
   ]
  },
  {
   "cell_type": "code",
   "execution_count": 56,
   "metadata": {
    "executionInfo": {
     "elapsed": 7214,
     "status": "ok",
     "timestamp": 1737306778653,
     "user": {
      "displayName": "Leonard Stuchilin",
      "userId": "12835425704178441738"
     },
     "user_tz": -120
    },
    "id": "-n3YsKv2fuvo"
   },
   "outputs": [],
   "source": [
    "# Преобразуем текстовые данные в векторы эмбеддингов\n",
    "bert_embeddings_train = sentence_model_bert.encode(X_train, convert_to_tensor=True).to(device)\n",
    "bert_embeddings_test = sentence_model_bert.encode(X_test, convert_to_tensor=True).to(device)"
   ]
  },
  {
   "cell_type": "markdown",
   "metadata": {
    "id": "bhfLJ2WYfuvp"
   },
   "source": [
    "Если метки являются бинарными, то использование float32 для меток может быть не обязательно. Если метки — это целые числа, можно оставить их в формате float32, но обычно для классификации используются целые числа (dtype=torch.long)\n",
    "\n",
    "dtype=torch.long для меток, если классы в виде целых чисел. Если метки — это бинарные значения (0 и 1), то использование dtype=torch.float32 может быть оправдано, особенно если вы используете функцию потерь, такую как BCEWithLogitsLoss."
   ]
  },
  {
   "cell_type": "code",
   "execution_count": 57,
   "metadata": {
    "executionInfo": {
     "elapsed": 24,
     "status": "ok",
     "timestamp": 1737306778658,
     "user": {
      "displayName": "Leonard Stuchilin",
      "userId": "12835425704178441738"
     },
     "user_tz": -120
    },
    "id": "TBIwlXeYfuvq"
   },
   "outputs": [],
   "source": [
    "# Преобразование меток в тензоры PyTorch\n",
    "#y_train_tensor = torch.tensor(y_train.values, dtype=torch.float32)\n",
    "#y_test_tensor = torch.tensor(y_test.values, dtype=torch.float32)\n",
    "\n",
    "# Преобразование меток в тензоры PyTorch\n",
    "y_train_tensor = torch.tensor(y_train, dtype=torch.long).to(device)\n",
    "y_test_tensor = torch.tensor(y_test, dtype=torch.long).to(device)"
   ]
  },
  {
   "cell_type": "code",
   "execution_count": 58,
   "metadata": {
    "executionInfo": {
     "elapsed": 22,
     "status": "ok",
     "timestamp": 1737306778659,
     "user": {
      "displayName": "Leonard Stuchilin",
      "userId": "12835425704178441738"
     },
     "user_tz": -120
    },
    "id": "U-xzIorwfuvq"
   },
   "outputs": [],
   "source": [
    "# Создание DataLoader для обучающего и тестового наборов данных\n",
    "train_dataset = TensorDataset(bert_embeddings_train, y_train_tensor)\n",
    "test_dataset = TensorDataset(bert_embeddings_test, y_test_tensor)\n",
    "\n",
    "train_loader_b = DataLoader(train_dataset, batch_size=32, shuffle=True)\n",
    "test_loader_b = DataLoader(test_dataset, batch_size=32)\n",
    "\n"
   ]
  },
  {
   "cell_type": "code",
   "execution_count": 60,
   "metadata": {
    "executionInfo": {
     "elapsed": 20,
     "status": "ok",
     "timestamp": 1737306778659,
     "user": {
      "displayName": "Leonard Stuchilin",
      "userId": "12835425704178441738"
     },
     "user_tz": -120
    },
    "id": "CFGrFEJa_SRD"
   },
   "outputs": [],
   "source": [
    "# Параметры модели\n",
    "input_size = bert_embeddings_train.size(1)  # Размер эмбеддинга (например, 768 для BERT)\n",
    "hidden_size = 128  # Размер скрытого слоя"
   ]
  },
  {
   "cell_type": "code",
   "execution_count": 61,
   "metadata": {
    "executionInfo": {
     "elapsed": 20,
     "status": "ok",
     "timestamp": 1737306778659,
     "user": {
      "displayName": "Leonard Stuchilin",
      "userId": "12835425704178441738"
     },
     "user_tz": -120
    },
    "id": "oPoG5kpL_VXD"
   },
   "outputs": [],
   "source": [
    "# Инициализация модели, функции потерь и оптимизатора\n",
    "model_b = SimpleNN(input_size=input_size, hidden_size=hidden_size)\n",
    "criterion = nn.BCELoss()  # Функция потерь для бинарной классификации\n",
    "optimizer = optim.Adam(model_b.parameters(), lr=0.001)"
   ]
  },
  {
   "cell_type": "code",
   "execution_count": 62,
   "metadata": {
    "executionInfo": {
     "elapsed": 19,
     "status": "ok",
     "timestamp": 1737306778660,
     "user": {
      "displayName": "Leonard Stuchilin",
      "userId": "12835425704178441738"
     },
     "user_tz": -120
    },
    "id": "Q48J_MrIfuvt"
   },
   "outputs": [],
   "source": [
    "model_b.to(device)\n",
    "criterion = criterion.to(device)\n",
    "epochs = 10"
   ]
  },
  {
   "cell_type": "code",
   "execution_count": 63,
   "metadata": {
    "colab": {
     "base_uri": "https://localhost:8080/"
    },
    "executionInfo": {
     "elapsed": 548,
     "status": "ok",
     "timestamp": 1737306779190,
     "user": {
      "displayName": "Leonard Stuchilin",
      "userId": "12835425704178441738"
     },
     "user_tz": -120
    },
    "id": "zcX7QGZAfuvu",
    "outputId": "2c563b35-605c-4cb7-8f74-0b79bd2b0f36"
   },
   "outputs": [
    {
     "name": "stdout",
     "output_type": "stream",
     "text": [
      "Epoch 1, Train Loss: 0.4144072359800339, Train Accuracy: 0.805, Test Loss: 0.2008529773780278, Test Accuracy: 0.945\n",
      "Epoch 2, Train Loss: 0.211528939306736, Train Accuracy: 0.925, Test Loss: 0.13738477655819484, Test Accuracy: 0.965\n",
      "Epoch 3, Train Loss: 0.16972523629665376, Train Accuracy: 0.94125, Test Loss: 0.12218605194772993, Test Accuracy: 0.965\n",
      "Epoch 4, Train Loss: 0.14520655140280725, Train Accuracy: 0.9425, Test Loss: 0.10870886806930814, Test Accuracy: 0.97\n",
      "Epoch 5, Train Loss: 0.11522806107997895, Train Accuracy: 0.96125, Test Loss: 0.09855108867798533, Test Accuracy: 0.97\n",
      "Epoch 6, Train Loss: 0.08989122360944748, Train Accuracy: 0.97125, Test Loss: 0.11773850183401789, Test Accuracy: 0.97\n",
      "Epoch 7, Train Loss: 0.0686321223527193, Train Accuracy: 0.98375, Test Loss: 0.10919208931071418, Test Accuracy: 0.975\n",
      "Epoch 8, Train Loss: 0.05712105438113212, Train Accuracy: 0.985, Test Loss: 0.10024324165923255, Test Accuracy: 0.97\n",
      "Epoch 9, Train Loss: 0.045648541450500485, Train Accuracy: 0.99, Test Loss: 0.12785409257880279, Test Accuracy: 0.97\n",
      "Epoch 10, Train Loss: 0.03782278250902891, Train Accuracy: 0.99375, Test Loss: 0.11181027149515492, Test Accuracy: 0.975\n"
     ]
    }
   ],
   "source": [
    "# Обучение модели\n",
    "model_b, train_losses_b, test_losses_b, train_accuracies_b, test_accuracies_b = training(model_b, epochs, optimizer, criterion, train_loader_b, test_loader_b)"
   ]
  },
  {
   "cell_type": "code",
   "execution_count": 64,
   "metadata": {
    "colab": {
     "base_uri": "https://localhost:8080/",
     "height": 507
    },
    "executionInfo": {
     "elapsed": 778,
     "status": "ok",
     "timestamp": 1737306779963,
     "user": {
      "displayName": "Leonard Stuchilin",
      "userId": "12835425704178441738"
     },
     "user_tz": -120
    },
    "id": "f0bSQMMGfuvv",
    "outputId": "45a8e135-6606-491d-ff65-82d46122ab30"
   },
   "outputs": [
    {
     "data": {
      "image/png": "[encoded data removed]",
      "text/plain": [
       "<Figure size 1000x500 with 2 Axes>"
      ]
     },
     "metadata": {},
     "output_type": "display_data"
    }
   ],
   "source": [
    "plots(train_losses_b, test_losses_b, train_accuracies_b, test_accuracies_b)"
   ]
  },
  {
   "cell_type": "code",
   "execution_count": 65,
   "metadata": {
    "colab": {
     "base_uri": "https://localhost:8080/"
    },
    "executionInfo": {
     "elapsed": 14,
     "status": "ok",
     "timestamp": 1737306779963,
     "user": {
      "displayName": "Leonard Stuchilin",
      "userId": "12835425704178441738"
     },
     "user_tz": -120
    },
    "id": "EqzNxofnfuvx",
    "outputId": "53ff1cd3-869c-4b9f-de26-f6d36f11cbfb"
   },
   "outputs": [
    {
     "name": "stdout",
     "output_type": "stream",
     "text": [
      "Test Accuracy: 0.9750\n",
      "Test F1 Score: 0.9580\n"
     ]
    }
   ],
   "source": [
    "metrix(model_b, test_loader_b)"
   ]
  },
  {
   "cell_type": "markdown",
   "metadata": {
    "id": "cAciVyqeRLE_"
   },
   "source": [
    "## Модель GPT-2"
   ]
  },
  {
   "cell_type": "code",
   "execution_count": 66,
   "metadata": {
    "colab": {
     "base_uri": "https://localhost:8080/"
    },
    "executionInfo": {
     "elapsed": 935,
     "status": "ok",
     "timestamp": 1737306780887,
     "user": {
      "displayName": "Leonard Stuchilin",
      "userId": "12835425704178441738"
     },
     "user_tz": -120
    },
    "id": "_BtwSwX_fuvz",
    "outputId": "a929574d-b7e4-4010-ff67-0987ae967b39"
   },
   "outputs": [
    {
     "data": {
      "text/plain": [
       "GPT2Model(\n",
       "  (wte): Embedding(50257, 768)\n",
       "  (wpe): Embedding(1024, 768)\n",
       "  (drop): Dropout(p=0.1, inplace=False)\n",
       "  (h): ModuleList(\n",
       "    (0-11): 12 x GPT2Block(\n",
       "      (ln_1): LayerNorm((768,), eps=1e-05, elementwise_affine=True)\n",
       "      (attn): GPT2Attention(\n",
       "        (c_attn): Conv1D(nf=2304, nx=768)\n",
       "        (c_proj): Conv1D(nf=768, nx=768)\n",
       "        (attn_dropout): Dropout(p=0.1, inplace=False)\n",
       "        (resid_dropout): Dropout(p=0.1, inplace=False)\n",
       "      )\n",
       "      (ln_2): LayerNorm((768,), eps=1e-05, elementwise_affine=True)\n",
       "      (mlp): GPT2MLP(\n",
       "        (c_fc): Conv1D(nf=3072, nx=768)\n",
       "        (c_proj): Conv1D(nf=768, nx=3072)\n",
       "        (act): NewGELUActivation()\n",
       "        (dropout): Dropout(p=0.1, inplace=False)\n",
       "      )\n",
       "    )\n",
       "  )\n",
       "  (ln_f): LayerNorm((768,), eps=1e-05, elementwise_affine=True)\n",
       ")"
      ]
     },
     "execution_count": 66,
     "metadata": {},
     "output_type": "execute_result"
    }
   ],
   "source": [
    "# Загрузка токенизатора и модели\n",
    "tokenizer_gpt = GPT2Tokenizer.from_pretrained('gpt2')\n",
    "tokenizer_gpt.pad_token = tokenizer_gpt.eos_token\n",
    "model_gpt = GPT2Model.from_pretrained('gpt2')\n",
    "\n",
    "model_gpt.to(device)"
   ]
  },
  {
   "cell_type": "code",
   "execution_count": 67,
   "metadata": {
    "executionInfo": {
     "elapsed": 5421,
     "status": "ok",
     "timestamp": 1737306786302,
     "user": {
      "displayName": "Leonard Stuchilin",
      "userId": "12835425704178441738"
     },
     "user_tz": -120
    },
    "id": "6oQOTI9_fuv0"
   },
   "outputs": [],
   "source": [
    "# Tokenize и pad sequences\n",
    "encoded_captions = tokenizer_gpt(X,\n",
    "    return_tensors='pt',\n",
    "    padding=True,\n",
    "    truncation=True)"
   ]
  },
  {
   "cell_type": "code",
   "execution_count": 68,
   "metadata": {
    "executionInfo": {
     "elapsed": 37,
     "status": "ok",
     "timestamp": 1737306786306,
     "user": {
      "displayName": "Leonard Stuchilin",
      "userId": "12835425704178441738"
     },
     "user_tz": -120
    },
    "id": "p9u-Lj2Efuv0"
   },
   "outputs": [],
   "source": [
    "encoded_captions = {key: value.to(device) for key, value in encoded_captions.items()}"
   ]
  },
  {
   "cell_type": "code",
   "execution_count": 69,
   "metadata": {
    "executionInfo": {
     "elapsed": 28,
     "status": "ok",
     "timestamp": 1737306786307,
     "user": {
      "displayName": "Leonard Stuchilin",
      "userId": "12835425704178441738"
     },
     "user_tz": -120
    },
    "id": "hcLeDozLfuv2"
   },
   "outputs": [],
   "source": [
    "input_ids = encoded_captions['input_ids']"
   ]
  },
  {
   "cell_type": "code",
   "execution_count": null,
   "metadata": {
    "executionInfo": {
     "elapsed": 57141,
     "status": "ok",
     "timestamp": 1737306843426,
     "user": {
      "displayName": "Leonard Stuchilin",
      "userId": "12835425704178441738"
     },
     "user_tz": -120
    },
    "id": "_jRusxl5fuv2"
   },
   "outputs": [],
   "source": [
    "batch_size = 16\n",
    "\n",
    "# Инициализируем список для хранения embeddings\n",
    "all_sentence_embeddings = []\n",
    "\n",
    "# Разделим данные на батчи и передадим их в модель\n",
    "for i in range(0, len(encoded_captions['input_ids']), batch_size):\n",
    "    batch_input_ids = encoded_captions['input_ids'][i:i+batch_size].to(device)\n",
    "    batch_attention_mask = encoded_captions['attention_mask'][i:i+batch_size].to(device)\n",
    "\n",
    "    # Передаем батчи в модель\n",
    "    with torch.no_grad():\n",
    "        batch_outputs = model_gpt(batch_input_ids)\n",
    "\n",
    "    # Извлекаем embeddings для каждого батча\n",
    "    word_embeddings = batch_outputs.last_hidden_state\n",
    "\n",
    "    # Mask для игнорирования padding tokens\n",
    "    masked_word_embeddings = word_embeddings * batch_attention_mask.unsqueeze(-1).float()\n",
    "\n",
    "    # Объединение сумм с учётом токенов без non-padding\n",
    "    sentence_embeddings = masked_word_embeddings.sum(dim=1)\n",
    "\n",
    "    # Нормализация по количеству токенов без non-padding\n",
    "    sentence_embeddings /= batch_attention_mask.sum(dim=1, keepdim=True).float()\n",
    "\n",
    "    # Добавляем embeddings батча в список\n",
    "    all_sentence_embeddings.append(sentence_embeddings)\n",
    "\n",
    "# Собираем все embeddings батчей в один список\n",
    "all_sentence_embeddings = torch.cat(all_sentence_embeddings, dim=0)"
   ]
  },
  {
   "cell_type": "code",
   "execution_count": null,
   "metadata": {
    "executionInfo": {
     "elapsed": 2821,
     "status": "ok",
     "timestamp": 1737306846220,
     "user": {
      "displayName": "Leonard Stuchilin",
      "userId": "12835425704178441738"
     },
     "user_tz": -120
    },
    "id": "2zSV23H_fuv4"
   },
   "outputs": [],
   "source": [
    "X_train, X_test, y_train, y_test = train_test_split(all_sentence_embeddings, y, test_size=0.2, random_state=42)"
   ]
  },
  {
   "cell_type": "code",
   "execution_count": null,
   "metadata": {
    "colab": {
     "base_uri": "https://localhost:8080/"
    },
    "executionInfo": {
     "elapsed": 51,
     "status": "ok",
     "timestamp": 1737306846222,
     "user": {
      "displayName": "Leonard Stuchilin",
      "userId": "12835425704178441738"
     },
     "user_tz": -120
    },
    "id": "7NSR5GTofuv4",
    "outputId": "959ce50c-6acc-441a-94fa-484888f7390b"
   },
   "outputs": [
    {
     "name": "stderr",
     "output_type": "stream",
     "text": [
      "<ipython-input-97-4c6dcbaa68ff>:2: UserWarning: To copy construct from a tensor, it is recommended to use sourceTensor.clone().detach() or sourceTensor.clone().detach().requires_grad_(True), rather than torch.tensor(sourceTensor).\n",
      "  X_train_tensor = torch.tensor(X_train, dtype=torch.float32).to(device)\n",
      "<ipython-input-97-4c6dcbaa68ff>:3: UserWarning: To copy construct from a tensor, it is recommended to use sourceTensor.clone().detach() or sourceTensor.clone().detach().requires_grad_(True), rather than torch.tensor(sourceTensor).\n",
      "  X_test_tensor = torch.tensor(X_test, dtype=torch.float32).to(device)\n"
     ]
    }
   ],
   "source": [
    "# Преобразование данных в тензоры PyTorch перенос на device\n",
    "X_train_tensor = torch.tensor(X_train, dtype=torch.float32).to(device)\n",
    "X_test_tensor = torch.tensor(X_test, dtype=torch.float32).to(device)\n",
    "y_train_tensor = torch.tensor(y_train, dtype=torch.float32).to(device)\n",
    "y_test_tensor = torch.tensor(y_test, dtype=torch.float32).to(device)\n",
    "\n",
    "# Создание DataLoader для обучающего и тестового наборов данных\n",
    "train_dataset = TensorDataset(X_train_tensor, y_train_tensor)\n",
    "test_dataset = TensorDataset(X_test_tensor, y_test_tensor)\n",
    "\n",
    "train_loader = DataLoader(train_dataset, batch_size=32, shuffle=True)\n",
    "test_loader = DataLoader(test_dataset, batch_size=32)"
   ]
  },
  {
   "cell_type": "code",
   "execution_count": null,
   "metadata": {
    "colab": {
     "base_uri": "https://localhost:8080/"
    },
    "executionInfo": {
     "elapsed": 42,
     "status": "ok",
     "timestamp": 1737306846224,
     "user": {
      "displayName": "Leonard Stuchilin",
      "userId": "12835425704178441738"
     },
     "user_tz": -120
    },
    "id": "oJaK7b6Xfuv5",
    "outputId": "9e389d9c-8128-4b1f-846d-a1d1364613fd"
   },
   "outputs": [
    {
     "name": "stdout",
     "output_type": "stream",
     "text": [
      "768\n"
     ]
    }
   ],
   "source": [
    "# Параметры модели\n",
    "input_size = 768 #gpt_embeddings_train.size(1)  # Размер эмбеддинга (например, 768 для GPT-2)\n",
    "print(input_size)\n",
    "hidden_size = 128  # Размер скрытого слоя\n",
    "\n",
    "# Инициализация модели, функции потерь и оптимизатора\n",
    "model_g2 = SimpleNN(input_size=input_size, hidden_size=hidden_size)\n",
    "# Перемещение модели на устройство\n",
    "model_g2.to(device)\n",
    "epochs = 10\n",
    "criterion = nn.BCELoss()  # Функция потерь для бинарной классификации\n",
    "optimizer = optim.Adam(model_g2.parameters(), lr=0.001)"
   ]
  },
  {
   "cell_type": "code",
   "execution_count": null,
   "metadata": {
    "colab": {
     "base_uri": "https://localhost:8080/"
    },
    "executionInfo": {
     "elapsed": 490,
     "status": "ok",
     "timestamp": 1737306846688,
     "user": {
      "displayName": "Leonard Stuchilin",
      "userId": "12835425704178441738"
     },
     "user_tz": -120
    },
    "id": "-7Wr8jbqfuv7",
    "outputId": "a17ce79f-1845-4545-92b7-83fa192bf30f"
   },
   "outputs": [
    {
     "name": "stdout",
     "output_type": "stream",
     "text": [
      "Epoch 1, Train Loss: 0.5633227860927582, Train Accuracy: 0.6925, Test Loss: 0.37889143398829866, Test Accuracy: 0.92\n",
      "Epoch 2, Train Loss: 0.37172247767448424, Train Accuracy: 0.87, Test Loss: 0.24534493684768677, Test Accuracy: 0.92\n",
      "Epoch 3, Train Loss: 0.28052856266498566, Train Accuracy: 0.91375, Test Loss: 0.1833087078162602, Test Accuracy: 0.955\n",
      "Epoch 4, Train Loss: 0.23507775217294694, Train Accuracy: 0.92125, Test Loss: 0.17807471645729883, Test Accuracy: 0.96\n",
      "Epoch 5, Train Loss: 0.19254545331001283, Train Accuracy: 0.935, Test Loss: 0.11003801226615906, Test Accuracy: 0.97\n",
      "Epoch 6, Train Loss: 0.16194744259119034, Train Accuracy: 0.9525, Test Loss: 0.10614807584456035, Test Accuracy: 0.96\n",
      "Epoch 7, Train Loss: 0.14867613479495048, Train Accuracy: 0.95125, Test Loss: 0.09375802001782826, Test Accuracy: 0.96\n",
      "Epoch 8, Train Loss: 0.13715550392866135, Train Accuracy: 0.9525, Test Loss: 0.08177579487008708, Test Accuracy: 0.975\n",
      "Epoch 9, Train Loss: 0.11754770204424858, Train Accuracy: 0.97, Test Loss: 0.06949209182390145, Test Accuracy: 0.975\n",
      "Epoch 10, Train Loss: 0.0966958723962307, Train Accuracy: 0.97375, Test Loss: 0.06521212149943624, Test Accuracy: 0.98\n"
     ]
    }
   ],
   "source": [
    "# Обучение модели\n",
    "model_g2, train_losses_g, test_losses_g, train_accuracies_g, test_accuracies_g = training(model_g2, epochs, optimizer, criterion, train_loader, test_loader)"
   ]
  },
  {
   "cell_type": "code",
   "execution_count": null,
   "metadata": {
    "colab": {
     "base_uri": "https://localhost:8080/",
     "height": 507
    },
    "executionInfo": {
     "elapsed": 860,
     "status": "ok",
     "timestamp": 1737306847540,
     "user": {
      "displayName": "Leonard Stuchilin",
      "userId": "12835425704178441738"
     },
     "user_tz": -120
    },
    "id": "0Uc6-WeDfuv7",
    "outputId": "2653f272-930a-4d86-f19e-e3392b4f8093"
   },
   "outputs": [
    {
     "data": {
      "image/png": "[encoded data removed]",
      "text/plain": [
       "<Figure size 1000x500 with 2 Axes>"
      ]
     },
     "metadata": {},
     "output_type": "display_data"
    }
   ],
   "source": [
    "plots(train_losses_g, test_losses_g, train_accuracies_g, test_accuracies_g)"
   ]
  },
  {
   "cell_type": "code",
   "execution_count": null,
   "metadata": {
    "colab": {
     "base_uri": "https://localhost:8080/"
    },
    "executionInfo": {
     "elapsed": 43,
     "status": "ok",
     "timestamp": 1737306847540,
     "user": {
      "displayName": "Leonard Stuchilin",
      "userId": "12835425704178441738"
     },
     "user_tz": -120
    },
    "id": "LCsCSmgjfuv8",
    "outputId": "668a0d1a-9910-4f22-f309-bff35c69f44f"
   },
   "outputs": [
    {
     "name": "stdout",
     "output_type": "stream",
     "text": [
      "Test Accuracy: 0.9800\n",
      "Test F1 Score: 0.9672\n"
     ]
    }
   ],
   "source": [
    "metrix(model_g2, test_loader)"
   ]
  },
  {
   "cell_type": "code",
   "execution_count": null,
   "metadata": {
    "executionInfo": {
     "elapsed": 41,
     "status": "ok",
     "timestamp": 1737306847541,
     "user": {
      "displayName": "Leonard Stuchilin",
      "userId": "12835425704178441738"
     },
     "user_tz": -120
    },
    "id": "GPOFFUfkfuv8"
   },
   "outputs": [],
   "source": []
  },
  {
   "cell_type": "markdown",
   "metadata": {
    "id": "uoMu5SGSfuv8"
   },
   "source": [
    "## Результаты и выводы."
   ]
  },
  {
   "cell_type": "markdown",
   "metadata": {},
   "source": [
    "Сравнительный анализ предобученных моделей BERT и GPT-2 в контексте задачи бинарной классификации. "
   ]
  },
  {
   "cell_type": "markdown",
   "metadata": {},
   "source": [
    "Этапы работы с BERT\n",
    "\n",
    "    Подготовка данных:\n",
    "        Данные должны быть нормализованы и подготовлены для токенизации. Для BERT используется специальная разметка с токенами [CLS] и [SEP].\n",
    "    Токенизация:\n",
    "        Используется токенизатор BERT для преобразования текста в токены, добавления специальных токенов и создания маски внимания. \n",
    "    Создание эмбеддингов:\n",
    "        Проход через модель BERT для получения эмбеддингов. Для бинарной классификации обычно используется выход [CLS] токена.\n",
    "    Обучение нейросети:\n",
    "        Создание простой нейросети для классификации на основе полученных эмбеддингов.\n",
    "    Оценка производительности:\n",
    "        Использование метрик точности и потерь для оценки производительности модели на тестовых данных."
   ]
  },
  {
   "cell_type": "markdown",
   "metadata": {},
   "source": [
    "Этапы работы с GPT-2\n",
    "\n",
    "    Подготовка данных:\n",
    "        Данные также должны быть нормализованы, но без специальной разметки, как в случае с BERT.\n",
    "    Токенизация:\n",
    "        Используется токенизатор GPT-2 для преобразования текста в токены.\n",
    "    Создание эмбеддингов:\n",
    "        Проход через модель GPT-2 для получения эмбеддингов. Обычно используется последний токен или усреднение по всем токенам.\n",
    "    Обучение нейросети:\n",
    "        Аналогично BERT, создается простая нейросеть для классификации на основе полученных эмбеддингов.\n",
    "    Оценка производительности.\n"
   ]
  },
  {
   "cell_type": "markdown",
   "metadata": {},
   "source": [
    "Сложность процессов\n",
    "\n",
    "    BERT:\n",
    "        Процесс включает в себя использование маскированного языка для предобучения и требует более сложной подготовки данных (например, добавление специальных токенов).\n",
    "    GPT-2:\n",
    "        Процесс проще в плане подготовки данных, так как не требует маскирования и может работать с обычным текстом.\n"
   ]
  },
  {
   "cell_type": "markdown",
   "metadata": {},
   "source": [
    "Производительность и ресурсозатратность\n",
    "\n",
    "    BERT:\n",
    "        Обычно показывает высокую точность в задачах классификации благодаря двунаправленному обучению.\n",
    "        Требует значительных ресурсов для обработки длинных последовательностей из-за своей архитектуры.\n",
    "    GPT-2:\n",
    "        Хорошо подходит для генерации текста и может показывать хорошие результаты в задачах классификации при правильной настройке.\n",
    "        Может быть менее эффективным в задачах классификации по сравнению с BERT из-за одностороннего подхода.\n"
   ]
  },
  {
   "cell_type": "markdown",
   "metadata": {},
   "source": [
    "Отличия в выходных данных\n",
    "\n",
    "    BERT:\n",
    "        Выходные данные представляют собой эмбеддинг [CLS], который агрегирует информацию о всей последовательности.\n",
    "    GPT-2:\n",
    "        Выходные данные могут быть представлены как эмбеддинги последнего токена или усредненные эмбеддинги всех токенов.\n"
   ]
  },
  {
   "cell_type": "markdown",
   "metadata": {},
   "source": [
    "## Сравнеие полученых метрик обученых нейросетей на основе предобученых моделей BERT и GPT-2"
   ]
  },
  {
   "cell_type": "code",
   "execution_count": null,
   "metadata": {
    "colab": {
     "base_uri": "https://localhost:8080/"
    },
    "executionInfo": {
     "elapsed": 38,
     "status": "ok",
     "timestamp": 1737306847541,
     "user": {
      "displayName": "Leonard Stuchilin",
      "userId": "12835425704178441738"
     },
     "user_tz": -120
    },
    "id": "-X9ivjqZfuv8",
    "outputId": "baca85db-bd27-42ae-e66a-042ab36c3ba5"
   },
   "outputs": [
    {
     "name": "stdout",
     "output_type": "stream",
     "text": [
      "metrix Model BERT\n",
      "Test Accuracy: 0.9850\n",
      "Test F1 Score: 0.9752\n",
      "metrix Model GPT-2\n",
      "Test Accuracy: 0.9800\n",
      "Test F1 Score: 0.9672\n"
     ]
    }
   ],
   "source": [
    "print('metrix Model BERT')\n",
    "metrix(model_b, test_loader_b)\n",
    "print('*'*10)\n",
    "print('metrix Model GPT-2')\n",
    "metrix(model_g2, test_loader)"
   ]
  },
  {
   "cell_type": "markdown",
   "metadata": {},
   "source": [
    "В целом мы можем видеть сравнительно похожие метрики для обеих моделей. \n",
    "\n",
    "Данные метрики получены на десяти эпохах обучения.\n",
    "\n",
    "Обучение моделей происходило очень быстро.\n",
    "\n",
    "Однако подготовка эмбендингов, в обоих случаях была более продолжительной."
   ]
  },
  {
   "cell_type": "markdown",
   "metadata": {},
   "source": [
    "## Резюме."
   ]
  },
  {
   "cell_type": "markdown",
   "metadata": {},
   "source": [
    "Обе модели имеют свои сильные и слабые стороны в контексте задачи бинарной классификации. Выбор между BERT и GPT-2 должен основываться на конкретных требованиях задачи и доступных ресурсах. BERT лучше подходит для задач понимания текста и классификации, тогда как GPT-2 может быть более универсальным инструментом для генерации текста."
   ]
  },
  {
   "cell_type": "markdown",
   "metadata": {},
   "source": []
  }
 ],
 "metadata": {
  "accelerator": "GPU",
  "colab": {
   "gpuType": "T4",
   "provenance": []
  },
  "kernelspec": {
   "display_name": "torch",
   "language": "python",
   "name": "python3"
  },
  "language_info": {
   "codemirror_mode": {
    "name": "ipython",
    "version": 3
   },
   "file_extension": ".py",
   "mimetype": "text/x-python",
   "name": "python",
   "nbconvert_exporter": "python",
   "pygments_lexer": "ipython3",
   "version": "3.11.11"
  }
 },
 "nbformat": 4,
 "nbformat_minor": 0
}
