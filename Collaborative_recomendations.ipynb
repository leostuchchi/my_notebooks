{
 "cells": [
  {
   "cell_type": "markdown",
   "metadata": {},
   "source": [
    "#  Коллаборативная фильтрация "
   ]
  },
  {
   "cell_type": "markdown",
   "metadata": {},
   "source": [
    "План ноутбука:\n",
    "\n",
    "1. Вводные по задаче.\n",
    "\n",
    "2. Библиотеки.\n",
    "\n",
    "3. Загрузка данных.\n",
    "\n",
    "4. Задание 1. Создание user-item-матрицы и разбиение данных на тест и контроль результатов.\n",
    "\n",
    "5. Задание 2. Создание бейзлайнов и расчёт метрик.\n",
    "\n",
    "* на сырых данных\n",
    "\n",
    "* на разреженой матрице\n",
    "\n",
    "* на тестовой матрице\n",
    "\n",
    "6. Задание 3. Применение метода матричной факторизации и улучшение параметров алгоритма факторизации.\n",
    "\n",
    "7. Результаты и выводы."
   ]
  },
  {
   "cell_type": "markdown",
   "metadata": {},
   "source": [
    "## Вводные по задаче."
   ]
  },
  {
   "cell_type": "markdown",
   "metadata": {},
   "source": [
    "Цель практической работы\n",
    "\n",
    "Научиться:\n",
    "\n",
    "    применять метод матричного разложения для задачи рекомендательных систем;\n",
    "\n",
    "    раскладывать матрицу оценок, используя метод матричного разложения;\n",
    "    \n",
    "    рассчитывать метрику mAP."
   ]
  },
  {
   "cell_type": "markdown",
   "metadata": {},
   "source": [
    "Что входит в работу\n",
    "\n",
    "    Создать user-item-матрицу и разбить данные на тест и контроль результатов.\n",
    "\n",
    "    Создать бейзлайны и рассчитать метрики.\n",
    "    \n",
    "    Применить метод матричной факторизации и улучшить параметры алгоритма факторизации."
   ]
  },
  {
   "cell_type": "markdown",
   "metadata": {},
   "source": [
    "Задание 1. Создание user-item-матрицы и разбиение данных на тест и контроль результатов\n",
    "Что нужно сделать\n",
    "\n",
    "Постройте user-item-матрицу на основе данных о прочитанных книгах из таблицы ratings.csv.\n",
    "\n",
    "    Подключите библиотеку Implicit. \n",
    "    \n",
    "    Для лучшей работы с библиотекой переведите данные рейтинга в бинарные оценки: 1 — книга понравилась, 0 — книга не понравилась. \n",
    "    \n",
    "    Необходимо предсказать, понравится ли конкретная книга заданному пользователю, то есть высчитать implicit-оценки.\n",
    "    \n",
    "    Для дальнейшей оценки качества разбейте данные на тест и контроль. \n",
    "    \n",
    "    Так как в данных нет настоящей даты прочтения, воспользуйтесь обходным способом:\n",
    "    \n",
    "      Пронумеруйте для каждого пользователя его прочитанные книги согласно расположению книг по порядку.\n",
    "    \n",
    "      Переведите номера прочитанных книг в доли по формуле «порядковый номер / общее количество прочитанных пользователем книг».\n",
    "    \n",
    "      Определите, какое количество данных вы оставите на обучение, какое — на контроль. Например, 70% книг каждого пользователя — на обучение.\n",
    "    \n",
    "    На основе данных для обучения постройте user-item-матрицу.\n",
    "    \n",
    "    Посмотрите, сколько в матрице столбцов и строк. Совпадает ли их количество с числом уникальных пользователей и книг?\n",
    "    \n",
    "    Выведите список названий книг с высокой оценкой для любого из пользователей.\n",
    "    \n",
    "    Запомните индекс пользователя, он пригодится далее."
   ]
  },
  {
   "cell_type": "markdown",
   "metadata": {},
   "source": [
    "Задание 2. Создание бейзлайнов и расчёт метрик\n",
    "Что нужно сделать\n",
    "\n",
    "Для оценки качества модели создайте несколько простых бейзлайнов.\n",
    "\n",
    "    Реализуйте функцию, которая подсчитывает метрику AP@K. На вход функция принимает список рекомендаций и список книг, положительно оценённых пользователем (с оценкой 4 или 5).\n",
    "\n",
    "    Зафиксируйте случайный список из 500 пользовательских индексов. Подсчитайте случайный бейзлайн — для каждого пользователя из списка сгенерируйте случайный ответ из 20 книг. \n",
    "    \n",
    "    Удалите книги, которые пользователь уже читал.\n",
    "\n",
    "    Рассчитайте метрику AP@10 для каждого из пользователей и усредните её по всем пользователям.\n",
    "    \n",
    "    Аналогично постройте бейзлайн из самых популярных книг: посмотрите, какие книги пользователи читали больше всего, и сделайте рекомендации на их основе. Подсчитайте mAP@10."
   ]
  },
  {
   "cell_type": "markdown",
   "metadata": {},
   "source": [
    "Задание 3. Применение метода матричной факторизации и улучшение параметров алгоритма факторизации\n",
    "Что нужно сделать\n",
    "\n",
    "    Используя результаты, полученные при выполнении заданий 1 и 2, обучите алгоритм ALS из библиотеки Implicit с базовыми параметрами. \n",
    "    \n",
    "    Посмотрите, какие рекомендации вы получите для конкретного пользователя.\n",
    "    \n",
    "    Используя полученный ранее случайный список пользователей из задания 2, подсчитайте метрику mAP@10. Превзошла ли она какой-нибудь из бейзлайнов?\n",
    "    \n",
    "    Попробуйте использовать более «продвинутые» параметры:\n",
    "\n",
    "        большее количество факторов — отвечает за размерность векторов;\n",
    "\n",
    "        больше итераций, чтобы приблизиться к ответу.\n",
    "        \n",
    "    Сделайте несколько версий и посмотрите, как будут меняться рекомендации для конкретного пользователя и общая метрика mAP@10 (вы должны превзойти значение 0,02 — это нормально). Сделайте выводы о качестве полученной модели.\n",
    "\n",
    "\n"
   ]
  },
  {
   "cell_type": "markdown",
   "metadata": {},
   "source": [
    "## Библиотеки."
   ]
  },
  {
   "cell_type": "code",
   "execution_count": 1,
   "metadata": {},
   "outputs": [],
   "source": [
    "import random\n",
    "import numpy as np\n",
    "import pandas as pd\n",
    "import scipy.sparse as sparse # разреж матрица\n",
    "from pandas.api.types import CategoricalDtype # кодировщик\n",
    "from collections import Counter\n",
    "from sklearn.neighbors import NearestNeighbors\n",
    "import implicit # используется факт взаимодействия с item (1, 0)\n",
    "from implicit.als import AlternatingLeastSquares\n",
    "\n",
    "from surprise import Dataset, Reader\n",
    "from surprise import SVD\n",
    "from surprise.model_selection import train_test_split\n",
    "from surprise import accuracy"
   ]
  },
  {
   "cell_type": "markdown",
   "metadata": {},
   "source": [
    "## Загрузка данных."
   ]
  },
  {
   "cell_type": "code",
   "execution_count": 2,
   "metadata": {},
   "outputs": [],
   "source": [
    "books = pd.read_csv('data/books.csv')\n",
    "ratings = pd.read_csv('data/ratings.csv')"
   ]
  },
  {
   "cell_type": "code",
   "execution_count": 3,
   "metadata": {},
   "outputs": [
    {
     "name": "stdout",
     "output_type": "stream",
     "text": [
      "(5976479, 3)\n",
      "user_id    int64\n",
      "book_id    int64\n",
      "rating     int64\n",
      "dtype: object\n"
     ]
    },
    {
     "data": {
      "text/plain": [
       "user_id    0\n",
       "book_id    0\n",
       "rating     0\n",
       "dtype: int64"
      ]
     },
     "execution_count": 3,
     "metadata": {},
     "output_type": "execute_result"
    }
   ],
   "source": [
    "print(ratings.shape)\n",
    "print(ratings.dtypes)\n",
    "ratings.isnull().sum()"
   ]
  },
  {
   "cell_type": "code",
   "execution_count": 4,
   "metadata": {},
   "outputs": [
    {
     "name": "stdout",
     "output_type": "stream",
     "text": [
      "(10000, 23)\n",
      "book_id                        int64\n",
      "goodreads_book_id              int64\n",
      "best_book_id                   int64\n",
      "work_id                        int64\n",
      "books_count                    int64\n",
      "isbn                          object\n",
      "isbn13                       float64\n",
      "authors                       object\n",
      "original_publication_year    float64\n",
      "original_title                object\n",
      "title                         object\n",
      "language_code                 object\n",
      "average_rating               float64\n",
      "ratings_count                  int64\n",
      "work_ratings_count             int64\n",
      "work_text_reviews_count        int64\n",
      "ratings_1                      int64\n",
      "ratings_2                      int64\n",
      "ratings_3                      int64\n",
      "ratings_4                      int64\n",
      "ratings_5                      int64\n",
      "image_url                     object\n",
      "small_image_url               object\n",
      "dtype: object\n"
     ]
    },
    {
     "data": {
      "text/plain": [
       "book_id                         0\n",
       "goodreads_book_id               0\n",
       "best_book_id                    0\n",
       "work_id                         0\n",
       "books_count                     0\n",
       "isbn                          700\n",
       "isbn13                        585\n",
       "authors                         0\n",
       "original_publication_year      21\n",
       "original_title                585\n",
       "title                           0\n",
       "language_code                1084\n",
       "average_rating                  0\n",
       "ratings_count                   0\n",
       "work_ratings_count              0\n",
       "work_text_reviews_count         0\n",
       "ratings_1                       0\n",
       "ratings_2                       0\n",
       "ratings_3                       0\n",
       "ratings_4                       0\n",
       "ratings_5                       0\n",
       "image_url                       0\n",
       "small_image_url                 0\n",
       "dtype: int64"
      ]
     },
     "execution_count": 4,
     "metadata": {},
     "output_type": "execute_result"
    }
   ],
   "source": [
    "print(books.shape)\n",
    "print(books.dtypes)\n",
    "books.isnull().sum()"
   ]
  },
  {
   "cell_type": "markdown",
   "metadata": {},
   "source": [
    "## Задание 1. Создание user-item-матрицы и разбиение данных на тест и контроль результатов."
   ]
  },
  {
   "cell_type": "code",
   "execution_count": 5,
   "metadata": {},
   "outputs": [],
   "source": [
    "ratings = pd.read_csv('data/ratings.csv')"
   ]
  },
  {
   "cell_type": "code",
   "execution_count": 6,
   "metadata": {},
   "outputs": [
    {
     "data": {
      "text/plain": [
       "rating\n",
       "4    2139018\n",
       "5    1983093\n",
       "3    1370916\n",
       "2     359257\n",
       "1     124195\n",
       "Name: count, dtype: int64"
      ]
     },
     "execution_count": 6,
     "metadata": {},
     "output_type": "execute_result"
    }
   ],
   "source": [
    "# смотрим значения\n",
    "ratings['rating'].value_counts()"
   ]
  },
  {
   "cell_type": "markdown",
   "metadata": {},
   "source": [
    "### Подготовка и разделение данных."
   ]
  },
  {
   "cell_type": "code",
   "execution_count": 7,
   "metadata": {},
   "outputs": [],
   "source": [
    "# Преобразование в бинарные оценки\n",
    "#ratings['binary_rating'] = (ratings['rating'] > 0).astype(int)\n",
    "# смотрим значения\n",
    "#ratings['binary_rating'].value_counts()"
   ]
  },
  {
   "cell_type": "code",
   "execution_count": 8,
   "metadata": {},
   "outputs": [
    {
     "data": {
      "text/plain": [
       "binary_rating\n",
       "1    4122111\n",
       "0    1854368\n",
       "Name: count, dtype: int64"
      ]
     },
     "execution_count": 8,
     "metadata": {},
     "output_type": "execute_result"
    }
   ],
   "source": [
    "# делаем признак бинарным\n",
    "threshold = 3 # устанавливаем пороговое значение\n",
    "ratings['binary_rating'] = (ratings['rating'] > threshold).astype(int)\n",
    "ratings['binary_rating'].value_counts()"
   ]
  },
  {
   "cell_type": "code",
   "execution_count": 9,
   "metadata": {},
   "outputs": [
    {
     "data": {
      "text/plain": [
       "0           57.0\n",
       "1           12.0\n",
       "2           13.0\n",
       "3           14.0\n",
       "4            1.0\n",
       "           ...  \n",
       "5976474    131.0\n",
       "5976475    132.0\n",
       "5976476    133.0\n",
       "5976477    134.0\n",
       "5976478    135.0\n",
       "Name: book_rank, Length: 5976479, dtype: float64"
      ]
     },
     "execution_count": 9,
     "metadata": {},
     "output_type": "execute_result"
    }
   ],
   "source": [
    "# Нумерация книг для каждого пользователя\n",
    "ratings['book_rank'] = ratings.groupby('user_id')['binary_rating'].rank(method='first')\n",
    "ratings['book_rank']"
   ]
  },
  {
   "cell_type": "code",
   "execution_count": 10,
   "metadata": {},
   "outputs": [
    {
     "data": {
      "text/plain": [
       "book_fraction\n",
       "1.000000    53424\n",
       "0.500000    26817\n",
       "0.666667    17693\n",
       "0.333333    17693\n",
       "0.750000    13323\n",
       "            ...  \n",
       "0.563452        2\n",
       "0.568528        2\n",
       "0.573604        2\n",
       "0.578680        2\n",
       "0.482234        2\n",
       "Name: count, Length: 12172, dtype: int64"
      ]
     },
     "execution_count": 10,
     "metadata": {},
     "output_type": "execute_result"
    }
   ],
   "source": [
    "# Перевод в доли\n",
    "ratings['book_fraction'] = ratings['book_rank'] / ratings.groupby('user_id')['book_rank'].transform('max')\n",
    "ratings['book_fraction'].value_counts()"
   ]
  },
  {
   "cell_type": "code",
   "execution_count": 11,
   "metadata": {},
   "outputs": [],
   "source": [
    "train_data = ratings[ratings['book_fraction'] <= 0.7]\n",
    "test_data = ratings[ratings['book_fraction'] > 0.7]"
   ]
  },
  {
   "cell_type": "code",
   "execution_count": 12,
   "metadata": {},
   "outputs": [],
   "source": [
    "# берем уникальные значения\n",
    "user_index = train_data.user_id.unique()\n",
    "books_index = train_data.book_id.unique()\n",
    "\n",
    "# делаем матрицу\n",
    "rows = train_data['user_id'].astype(CategoricalDtype(categories=user_index)).cat.codes # строки юзеры\n",
    "cols = train_data['book_id'].astype(CategoricalDtype(categories=books_index)).cat.codes # колонки итемы\n",
    "\n",
    "matrix_csr = sparse.csr_matrix((train_data['binary_rating'], (rows, cols)), shape=(len(user_index), len(books_index))) # разреженая матрица\n",
    "#matrix_csr = matrix.toarray()"
   ]
  },
  {
   "cell_type": "code",
   "execution_count": 13,
   "metadata": {},
   "outputs": [],
   "source": [
    "# тестовая матрица\n",
    "user_index_test = test_data.user_id.unique()\n",
    "books_index_test = test_data.book_id.unique()\n",
    "\n",
    "# делаем матрицу\n",
    "rows_test = test_data['user_id'].astype(CategoricalDtype(categories=user_index)).cat.codes # строки юзеры\n",
    "cols_test = test_data['book_id'].astype(CategoricalDtype(categories=books_index)).cat.codes # колонки итемы\n",
    "\n",
    "matrix_test = sparse.csr_matrix((test_data['binary_rating'], (rows_test, cols_test)), shape=(len(user_index_test), len(books_index_test))) # разреженая матрица\n",
    "#matrix_test = matrix_t.toarray()"
   ]
  },
  {
   "cell_type": "code",
   "execution_count": 14,
   "metadata": {},
   "outputs": [
    {
     "name": "stdout",
     "output_type": "stream",
     "text": [
      "Количество пользователей: 53424, Количество книг: 10000\n"
     ]
    }
   ],
   "source": [
    "# Проверьте количество строк и столбцов в матрице:\n",
    "num_users, num_books = matrix_csr.shape\n",
    "print(f\"Количество пользователей: {num_users}, Количество книг: {num_books}\")"
   ]
  },
  {
   "cell_type": "code",
   "execution_count": 15,
   "metadata": {},
   "outputs": [
    {
     "data": {
      "text/plain": [
       "53424"
      ]
     },
     "execution_count": 15,
     "metadata": {},
     "output_type": "execute_result"
    }
   ],
   "source": [
    "ratings['user_id'].nunique()"
   ]
  },
  {
   "cell_type": "code",
   "execution_count": 16,
   "metadata": {},
   "outputs": [],
   "source": [
    "def recomend_symply(user, matrix_csr):\n",
    "    matrix_csr = matrix_csr.toarray()\n",
    "    for ind, score in enumerate(matrix_csr[user]):\n",
    "        if score>=1:\n",
    "            book_id = books_index[ind]\n",
    "            print(score, books[books['book_id']==book_id].original_title.values[0])\n",
    "            "
   ]
  },
  {
   "cell_type": "code",
   "execution_count": 17,
   "metadata": {},
   "outputs": [
    {
     "name": "stdout",
     "output_type": "stream",
     "text": [
      "1 The Sun Also Rises\n",
      "1 The Catcher in the Rye\n",
      "1 Slaughterhouse-Five, or The Children's Crusade: A Duty-Dance with Death \n",
      "1 Life of Pi\n",
      "1 Animal Farm: A Fairy Story\n",
      "1 Nineteen Eighty-Four\n",
      "1 The Sea\n",
      "1 Of Mice and Men \n",
      "1 Das Parfum. Die Geschichte eines Mörders\n",
      "1 The Secret History\n",
      "1 Motherless Brooklyn\n",
      "1 In Cold Blood\n",
      "1 The Poisonwood Bible\n",
      "1 Frankenstein; or, The Modern Prometheus\n",
      "1 Howl and Other Poems \n",
      "1 The Little Friend\n",
      "1 Fahrenheit 451\n",
      "1 On the Road\n",
      "1 Nesnesitelná lehkost bytí\n",
      "1 The Bean Trees\n",
      "1 L'Amant\n",
      "1 Candide\n",
      "1 Angela's Ashes: A Memoir\n",
      "1 Still Life with Woodpecker\n",
      "1 Le Petit Prince\n",
      "1 Siddhartha\n",
      "1 The Crucible\n",
      "1 The Kitchen God's Wife\n",
      "1 The Grapes of Wrath\n",
      "1 Demian: Die Geschichte einer Jugend\n",
      "1 Voyage au bout de la nuit\n",
      "1 The English Patient\n",
      "1 East of Eden  \n",
      "1 The Winter of our Discontent\n",
      "1 Invisible Man\n",
      "1 What We Talk About When We Talk About Love: Stories\n",
      "1 Will You Please Be Quiet, Please?\n",
      "1 Native Son \n",
      "1 The Jungle\n",
      "1 The Garden of Eden\n",
      "1  Carter Beats the Devil\n",
      "1 Skinny Legs and All\n",
      "1 Proof: A Play\n",
      "1 Hateship, Friendship, Courtship, Loveship, Marriage\n",
      "1 Of Human Bondage\n",
      "1 Long Day's Journey Into Night\n",
      "1 The Rape of Nanking: The Forgotten Holocaust of World War II\n",
      "1 Del amor y otros demonios\n",
      "1 Death of a Salesman\n",
      "1 Einstein's Dreams\n",
      "1 Bastard Out of Carolina\n",
      "1 Wit : A Play\n",
      "1 The Fire Next Time\n",
      "1 Desolation Angels\n",
      "1 The Moon and Sixpence\n",
      "1 On Chesil Beach\n"
     ]
    }
   ],
   "source": [
    "user = 50\n",
    "recomend_symply(user, matrix_csr)"
   ]
  },
  {
   "cell_type": "markdown",
   "metadata": {},
   "source": [
    "## Задание 2. Создание бейзлайнов и расчёт метрик."
   ]
  },
  {
   "cell_type": "code",
   "execution_count": 18,
   "metadata": {},
   "outputs": [],
   "source": [
    "def apk(actual, predicted, k=10):\n",
    "    \"\"\"\n",
    "    Вычисляет AP@K для одного пользователя.\n",
    "\n",
    "    :param actual: Список книг, которые пользователь оценил на 4 или 5.\n",
    "    :param predicted: Список рекомендованных книг.\n",
    "    :param k: Количество рекомендаций для рассмотрения.\n",
    "    :return: Значение AP@K.\n",
    "    \"\"\"\n",
    "    if len(predicted) > k:\n",
    "        predicted = predicted[:k]\n",
    "\n",
    "    score = 0.0\n",
    "    num_hits = 0.0\n",
    "\n",
    "    for i, p in enumerate(predicted):\n",
    "        if p in actual and p not in predicted[:i]:\n",
    "            num_hits += 1.0\n",
    "            score += num_hits / (i + 1.0)\n",
    "\n",
    "    if not actual:\n",
    "        return 0.0\n",
    "\n",
    "    return score / min(len(actual), k)"
   ]
  },
  {
   "cell_type": "code",
   "execution_count": 19,
   "metadata": {},
   "outputs": [],
   "source": [
    "# Зафиксируем случайный список из 500 пользователей\n",
    "random_users = random.sample(range(num_users), 500)"
   ]
  },
  {
   "cell_type": "markdown",
   "metadata": {},
   "source": [
    "### на сырых данных."
   ]
  },
  {
   "cell_type": "code",
   "execution_count": 20,
   "metadata": {},
   "outputs": [
    {
     "name": "stdout",
     "output_type": "stream",
     "text": [
      "Средний AP@10 для случайного бейзлайна: 0.0000\n"
     ]
    }
   ],
   "source": [
    "# Генерация случайного бейзлайна без учета рейтинга книг\n",
    "random_recommendations = {}\n",
    "for user in random_users:\n",
    "    # Получаем уже прочитанные книги пользователем\n",
    "    read_books = set(ratings[ratings['user_id'] == user]['book_id'])\n",
    "    \n",
    "    # Генерируем случайные рекомендации из всех книг, исключая прочитанные\n",
    "    all_books = set(books['book_id']) - read_books\n",
    "    recommendations = random.sample(list(all_books), min(10, len(all_books)))  # Преобразуем множество в список\n",
    "    \n",
    "    random_recommendations[user] = recommendations\n",
    "\n",
    "\n",
    "\n",
    "# Подсчет AP@10 для случайного бейзлайна\n",
    "ap_scores_random = []\n",
    "for user in random_users:\n",
    "    # Получаем релевантные книги (с оценкой 4 или 5)\n",
    "    relevant_books = ratings[(ratings['user_id'] == user) & (ratings['rating'] >= 4)]['book_id'].tolist()\n",
    "    \n",
    "    # Получаем рекомендации\n",
    "    recommendations = random_recommendations[user]\n",
    "    \n",
    "    # Рассчитываем AP@10\n",
    "    ap_score = apk(relevant_books, recommendations, k=10)\n",
    "    ap_scores_random.append(ap_score)\n",
    "\n",
    "# Усреднение AP@10 по всем пользователям\n",
    "mean_ap_random = sum(ap_scores_random) / len(ap_scores_random)\n",
    "print(f\"Средний AP@10 для случайного бейзлайна: {mean_ap_random:.4f}\")\n",
    "\n"
   ]
  },
  {
   "cell_type": "code",
   "execution_count": 21,
   "metadata": {},
   "outputs": [],
   "source": [
    "# проверка получения 0\n",
    "\n",
    "# Проверка наличия релевантных книг\n",
    "for user in random_users:\n",
    "    relevant_books = ratings[(ratings['user_id'] == user) & (ratings['rating'] >= 4)]['book_id'].tolist()\n",
    "    if not relevant_books:\n",
    "        print(f\"У пользователя {user} нет релевантных книг (оценка 4 или 5).\")\n",
    "\n",
    "\n",
    "for user in random_users:\n",
    "    recommendations = random_recommendations[user]\n",
    "    if not recommendations:\n",
    "        print(f\"Для пользователя {user} не удалось сгенерировать рекомендации.\")"
   ]
  },
  {
   "cell_type": "markdown",
   "metadata": {},
   "source": [
    "### На разреженой матрице."
   ]
  },
  {
   "cell_type": "code",
   "execution_count": 22,
   "metadata": {},
   "outputs": [
    {
     "name": "stdout",
     "output_type": "stream",
     "text": [
      "Средний AP@10 для случайного бейзлайна: 0.0000\n",
      "Средний AP@10 для случайного бейзлайна matrix: 0.0023\n"
     ]
    }
   ],
   "source": [
    "# сделаем то-же самое на разреженой матрице\n",
    "\n",
    "\n",
    "# Генерация случайного бейзлайна без учета рейтинга книг\n",
    "random_recommendations = {}\n",
    "for user in random_users:\n",
    "    # Получаем индекс пользователя в разреженной матрице\n",
    "    user_index = user  \n",
    "    \n",
    "    # Получаем уже прочитанные книги пользователем\n",
    "    read_books_indices = matrix_csr[user_index].nonzero()[0]  # Индексы прочитанных книг\n",
    "    read_books = set(books['book_id'].iloc[read_books_indices])  # Преобразуем индексы в book_id\n",
    "    \n",
    "    # Генерируем случайные рекомендации из всех книг, исключая прочитанные\n",
    "    all_books = set(books['book_id']) - read_books\n",
    "    \n",
    "    if len(all_books) > 0:\n",
    "        recommendations = random.sample(list(all_books), min(10, len(all_books)))  # Преобразуем множество в список\n",
    "    else:\n",
    "        recommendations = []  # Если нет доступных книг для рекомендации\n",
    "    \n",
    "    random_recommendations[user] = recommendations\n",
    "\n",
    "# Подсчет AP@10 для случайного бейзлайна\n",
    "ap_scores_random = []\n",
    "for user in random_users:\n",
    "    # Получаем релевантные книги (с оценкой 4 или 5)\n",
    "    relevant_books = ratings[(ratings['user_id'] == user) & (ratings['rating'] >= 4)]['book_id'].tolist()\n",
    "    \n",
    "    # Получаем рекомендации\n",
    "    recommendations = random_recommendations[user]\n",
    "    \n",
    "    # Рассчитываем AP@10\n",
    "    ap_score = apk(relevant_books, recommendations, k=10)\n",
    "    ap_scores_random.append(ap_score)\n",
    "\n",
    "# Усреднение AP@10 по всем пользователям\n",
    "mean_ap_random_matrix = sum(ap_scores_random) / len(ap_scores_random) if ap_scores_random else 0\n",
    "print(f\"Средний AP@10 для случайного бейзлайна: {mean_ap_random:.4f}\")\n",
    "print(f\"Средний AP@10 для случайного бейзлайна matrix: {mean_ap_random_matrix:.4f}\")\n"
   ]
  },
  {
   "cell_type": "markdown",
   "metadata": {},
   "source": [
    "### На тестовой матрице."
   ]
  },
  {
   "cell_type": "code",
   "execution_count": 23,
   "metadata": {},
   "outputs": [
    {
     "name": "stdout",
     "output_type": "stream",
     "text": [
      "Средний AP@10 для случайного бейзлайна: 0.0000\n",
      "Средний AP@10 для случайного бейзлайна matrix: 0.0023\n",
      "Средний AP@10 для случайного бейзлайна на matrix_test: 0.0025\n"
     ]
    }
   ],
   "source": [
    "# На разреженой тестовой матрице\n",
    "\n",
    "\n",
    "# Генерация случайного бейзлайна без учета рейтинга книг\n",
    "random_recommendations = {}\n",
    "for user in random_users:\n",
    "    # Получаем индекс пользователя в разреженной матрице\n",
    "    user_index = user  \n",
    "    \n",
    "    # Проверяем, существует ли пользователь в разреженной матрице\n",
    "    if user_index >= matrix_test.shape[0]:\n",
    "        continue  # Если индекс выходит за пределы, пропускаем пользователя\n",
    "    \n",
    "    # Получаем уже прочитанные книги пользователем\n",
    "    read_books_indices = matrix_test[user_index].nonzero()[0]  # Индексы прочитанных книг\n",
    "    \n",
    "    # Проверка на наличие прочитанных книг\n",
    "    if read_books_indices.size == 0:\n",
    "        read_books = set()  # Если нет прочитанных книг, создаем пустое множество\n",
    "    else:\n",
    "        read_books = set(books['book_id'].iloc[read_books_indices])  # Преобразуем индексы в book_id\n",
    "    \n",
    "    # Генерируем случайные рекомендации из всех книг, исключая прочитанные\n",
    "    all_books = set(books['book_id']) - read_books\n",
    "    \n",
    "    if len(all_books) > 0:\n",
    "        recommendations = random.sample(list(all_books), min(10, len(all_books)))  # Преобразуем множество в список\n",
    "    else:\n",
    "        recommendations = []  # Если нет доступных книг для рекомендации\n",
    "    \n",
    "    random_recommendations[user] = recommendations\n",
    "\n",
    "# Подсчет AP@10 для случайного бейзлайна\n",
    "ap_scores_random = []\n",
    "for user in random_users:\n",
    "    # Получаем релевантные книги (с оценкой 4 или 5)\n",
    "    relevant_books = ratings[(ratings['user_id'] == user) & (ratings['rating'] >= 4)]['book_id'].tolist()\n",
    "    \n",
    "    # Получаем рекомендации\n",
    "    recommendations = random_recommendations[user]\n",
    "    \n",
    "    # Рассчитываем AP@10\n",
    "    ap_score = apk(relevant_books, recommendations, k=10)\n",
    "    ap_scores_random.append(ap_score)\n",
    "\n",
    "# Усреднение AP@10 по всем пользователям\n",
    "mean_ap_random_matrix_test = sum(ap_scores_random) / len(ap_scores_random) if ap_scores_random else 0\n",
    "print(f\"Средний AP@10 для случайного бейзлайна: {mean_ap_random:.4f}\")\n",
    "print(f\"Средний AP@10 для случайного бейзлайна matrix: {mean_ap_random_matrix:.4f}\")\n",
    "print(f\"Средний AP@10 для случайного бейзлайна на matrix_test: {mean_ap_random_matrix_test:.4f}\")\n"
   ]
  },
  {
   "cell_type": "markdown",
   "metadata": {},
   "source": [
    "### на сырых данных."
   ]
  },
  {
   "cell_type": "code",
   "execution_count": 24,
   "metadata": {},
   "outputs": [
    {
     "name": "stdout",
     "output_type": "stream",
     "text": [
      "Средний AP@10 для бейзлайна на основе популярных книг: 0.1595\n"
     ]
    }
   ],
   "source": [
    "# Подсчет популярности книг\n",
    "popular_books = ratings.groupby('book_id').size().nlargest(20).index.tolist()\n",
    "# Генерация рекомендаций на основе популярных книг для каждого пользователя\n",
    "popular_recommendations = {user: popular_books for user in random_users}\n",
    "popular_recommendations\n",
    "\n",
    "# Генерация рекомендаций на основе популярных книг для каждого пользователя\n",
    "popular_recommendations = {user: popular_books for user in random_users}\n",
    "\n",
    "# Подсчет AP@10 для бейзлайна на основе популярных книг\n",
    "ap_scores_popular = []\n",
    "for user in random_users:\n",
    "    # Получаем релевантные книги (с оценкой 4 или 5)\n",
    "    relevant_books = ratings[(ratings['user_id'] == user) & (ratings['rating'] >= 4)]['book_id'].tolist()\n",
    "    \n",
    "    # Получаем рекомендации\n",
    "    recommendations = popular_recommendations[user]\n",
    "    \n",
    "    # Рассчитываем AP@10\n",
    "    ap_score = apk(relevant_books, recommendations, k=10)\n",
    "    ap_scores_popular.append(ap_score)\n",
    "\n",
    "# Усреднение AP@10 по всем пользователям\n",
    "mean_ap_popular = sum(ap_scores_popular) / len(ap_scores_popular)\n",
    "print(f\"Средний AP@10 для бейзлайна на основе популярных книг: {mean_ap_popular:.4f}\")"
   ]
  },
  {
   "cell_type": "markdown",
   "metadata": {},
   "source": [
    "### На разреженой матрице."
   ]
  },
  {
   "cell_type": "code",
   "execution_count": 25,
   "metadata": {},
   "outputs": [
    {
     "name": "stdout",
     "output_type": "stream",
     "text": [
      "Средний AP@10 для бейзлайна на основе популярных книг: 0.1595\n",
      "Средний AP@10 для бейзлайна на основе популярных книг matrix: 0.1511\n"
     ]
    }
   ],
   "source": [
    "# то-же на разреженой матрице\n",
    "\n",
    "# Подсчет популярности книг\n",
    "popular_books = ratings.groupby('book_id').size().nlargest(20).index.tolist()\n",
    "\n",
    "# Генерация рекомендаций на основе популярных книг для каждого пользователя\n",
    "popular_recommendations = {}\n",
    "for user in random_users:\n",
    "    # Получаем индекс пользователя в разреженной матрице\n",
    "    user_index = user\n",
    "    \n",
    "    # Проверяем, существует ли пользователь в разреженной матрице\n",
    "    if user_index >= matrix_csr.shape[0]:\n",
    "        continue  # Если индекс выходит за пределы, пропускаем пользователя\n",
    "    \n",
    "    # Получаем уже прочитанные книги пользователем\n",
    "    read_books_indices = matrix_csr[user_index].nonzero()[0]  # Индексы прочитанных книг\n",
    "    \n",
    "    # Преобразуем индексы в book_id\n",
    "    read_books = set(books['book_id'].iloc[read_books_indices]) if read_books_indices.size > 0 else set()\n",
    "    \n",
    "    # Генерируем рекомендации на основе популярных книг, исключая прочитанные\n",
    "    recommendations = [book for book in popular_books if book not in read_books]\n",
    "    \n",
    "    # Ограничиваем количество рекомендаций до 10\n",
    "    popular_recommendations[user] = recommendations[:10]\n",
    "\n",
    "# Подсчет AP@10 для бейзлайна на основе популярных книг\n",
    "ap_scores_popular = []\n",
    "for user in random_users:\n",
    "    # Получаем релевантные книги (с оценкой 4 или 5)\n",
    "    relevant_books = ratings[(ratings['user_id'] == user) & (ratings['rating'] >= 4)]['book_id'].tolist()\n",
    "    \n",
    "    # Получаем рекомендации\n",
    "    recommendations = popular_recommendations.get(user, [])\n",
    "    \n",
    "    # Рассчитываем AP@10\n",
    "    ap_score = apk(relevant_books, recommendations, k=10)\n",
    "    ap_scores_popular.append(ap_score)\n",
    "\n",
    "# Усреднение AP@10 по всем пользователям\n",
    "mean_ap_popular_matrix = sum(ap_scores_popular) / len(ap_scores_popular) if ap_scores_popular else 0\n",
    "print(f\"Средний AP@10 для бейзлайна на основе популярных книг: {mean_ap_popular:.4f}\")\n",
    "print(f\"Средний AP@10 для бейзлайна на основе популярных книг matrix: {mean_ap_popular_matrix:.4f}\")\n"
   ]
  },
  {
   "cell_type": "markdown",
   "metadata": {},
   "source": [
    "### На тестовой матрице."
   ]
  },
  {
   "cell_type": "code",
   "execution_count": 26,
   "metadata": {},
   "outputs": [
    {
     "name": "stdout",
     "output_type": "stream",
     "text": [
      "Средний AP@10 для бейзлайна на основе популярных книг: 0.1595\n",
      "Средний AP@10 для бейзлайна на основе популярных книг matrix: 0.1511\n",
      "Средний AP@10 для бейзлайна на основе популярных книг test: 0.1516\n"
     ]
    }
   ],
   "source": [
    "# на тестовой выборке\n",
    "\n",
    "# Подсчет популярности книг\n",
    "popular_books = ratings.groupby('book_id').size().nlargest(20).index.tolist()\n",
    "\n",
    "# Генерация рекомендаций на основе популярных книг для каждого пользователя\n",
    "popular_recommendations = {}\n",
    "for user in random_users:\n",
    "    # Получаем индекс пользователя в разреженной матрице\n",
    "    user_index = user\n",
    "    \n",
    "    # Проверяем, существует ли пользователь в разреженной матрице\n",
    "    if user_index >= matrix_test.shape[0]:\n",
    "        continue  # Если индекс выходит за пределы, пропускаем пользователя\n",
    "    \n",
    "    # Получаем уже прочитанные книги пользователем\n",
    "    read_books_indices = matrix_test[user_index].nonzero()[0]  # Индексы прочитанных книг\n",
    "    \n",
    "    # Преобразуем индексы в book_id\n",
    "    read_books = set(books['book_id'].iloc[read_books_indices]) if read_books_indices.size > 0 else set()\n",
    "    \n",
    "    # Генерируем рекомендации на основе популярных книг, исключая прочитанные\n",
    "    recommendations = [book for book in popular_books if book not in read_books]\n",
    "    \n",
    "    # Ограничиваем количество рекомендаций до 10\n",
    "    popular_recommendations[user] = recommendations[:10]\n",
    "\n",
    "# Подсчет AP@10 для бейзлайна на основе популярных книг\n",
    "ap_scores_popular = []\n",
    "for user in random_users:\n",
    "    # Получаем релевантные книги (с оценкой 4 или 5)\n",
    "    relevant_books = ratings[(ratings['user_id'] == user) & (ratings['rating'] >= 4)]['book_id'].tolist()\n",
    "    \n",
    "    # Получаем рекомендации\n",
    "    recommendations = popular_recommendations.get(user, [])\n",
    "    \n",
    "    # Рассчитываем AP@10\n",
    "    ap_score = apk(relevant_books, recommendations, k=10)\n",
    "    ap_scores_popular.append(ap_score)\n",
    "\n",
    "# Усреднение AP@10 по всем пользователям\n",
    "mean_ap_popular_test = sum(ap_scores_popular) / len(ap_scores_popular) if ap_scores_popular else 0\n",
    "print(f\"Средний AP@10 для бейзлайна на основе популярных книг: {mean_ap_popular:.4f}\")\n",
    "print(f\"Средний AP@10 для бейзлайна на основе популярных книг matrix: {mean_ap_popular_matrix:.4f}\")\n",
    "print(f\"Средний AP@10 для бейзлайна на основе популярных книг test: {mean_ap_popular_test:.4f}\")"
   ]
  },
  {
   "cell_type": "markdown",
   "metadata": {},
   "source": [
    "## Задание 3. Применение метода матричной факторизации и улучшение параметров алгоритма факторизации."
   ]
  },
  {
   "cell_type": "code",
   "execution_count": 27,
   "metadata": {},
   "outputs": [
    {
     "name": "stderr",
     "output_type": "stream",
     "text": [
      "/home/leostuchchi/anaconda3/lib/python3.11/site-packages/implicit/cpu/als.py:95: RuntimeWarning: Intel MKL BLAS is configured to use 2 threads. It is highly recommended to disable its internal threadpool by setting the environment variable 'MKL_NUM_THREADS=1' or by callng 'threadpoolctl.threadpool_limits(1, \"blas\")'. Having MKL use a threadpool can lead to severe performance issues\n",
      "  check_blas_config()\n"
     ]
    },
    {
     "data": {
      "application/vnd.jupyter.widget-view+json": {
       "model_id": "e3d870435773494491ea9cf70ddb91fd",
       "version_major": 2,
       "version_minor": 0
      },
      "text/plain": [
       "  0%|          | 0/15 [00:00<?, ?it/s]"
      ]
     },
     "metadata": {},
     "output_type": "display_data"
    }
   ],
   "source": [
    "model_base = implicit.als.AlternatingLeastSquares()\n",
    "\n",
    "model_base.fit(sparse.csr_matrix(matrix_csr))"
   ]
  },
  {
   "cell_type": "code",
   "execution_count": 28,
   "metadata": {},
   "outputs": [
    {
     "name": "stdout",
     "output_type": "stream",
     "text": [
      "Cien años de soledad\n",
      "The Handmaid's Tale\n",
      "Lolita\n",
      "The Road\n",
      "Middlesex\n",
      "Brave New World\n",
      "O Alquimista\n",
      "A Wrinkle in Time\n",
      "Cat's Cradle\n",
      "Catch-22\n"
     ]
    }
   ],
   "source": [
    "# у модели есть метод recommend для юзер 50\n",
    "recommendations = model_base.recommend(50, sparse.csr_matrix(matrix_csr)[50])\n",
    "# выводим рекомендации для юзер 50\n",
    "recommendations # items индексы и оценки\n",
    "\n",
    "for ind in recommendations[0]:\n",
    "    book_id = books_index[ind]\n",
    "    print(books[books['book_id']==book_id].original_title.values[0])"
   ]
  },
  {
   "cell_type": "code",
   "execution_count": 29,
   "metadata": {},
   "outputs": [
    {
     "data": {
      "text/plain": [
       "array([ 143,   17,   19,   16,   89, 1130, 2206,   15,  110,   91],\n",
       "      dtype=int32)"
      ]
     },
     "execution_count": 29,
     "metadata": {},
     "output_type": "execute_result"
    }
   ],
   "source": [
    "model_base.recommend(user, sparse.csr_matrix(matrix_csr)[user])[0]"
   ]
  },
  {
   "cell_type": "code",
   "execution_count": 30,
   "metadata": {},
   "outputs": [
    {
     "name": "stdout",
     "output_type": "stream",
     "text": [
      "Средний AP@10 для случайного бейзлайна: 0.0000\n",
      "Средний AP@10 для случайного бейзлайна matrix: 0.0023\n",
      "Средний AP@10 для случайного бейзлайна на matrix_test: 0.0025\n",
      "Средний AP@10 для случайного бейзлайна model_base_train: 0.0135\n"
     ]
    }
   ],
   "source": [
    "# Генерация случайного бейзлайна без учета рейтинга книг\n",
    "random_recommendations = {}\n",
    "for user in random_users:\n",
    "    # Получаем уже прочитанные книги пользователем\n",
    "    read_books = set(ratings[ratings['user_id'] == user]['book_id'])\n",
    "    \n",
    "    # Генерируем случайные рекомендации из всех книг, исключая прочитанные\n",
    "    all_books = set(books['book_id']) - read_books\n",
    "    #recommendations = random.sample(list(all_books), min(10, len(all_books)))  # Преобразуем множество в список\n",
    "    recommendations = model_base.recommend(user, sparse.csr_matrix(matrix_csr)[user])[0]\n",
    "    \n",
    "    random_recommendations[user] = recommendations\n",
    "\n",
    "\n",
    "\n",
    "# Подсчет AP@10 для случайного бейзлайна\n",
    "ap_scores_random = []\n",
    "for user in random_users:\n",
    "    # Получаем релевантные книги (с оценкой 4 или 5)\n",
    "    relevant_books = ratings[(ratings['user_id'] == user) & (ratings['rating'] >= 4)]['book_id'].tolist()\n",
    "    \n",
    "    # Получаем рекомендации\n",
    "    recommendations = random_recommendations[user]\n",
    "    \n",
    "    # Рассчитываем AP@10\n",
    "    ap_score = apk(relevant_books, recommendations, k=10)\n",
    "    ap_scores_random.append(ap_score)\n",
    "\n",
    "# Усреднение AP@10 по всем пользователям\n",
    "mean_ap_random_model_base = sum(ap_scores_random) / len(ap_scores_random)\n",
    "\n",
    "print(f\"Средний AP@10 для случайного бейзлайна: {mean_ap_random:.4f}\")\n",
    "print(f\"Средний AP@10 для случайного бейзлайна matrix: {mean_ap_random_matrix:.4f}\")\n",
    "print(f\"Средний AP@10 для случайного бейзлайна на matrix_test: {mean_ap_random_matrix_test:.4f}\")\n",
    "print(f\"Средний AP@10 для случайного бейзлайна model_base_train: {mean_ap_random_model_base:.4f}\")"
   ]
  },
  {
   "cell_type": "markdown",
   "metadata": {},
   "source": [
    "### На тестовых данных"
   ]
  },
  {
   "cell_type": "code",
   "execution_count": 31,
   "metadata": {},
   "outputs": [
    {
     "name": "stdout",
     "output_type": "stream",
     "text": [
      "Средний AP@10 для случайного бейзлайна: 0.0000\n",
      "Средний AP@10 для случайного бейзлайна matrix: 0.0023\n",
      "Средний AP@10 для случайного бейзлайна на matrix_test: 0.0025\n",
      "Средний AP@10 для случайного бейзлайна model_base_train: 0.0135\n",
      "Средний AP@10 для случайного бейзлайна model_base_test: 0.0023\n"
     ]
    }
   ],
   "source": [
    "\n",
    "\n",
    "# Генерация случайного бейзлайна без учета рейтинга книг\n",
    "random_recommendations = {}\n",
    "for user in random_users:\n",
    "    # Получаем индекс пользователя в разреженной матрице\n",
    "    user_index = user  # Предполагается, что user является индексом\n",
    "    \n",
    "    # Проверяем, существует ли пользователь в разреженной матрице\n",
    "    if user_index >= matrix_test.shape[0]:\n",
    "        continue  # Если индекс выходит за пределы, пропускаем пользователя\n",
    "    \n",
    "    # Получаем уже прочитанные книги пользователем\n",
    "    read_books_indices = matrix_test[user_index].nonzero()[0]  # Индексы прочитанных книг\n",
    "    \n",
    "    # Преобразуем индексы в book_id\n",
    "    read_books = set(books['book_id'].iloc[read_books_indices]) if read_books_indices.size > 0 else set()\n",
    "    \n",
    "    # Генерируем случайные рекомендации из всех книг, исключая прочитанные\n",
    "    all_books = set(books['book_id']) - read_books\n",
    "    \n",
    "    if len(all_books) > 0:\n",
    "        recommendations = random.sample(list(all_books), min(10, len(all_books)))  # Преобразуем множество в список\n",
    "    else:\n",
    "        recommendations = []  # Если нет доступных книг для рекомендации\n",
    "    \n",
    "    random_recommendations[user] = recommendations\n",
    "\n",
    "# Подсчет AP@10 для случайного бейзлайна\n",
    "ap_scores_random = []\n",
    "for user in random_users:\n",
    "    # Получаем релевантные книги (с оценкой 4 или 5)\n",
    "    relevant_books = ratings[(ratings['user_id'] == user) & (ratings['rating'] >= 4)]['book_id'].tolist()\n",
    "    \n",
    "    # Получаем рекомендации\n",
    "    recommendations = random_recommendations.get(user, [])\n",
    "    \n",
    "    # Рассчитываем AP@10\n",
    "    ap_score = apk(relevant_books, recommendations, k=10)\n",
    "    ap_scores_random.append(ap_score)\n",
    "\n",
    "# Усреднение AP@10 по всем пользователям\n",
    "mean_ap_random_model_base_test = sum(ap_scores_random) / len(ap_scores_random) if ap_scores_random else 0\n",
    "\n",
    "# Вывод результатов\n",
    "print(f\"Средний AP@10 для случайного бейзлайна: {mean_ap_random:.4f}\")\n",
    "print(f\"Средний AP@10 для случайного бейзлайна matrix: {mean_ap_random_matrix:.4f}\")\n",
    "print(f\"Средний AP@10 для случайного бейзлайна на matrix_test: {mean_ap_random_matrix_test:.4f}\")\n",
    "print(f\"Средний AP@10 для случайного бейзлайна model_base_train: {mean_ap_random_model_base:.4f}\")\n",
    "print(f\"Средний AP@10 для случайного бейзлайна model_base_test: {mean_ap_random_model_base_test:.4f}\")\n"
   ]
  },
  {
   "cell_type": "markdown",
   "metadata": {},
   "source": [
    "### Популярность книг."
   ]
  },
  {
   "cell_type": "markdown",
   "metadata": {},
   "source": [
    "### На трейне"
   ]
  },
  {
   "cell_type": "code",
   "execution_count": 32,
   "metadata": {},
   "outputs": [
    {
     "name": "stdout",
     "output_type": "stream",
     "text": [
      "Средний AP@10 для бейзлайна на основе популярных книг: 0.1595\n",
      "Средний AP@10 для бейзлайна на основе популярных книг matrix: 0.1511\n",
      "Средний AP@10 для бейзлайна на основе популярных книг test: 0.1516\n",
      "Средний AP@10 для бейзлайна на основе популярных книг model_base_train: 0.0135\n"
     ]
    }
   ],
   "source": [
    "\n",
    "ap_scores_popular = []\n",
    "for user in random_users:\n",
    "    # Получаем релевантные книги (с оценкой 4 или 5)\n",
    "    relevant_books = ratings[(ratings['user_id'] == user) & (ratings['rating'] >= 4)]['book_id'].tolist()\n",
    "    \n",
    "    # Получаем рекомендации\n",
    "    recommendations = model_base.recommend(user, sparse.csr_matrix(matrix_csr)[user])[0]#popular_recommendations[user]\n",
    "    \n",
    "    # Рассчитываем AP@10\n",
    "    ap_score = apk(relevant_books, recommendations, k=10)\n",
    "    ap_scores_popular.append(ap_score)\n",
    "\n",
    "# Усреднение AP@10 по всем пользователям\n",
    "mean_ap_popular_model_base = sum(ap_scores_popular) / len(ap_scores_popular)\n",
    "\n",
    "print(f\"Средний AP@10 для бейзлайна на основе популярных книг: {mean_ap_popular:.4f}\")\n",
    "print(f\"Средний AP@10 для бейзлайна на основе популярных книг matrix: {mean_ap_popular_matrix:.4f}\")\n",
    "print(f\"Средний AP@10 для бейзлайна на основе популярных книг test: {mean_ap_popular_test:.4f}\")\n",
    "print(f\"Средний AP@10 для бейзлайна на основе популярных книг model_base_train: {mean_ap_popular_model_base:.4f}\")"
   ]
  },
  {
   "cell_type": "markdown",
   "metadata": {},
   "source": [
    "### На тесте."
   ]
  },
  {
   "cell_type": "code",
   "execution_count": 33,
   "metadata": {},
   "outputs": [
    {
     "name": "stdout",
     "output_type": "stream",
     "text": [
      "Средний AP@10 для бейзлайна на основе популярных книг: 0.1595\n",
      "Средний AP@10 для бейзлайна на основе популярных книг matrix: 0.1511\n",
      "Средний AP@10 для бейзлайна на основе популярных книг test: 0.1516\n",
      "Средний AP@10 для бейзлайна на основе популярных книг model_base_train: 0.0135\n",
      "Средний AP@10 для бейзлайна на основе популярных книг model_base_test: 0.0207\n"
     ]
    }
   ],
   "source": [
    "\n",
    "ap_scores_popular = []\n",
    "for user in random_users:\n",
    "    # Получаем релевантные книги (с оценкой 4 или 5)\n",
    "    relevant_books = ratings[(ratings['user_id'] == user) & (ratings['rating'] >= 4)]['book_id'].tolist()\n",
    "    \n",
    "    # Получаем рекомендации\n",
    "    recommendations = model_base.recommend(user, sparse.csr_matrix(matrix_test)[user])[0]#popular_recommendations[user]\n",
    "    \n",
    "    # Рассчитываем AP@10\n",
    "    ap_score = apk(relevant_books, recommendations, k=10)\n",
    "    ap_scores_popular.append(ap_score)\n",
    "\n",
    "# Усреднение AP@10 по всем пользователям\n",
    "mean_ap_popular_model_base_test = sum(ap_scores_popular) / len(ap_scores_popular)\n",
    "\n",
    "print(f\"Средний AP@10 для бейзлайна на основе популярных книг: {mean_ap_popular:.4f}\")\n",
    "print(f\"Средний AP@10 для бейзлайна на основе популярных книг matrix: {mean_ap_popular_matrix:.4f}\")\n",
    "print(f\"Средний AP@10 для бейзлайна на основе популярных книг test: {mean_ap_popular_test:.4f}\")\n",
    "print(f\"Средний AP@10 для бейзлайна на основе популярных книг model_base_train: {mean_ap_popular_model_base:.4f}\")\n",
    "print(f\"Средний AP@10 для бейзлайна на основе популярных книг model_base_test: {mean_ap_popular_model_base_test:.4f}\")"
   ]
  },
  {
   "cell_type": "markdown",
   "metadata": {},
   "source": [
    "### Улучшеная модель"
   ]
  },
  {
   "cell_type": "code",
   "execution_count": 34,
   "metadata": {},
   "outputs": [],
   "source": [
    "# Создание модели ALS с продвинутыми параметрами\n",
    "model_advanced = implicit.als.AlternatingLeastSquares(\n",
    "    factors=10,          # Увеличенное количество факторов\n",
    "    regularization=0.1,   # Регуляризация\n",
    "    iterations=30,        # Увеличенное количество итераций\n",
    "    alpha=5.0            # Увеличение веса для бинарных оценок\n",
    ")"
   ]
  },
  {
   "cell_type": "code",
   "execution_count": 35,
   "metadata": {},
   "outputs": [
    {
     "data": {
      "application/vnd.jupyter.widget-view+json": {
       "model_id": "ce97c676fa614db1b2407de3c03e793c",
       "version_major": 2,
       "version_minor": 0
      },
      "text/plain": [
       "  0%|          | 0/30 [00:00<?, ?it/s]"
      ]
     },
     "metadata": {},
     "output_type": "display_data"
    }
   ],
   "source": [
    "# Обучение модели\n",
    "model_advanced.fit(sparse.csr_matrix(matrix_csr))"
   ]
  },
  {
   "cell_type": "code",
   "execution_count": 36,
   "metadata": {},
   "outputs": [
    {
     "name": "stdout",
     "output_type": "stream",
     "text": [
      "Средний AP@10 для случайного бейзлайна: 0.0000\n",
      "Средний AP@10 для случайного бейзлайна matrix: 0.0023\n",
      "Средний AP@10 для случайного бейзлайна на matrix_test: 0.0025\n",
      "Средний AP@10 для случайного бейзлайна model_base_train: 0.0135\n",
      "Средний AP@10 для случайного бейзлайна model_base_test: 0.0023\n",
      "Средний AP@10 для случайного бейзлайна model_advanced_train: 0.0216\n"
     ]
    }
   ],
   "source": [
    "# Генерация случайного бейзлайна без учета рейтинга книг\n",
    "random_recommendations = {}\n",
    "for user in random_users:\n",
    "    # Получаем уже прочитанные книги пользователем\n",
    "    read_books = set(ratings[ratings['user_id'] == user]['book_id'])\n",
    "    \n",
    "    # Генерируем случайные рекомендации из всех книг, исключая прочитанные\n",
    "    all_books = set(books['book_id']) - read_books\n",
    "    #recommendations = random.sample(list(all_books), min(10, len(all_books)))  # Преобразуем множество в список\n",
    "    recommendations = model_advanced.recommend(user, sparse.csr_matrix(matrix_csr)[user])[0]\n",
    "    \n",
    "    random_recommendations[user] = recommendations\n",
    "\n",
    "\n",
    "\n",
    "# Подсчет AP@10 для случайного бейзлайна\n",
    "ap_scores_random = []\n",
    "for user in random_users:\n",
    "    # Получаем релевантные книги (с оценкой 4 или 5)\n",
    "    relevant_books = ratings[(ratings['user_id'] == user) & (ratings['rating'] >= 4)]['book_id'].tolist()\n",
    "    \n",
    "    # Получаем рекомендации\n",
    "    recommendations = random_recommendations[user]\n",
    "    \n",
    "    # Рассчитываем AP@10\n",
    "    ap_score = apk(relevant_books, recommendations, k=10)\n",
    "    ap_scores_random.append(ap_score)\n",
    "\n",
    "# Усреднение AP@10 по всем пользователям\n",
    "mean_ap_random_model_advanced = sum(ap_scores_random) / len(ap_scores_random)\n",
    "\n",
    "print(f\"Средний AP@10 для случайного бейзлайна: {mean_ap_random:.4f}\")\n",
    "print(f\"Средний AP@10 для случайного бейзлайна matrix: {mean_ap_random_matrix:.4f}\")\n",
    "print(f\"Средний AP@10 для случайного бейзлайна на matrix_test: {mean_ap_random_matrix_test:.4f}\")\n",
    "print(f\"Средний AP@10 для случайного бейзлайна model_base_train: {mean_ap_random_model_base:.4f}\")\n",
    "print(f\"Средний AP@10 для случайного бейзлайна model_base_test: {mean_ap_random_model_base_test:.4f}\")\n",
    "print(f\"Средний AP@10 для случайного бейзлайна model_advanced_train: {mean_ap_random_model_advanced:.4f}\")"
   ]
  },
  {
   "cell_type": "code",
   "execution_count": 37,
   "metadata": {},
   "outputs": [
    {
     "name": "stdout",
     "output_type": "stream",
     "text": [
      "Средний AP@10 для случайного бейзлайна: 0.0000\n",
      "Средний AP@10 для случайного бейзлайна matrix: 0.0023\n",
      "Средний AP@10 для случайного бейзлайна на matrix_test: 0.0025\n",
      "Средний AP@10 для случайного бейзлайна model_base_train: 0.0135\n",
      "Средний AP@10 для случайного бейзлайна model_base_test: 0.0023\n",
      "Средний AP@10 для случайного бейзлайна model_advanced_train: 0.0216\n",
      "Средний AP@10 для случайного бейзлайна model_advanced_test: 0.0276\n"
     ]
    }
   ],
   "source": [
    "# На тесте\n",
    "# Генерация случайного бейзлайна без учета рейтинга книг\n",
    "random_recommendations = {}\n",
    "for user in random_users:\n",
    "    # Получаем уже прочитанные книги пользователем\n",
    "    read_books = set(ratings[ratings['user_id'] == user]['book_id'])\n",
    "    \n",
    "    # Генерируем случайные рекомендации из всех книг, исключая прочитанные\n",
    "    all_books = set(books['book_id']) - read_books\n",
    "    #recommendations = random.sample(list(all_books), min(10, len(all_books)))  # Преобразуем множество в список\n",
    "    recommendations = model_advanced.recommend(user, sparse.csr_matrix(matrix_test)[user])[0]\n",
    "    \n",
    "    random_recommendations[user] = recommendations\n",
    "\n",
    "\n",
    "\n",
    "# Подсчет AP@10 для случайного бейзлайна\n",
    "ap_scores_random = []\n",
    "for user in random_users:\n",
    "    # Получаем релевантные книги (с оценкой 4 или 5)\n",
    "    relevant_books = ratings[(ratings['user_id'] == user) & (ratings['rating'] >= 4)]['book_id'].tolist()\n",
    "    \n",
    "    # Получаем рекомендации\n",
    "    recommendations = random_recommendations[user]\n",
    "    \n",
    "    # Рассчитываем AP@10\n",
    "    ap_score = apk(relevant_books, recommendations, k=10)\n",
    "    ap_scores_random.append(ap_score)\n",
    "\n",
    "# Усреднение AP@10 по всем пользователям\n",
    "mean_ap_random_model_advanced_test = sum(ap_scores_random) / len(ap_scores_random)\n",
    "\n",
    "print(f\"Средний AP@10 для случайного бейзлайна: {mean_ap_random:.4f}\")\n",
    "print(f\"Средний AP@10 для случайного бейзлайна matrix: {mean_ap_random_matrix:.4f}\")\n",
    "print(f\"Средний AP@10 для случайного бейзлайна на matrix_test: {mean_ap_random_matrix_test:.4f}\")\n",
    "print(f\"Средний AP@10 для случайного бейзлайна model_base_train: {mean_ap_random_model_base:.4f}\")\n",
    "print(f\"Средний AP@10 для случайного бейзлайна model_base_test: {mean_ap_random_model_base_test:.4f}\")\n",
    "print(f\"Средний AP@10 для случайного бейзлайна model_advanced_train: {mean_ap_random_model_advanced:.4f}\")\n",
    "print(f\"Средний AP@10 для случайного бейзлайна model_advanced_test: {mean_ap_random_model_advanced_test:.4f}\")"
   ]
  },
  {
   "cell_type": "code",
   "execution_count": 38,
   "metadata": {},
   "outputs": [
    {
     "name": "stdout",
     "output_type": "stream",
     "text": [
      "Средний AP@10 для бейзлайна на основе популярных книг: 0.1595\n",
      "Средний AP@10 для бейзлайна на основе популярных книг matrix: 0.1511\n",
      "Средний AP@10 для бейзлайна на основе популярных книг test: 0.1516\n",
      "Средний AP@10 для бейзлайна на основе популярных книг model_base_train: 0.0135\n",
      "Средний AP@10 для бейзлайна на основе популярных книг model_base_test: 0.0207\n",
      "Средний AP@10 для бейзлайна на основе популярных книг model_advanced_train: 0.0216\n"
     ]
    }
   ],
   "source": [
    "# Подсчет AP@10 для бейзлайна на основе популярных книг\n",
    "ap_scores_popular = []\n",
    "for user in random_users:\n",
    "    # Получаем релевантные книги (с оценкой 4 или 5)\n",
    "    relevant_books = ratings[(ratings['user_id'] == user) & (ratings['rating'] >= 4)]['book_id'].tolist()\n",
    "    \n",
    "    # Получаем рекомендации\n",
    "    recommendations = model_advanced.recommend(user, sparse.csr_matrix(matrix_csr)[user])[0]#popular_recommendations[user]\n",
    "    \n",
    "    # Рассчитываем AP@10\n",
    "    ap_score = apk(relevant_books, recommendations, k=10)\n",
    "    ap_scores_popular.append(ap_score)\n",
    "\n",
    "# Усреднение AP@10 по всем пользователям\n",
    "mean_ap_popular_model_advabced = sum(ap_scores_popular) / len(ap_scores_popular)\n",
    "print(f\"Средний AP@10 для бейзлайна на основе популярных книг: {mean_ap_popular:.4f}\")\n",
    "print(f\"Средний AP@10 для бейзлайна на основе популярных книг matrix: {mean_ap_popular_matrix:.4f}\")\n",
    "print(f\"Средний AP@10 для бейзлайна на основе популярных книг test: {mean_ap_popular_test:.4f}\")\n",
    "print(f\"Средний AP@10 для бейзлайна на основе популярных книг model_base_train: {mean_ap_popular_model_base:.4f}\")\n",
    "print(f\"Средний AP@10 для бейзлайна на основе популярных книг model_base_test: {mean_ap_popular_model_base_test:.4f}\")\n",
    "print(f\"Средний AP@10 для бейзлайна на основе популярных книг model_advanced_train: {mean_ap_popular_model_advabced:.4f}\")"
   ]
  },
  {
   "cell_type": "code",
   "execution_count": 39,
   "metadata": {},
   "outputs": [
    {
     "name": "stdout",
     "output_type": "stream",
     "text": [
      "Средний AP@10 для бейзлайна на основе популярных книг: 0.1595\n",
      "Средний AP@10 для бейзлайна на основе популярных книг matrix: 0.1511\n",
      "Средний AP@10 для бейзлайна на основе популярных книг test: 0.1516\n",
      "Средний AP@10 для бейзлайна на основе популярных книг model_base_train: 0.0135\n",
      "Средний AP@10 для бейзлайна на основе популярных книг model_base_test: 0.0207\n",
      "Средний AP@10 для бейзлайна на основе популярных книг model_advanced_train: 0.0216\n",
      "Средний AP@10 для бейзлайна на основе популярных книг model_advanced_test: 0.0276\n"
     ]
    }
   ],
   "source": [
    "# Подсчет AP@10 для бейзлайна на основе популярных книг\n",
    "ap_scores_popular = []\n",
    "for user in random_users:\n",
    "    # Получаем релевантные книги (с оценкой 4 или 5)\n",
    "    relevant_books = ratings[(ratings['user_id'] == user) & (ratings['rating'] >= 4)]['book_id'].tolist()\n",
    "    \n",
    "    # Получаем рекомендации\n",
    "    recommendations = model_advanced.recommend(user, sparse.csr_matrix(matrix_test)[user])[0]#popular_recommendations[user]\n",
    "    \n",
    "    # Рассчитываем AP@10\n",
    "    ap_score = apk(relevant_books, recommendations, k=10)\n",
    "    ap_scores_popular.append(ap_score)\n",
    "\n",
    "# Усреднение AP@10 по всем пользователям\n",
    "mean_ap_popular_model_advabced_test2 = sum(ap_scores_popular) / len(ap_scores_popular)\n",
    "print(f\"Средний AP@10 для бейзлайна на основе популярных книг: {mean_ap_popular:.4f}\")\n",
    "print(f\"Средний AP@10 для бейзлайна на основе популярных книг matrix: {mean_ap_popular_matrix:.4f}\")\n",
    "print(f\"Средний AP@10 для бейзлайна на основе популярных книг test: {mean_ap_popular_test:.4f}\")\n",
    "print(f\"Средний AP@10 для бейзлайна на основе популярных книг model_base_train: {mean_ap_popular_model_base:.4f}\")\n",
    "print(f\"Средний AP@10 для бейзлайна на основе популярных книг model_base_test: {mean_ap_popular_model_base_test:.4f}\")\n",
    "print(f\"Средний AP@10 для бейзлайна на основе популярных книг model_advanced_train: {mean_ap_popular_model_advabced:.4f}\")\n",
    "print(f\"Средний AP@10 для бейзлайна на основе популярных книг model_advanced_test: {mean_ap_popular_model_advabced_test2:.4f}\")"
   ]
  },
  {
   "cell_type": "markdown",
   "metadata": {},
   "source": [
    "## Результаты и выводы."
   ]
  },
  {
   "cell_type": "code",
   "execution_count": 40,
   "metadata": {},
   "outputs": [
    {
     "name": "stdout",
     "output_type": "stream",
     "text": [
      "Результаты эксперементов для случайного бейзлайна без учета рейтингов книг\n",
      "**********\n",
      "Средний AP@10 для случайного бейзлайна: 0.0000\n",
      "Средний AP@10 для случайного бейзлайна matrix: 0.0023\n",
      "Средний AP@10 для случайного бейзлайна на matrix_test: 0.0025\n",
      "Средний AP@10 для случайного бейзлайна model_base_train: 0.0135\n",
      "Средний AP@10 для случайного бейзлайна model_base_test: 0.0023\n",
      "Средний AP@10 для случайного бейзлайна model_advanced_train: 0.0216\n",
      "Средний AP@10 для случайного бейзлайна model_advanced_test: 0.0276\n",
      "**********\n",
      "Результаты эксперементов для бейзлайна на основе популярных книг\n",
      "**********\n",
      "Средний AP@10 для бейзлайна на основе популярных книг: 0.1595\n",
      "Средний AP@10 для бейзлайна на основе популярных книг matrix: 0.1511\n",
      "Средний AP@10 для бейзлайна на основе популярных книг test: 0.1516\n",
      "Средний AP@10 для бейзлайна на основе популярных книг model_base_train: 0.0135\n",
      "Средний AP@10 для бейзлайна на основе популярных книг model_base_test: 0.0207\n",
      "Средний AP@10 для бейзлайна на основе популярных книг model_advanced_train: 0.0216\n",
      "Средний AP@10 для бейзлайна на основе популярных книг model_advanced_test: 0.0276\n"
     ]
    }
   ],
   "source": [
    "print('Результаты эксперементов для случайного бейзлайна без учета рейтингов книг')\n",
    "print('*'*10)\n",
    "print(f\"Средний AP@10 для случайного бейзлайна: {mean_ap_random:.4f}\")\n",
    "print(f\"Средний AP@10 для случайного бейзлайна matrix: {mean_ap_random_matrix:.4f}\")\n",
    "print(f\"Средний AP@10 для случайного бейзлайна на matrix_test: {mean_ap_random_matrix_test:.4f}\")\n",
    "print(f\"Средний AP@10 для случайного бейзлайна model_base_train: {mean_ap_random_model_base:.4f}\")\n",
    "print(f\"Средний AP@10 для случайного бейзлайна model_base_test: {mean_ap_random_model_base_test:.4f}\")\n",
    "print(f\"Средний AP@10 для случайного бейзлайна model_advanced_train: {mean_ap_random_model_advanced:.4f}\")\n",
    "print(f\"Средний AP@10 для случайного бейзлайна model_advanced_test: {mean_ap_random_model_advanced_test:.4f}\")\n",
    "print('*'*10)\n",
    "print('Результаты эксперементов для бейзлайна на основе популярных книг')\n",
    "print('*'*10)\n",
    "print(f\"Средний AP@10 для бейзлайна на основе популярных книг: {mean_ap_popular:.4f}\")\n",
    "print(f\"Средний AP@10 для бейзлайна на основе популярных книг matrix: {mean_ap_popular_matrix:.4f}\")\n",
    "print(f\"Средний AP@10 для бейзлайна на основе популярных книг test: {mean_ap_popular_test:.4f}\")\n",
    "print(f\"Средний AP@10 для бейзлайна на основе популярных книг model_base_train: {mean_ap_popular_model_base:.4f}\")\n",
    "print(f\"Средний AP@10 для бейзлайна на основе популярных книг model_base_test: {mean_ap_popular_model_base_test:.4f}\")\n",
    "print(f\"Средний AP@10 для бейзлайна на основе популярных книг model_advanced_train: {mean_ap_popular_model_advabced:.4f}\")\n",
    "print(f\"Средний AP@10 для бейзлайна на основе популярных книг model_advanced_test: {mean_ap_popular_model_advabced_test2:.4f}\")"
   ]
  },
  {
   "cell_type": "markdown",
   "metadata": {},
   "source": [
    "### Случайный бейзлайн."
   ]
  },
  {
   "cell_type": "markdown",
   "metadata": {},
   "source": [
    "\n",
    "Значение AP@10 для случайного бейзлайна (0.0000) указывает на то, что ни одна из рекомендованных книг не совпала с релевантными книгами, что вполне ожидаемо для случайных рекомендаций.\n",
    "\n",
    "Значения AP@10 для разреженной матрицы (matrix) и matrix_test (по 0.0015) показывают небольшое улучшение, но все еще очень низкие результаты, что говорит о том, что даже в этих случаях рекомендации не соответствуют ожиданиям пользователей.\n",
    "    \n",
    "Показатели model_base_train и model_advanced_train значительно выше, что указывает на то, что обученные модели могут предоставлять более релевантные рекомендации по сравнению с простыми случайными рекомендациями.\n"
   ]
  },
  {
   "cell_type": "markdown",
   "metadata": {},
   "source": [
    "### Бейзлайн на основе популярных книг."
   ]
  },
  {
   "cell_type": "markdown",
   "metadata": {},
   "source": [
    "\n",
    "Значение AP@10 для бейзлайна на основе популярных книг (0.1449) значительно выше, чем у случайного бейзлайна, что подтверждает эффективность использования популярности книг как стратегии рекомендаций.\n",
    "    \n",
    "Результаты для различных разреженных матриц (matrix и test) также показывают небольшое снижение, но остаются достаточно высокими по сравнению с результатами случайного бейзлайна.\n",
    "    \n",
    "Показатели для обученных моделей (model_base и model_advanced) остаются низкими по сравнению с популярными рекомендациями, но их значения все же выше, чем у случайного подхода.\n"
   ]
  },
  {
   "cell_type": "markdown",
   "metadata": {},
   "source": [
    "Использование популярности книг как метода рекомендации показывает значительное улучшение по сравнению с случайным методом, что подчеркивает важность учета исторических данных о предпочтениях пользователей."
   ]
  },
  {
   "cell_type": "code",
   "execution_count": null,
   "metadata": {},
   "outputs": [],
   "source": []
  }
 ],
 "metadata": {
  "kernelspec": {
   "display_name": "base",
   "language": "python",
   "name": "python3"
  },
  "language_info": {
   "codemirror_mode": {
    "name": "ipython",
    "version": 3
   },
   "file_extension": ".py",
   "mimetype": "text/x-python",
   "name": "python",
   "nbconvert_exporter": "python",
   "pygments_lexer": "ipython3",
   "version": "3.11.7"
  }
 },
 "nbformat": 4,
 "nbformat_minor": 2
}
